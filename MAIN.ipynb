{
 "cells": [
  {
   "cell_type": "markdown",
   "metadata": {},
   "source": [
    "# Traffic Detection using Image Classification and Object Detection\n",
    " Two different model architectures would be used to train the custom model. For image classification and object detection, respectively, \n",
    " the **EfficientNet** and **YOLO** models were chosen for their reliability and fast inference times, effective for real-time processing."
   ]
  },
  {
   "cell_type": "markdown",
   "metadata": {},
   "source": [
    "### Dataset\n",
    "- COCO 2017 https://cocodataset.org/ \n",
    "- Traffic-Netv1 https://github.com/OlafenwaMoses/Traffic-Net/releases"
   ]
  },
  {
   "cell_type": "markdown",
   "metadata": {},
   "source": [
    "Importing COCO "
   ]
  },
  {
   "cell_type": "code",
   "execution_count": 3,
   "metadata": {},
   "outputs": [],
   "source": [
    "import fiftyone as fo\n",
    "import fiftyone.zoo as foz"
   ]
  },
  {
   "cell_type": "code",
   "execution_count": 40,
   "metadata": {},
   "outputs": [
    {
     "name": "stdout",
     "output_type": "stream",
     "text": [
      "Downloading split 'train' to '/Users/bualoydgreat/fiftyone/coco-2017/train' if necessary\n",
      "Downloading annotations to '/Users/bualoydgreat/fiftyone/coco-2017/tmp-download/annotations_trainval2017.zip'\n",
      " 100% |██████|    1.9Gb/1.9Gb [1.6m elapsed, 0s remaining, 26.3Mb/s]        \n",
      "Extracting annotations to '/Users/bualoydgreat/fiftyone/coco-2017/raw/instances_train2017.json'\n",
      "Downloading 5000 images\n",
      " 100% |████████████████| 5000/5000 [18.0m elapsed, 0s remaining, 2.9 images/s]      \n",
      "Writing annotations for 5000 downloaded samples to '/Users/bualoydgreat/fiftyone/coco-2017/train/labels.json'\n",
      "Downloading split 'validation' to '/Users/bualoydgreat/fiftyone/coco-2017/validation' if necessary\n",
      "Found annotations at '/Users/bualoydgreat/fiftyone/coco-2017/raw/instances_val2017.json'\n",
      "Only found 2968 (<5000) samples matching your requirements\n",
      "Downloading 2968 images\n",
      " 100% |████████████████| 2968/2968 [11.0m elapsed, 0s remaining, 3.0 images/s]      \n",
      "Writing annotations for 2968 downloaded samples to '/Users/bualoydgreat/fiftyone/coco-2017/validation/labels.json'\n",
      "Dataset info written to '/Users/bualoydgreat/fiftyone/coco-2017/info.json'\n",
      "Loading 'coco-2017' split 'train'\n",
      " 100% |███████████████| 5000/5000 [9.2s elapsed, 0s remaining, 546.0 samples/s]       \n",
      "Loading 'coco-2017' split 'validation'\n",
      " 100% |███████████████| 2968/2968 [5.6s elapsed, 0s remaining, 545.7 samples/s]      \n",
      "Dataset 'coco-2017-train-validation-5000' created\n"
     ]
    }
   ],
   "source": [
    "# Define the classes and maximum samples per class\n",
    "classes = [\"person\", \"bicycle\", \"motorcycle\", \"bus\", \"truck\", \"car\"]\n",
    "\n",
    "# Load COCO dataset with annotations filtered for classes\n",
    "detection_dataset = foz.load_zoo_dataset(\n",
    "    \"coco-2017\",\n",
    "    splits=[\"train\",\"validation\"],\n",
    "    label_types=[\"detections\"],\n",
    "    classes=classes,\n",
    "    include_id=False,\n",
    "    include_license=False,\n",
    "    only_matching=True,\n",
    "    seed=12,\n",
    "    max_samples=5000, \n",
    "    progress=True\n",
    ")\n"
   ]
  },
  {
   "cell_type": "code",
   "execution_count": null,
   "metadata": {},
   "outputs": [],
   "source": [
    "session = fo.launch_app(detection_dataset)"
   ]
  },
  {
   "cell_type": "code",
   "execution_count": 43,
   "metadata": {},
   "outputs": [
    {
     "name": "stdout",
     "output_type": "stream",
     "text": [
      " 100% |███████████████| 5000/5000 [8.0s elapsed, 0s remaining, 687.3 samples/s]       \n",
      "Directory '/Users/bualoydgreat/PERSONAL-TEMPS/optimized-traffic-light-computer-vision/dataset/yolo' already exists; export will be merged with existing files\n",
      " 100% |███████████████| 2968/2968 [4.4s elapsed, 0s remaining, 716.8 samples/s]      \n"
     ]
    }
   ],
   "source": [
    "# Export the filtered dataset to COCO format\n",
    "export_dir = \"/Users/bualoydgreat/PERSONAL-TEMPS/optimized-traffic-light-computer-vision/dataset/yolo\"\n",
    "\n",
    "# The splits to export\n",
    "splits = [\"train\", \"validation\"]\n",
    "\n",
    "# Export the splits\n",
    "for split in splits:\n",
    "    split_view = detection_dataset.match_tags(split)\n",
    "    split_view.export(\n",
    "        export_dir=export_dir,\n",
    "        dataset_type=fo.types.YOLOv5Dataset,\n",
    "        label_field=\"ground_truth\",\n",
    "        split=split,\n",
    "        classes=classes,\n",
    "    )"
   ]
  },
  {
   "cell_type": "markdown",
   "metadata": {},
   "source": [
    "Importing Traffic-Net v1"
   ]
  },
  {
   "cell_type": "code",
   "execution_count": 47,
   "metadata": {},
   "outputs": [],
   "source": [
    "!curl -L https://github.com/OlafenwaMoses/Traffic-Net/releases/download/1.0/trafficnet_dataset_v1.zip > trafficnet.zip\n",
    "!unzip trafficnet.zip\n",
    "#!sudo rm trafficnet.zip\n",
    "#!sudo mv trafficnet_dataset_v1 /dataset/trafficnet"
   ]
  },
  {
   "cell_type": "markdown",
   "metadata": {},
   "source": [
    "## Object Detection\n",
    "Using Ultralytics YOLOv8 to train the model."
   ]
  },
  {
   "cell_type": "markdown",
   "metadata": {},
   "source": [
    "### Training"
   ]
  },
  {
   "cell_type": "code",
   "execution_count": null,
   "metadata": {},
   "outputs": [],
   "source": [
    "from ultralytics import YOLO\n",
    "\n",
    "# Load a model\n",
    "model = YOLO('yolov8n.pt')  # load a pretrained model (recommended for training)\n",
    "\n",
    "# Train the model using M1/M2\n",
    "results = model.train(data='dataset.yaml', epochs=100, imgsz=640, device='mps')"
   ]
  }
 ],
 "metadata": {
  "kernelspec": {
   "display_name": "optimized-traffic-light-computer-vision-qFVulMxY",
   "language": "python",
   "name": "python3"
  },
  "language_info": {
   "codemirror_mode": {
    "name": "ipython",
    "version": 3
   },
   "file_extension": ".py",
   "mimetype": "text/x-python",
   "name": "python",
   "nbconvert_exporter": "python",
   "pygments_lexer": "ipython3",
   "version": "3.9.16"
  }
 },
 "nbformat": 4,
 "nbformat_minor": 2
}
