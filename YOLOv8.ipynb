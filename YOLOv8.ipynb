{
 "cells": [
  {
   "cell_type": "markdown",
   "metadata": {},
   "source": [
    "## Ultralytics YOLOv8 \n",
    "\n",
    "<a target=\"_blank\" href=\"https://colab.research.google.com/github/dyi-el/optimized-traffic-light-computer-vision/blob/main/YOLOv8.ipynb\">\n",
    "  <img src=\"https://colab.research.google.com/assets/colab-badge.svg\" alt=\"Open In Colab\"/>\n",
    "</a>\n",
    "\n",
    "For training using Google Colab"
   ]
  },
  {
   "cell_type": "markdown",
   "metadata": {},
   "source": [
    "### Setup\n",
    "Install and check dependencies"
   ]
  },
  {
   "cell_type": "code",
   "execution_count": null,
   "metadata": {},
   "outputs": [],
   "source": [
    "%pip install fiftyone\n",
    "%pip install ultralytics\n",
    "import ultralytics\n",
    "ultralytics.checks()"
   ]
  },
  {
   "cell_type": "markdown",
   "metadata": {},
   "source": [
    "Using FiftyOne https://docs.voxel51.com/user_guide/dataset_zoo/datasets.html#coco-2017, we can download the needed annotated data from COCO."
   ]
  },
  {
   "cell_type": "code",
   "execution_count": null,
   "metadata": {},
   "outputs": [],
   "source": [
    "import fiftyone as fo\n",
    "import fiftyone.zoo as foz\n",
    "\n",
    "# Define the classes and maximum samples per class\n",
    "classes = [\"person\", \"bicycle\", \"motorcycle\", \"bus\", \"truck\", \"car\"]\n",
    "\n",
    "# Load COCO dataset with annotations filtered for classes\n",
    "detection_dataset = foz.load_zoo_dataset(\n",
    "    \"coco-2017\",\n",
    "    splits=[\"train\",\"validation\"],\n",
    "    label_types=[\"detections\"],\n",
    "    classes=classes,\n",
    "    include_id=False,\n",
    "    include_license=False,\n",
    "    only_matching=True,\n",
    "    seed=12,\n",
    "    max_samples=8000, \n",
    "    progress=True\n",
    ")"
   ]
  },
  {
   "cell_type": "code",
   "execution_count": null,
   "metadata": {},
   "outputs": [],
   "source": [
    "# Export the filtered dataset to COCO format\n",
    "export_dir = \"/coco\"\n",
    "\n",
    "# The splits to export\n",
    "splits = [\"train\", \"validation\"]\n",
    "\n",
    "# Export the splits\n",
    "for split in splits:\n",
    "    split_view = detection_dataset.match_tags(split)\n",
    "    split_view.export(\n",
    "        export_dir=export_dir,\n",
    "        dataset_type=fo.types.YOLOv5Dataset,\n",
    "        label_field=\"ground_truth\",\n",
    "        split=split,\n",
    "        classes=classes,\n",
    "    )"
   ]
  },
  {
   "cell_type": "markdown",
   "metadata": {},
   "source": [
    "### Train"
   ]
  },
  {
   "cell_type": "code",
   "execution_count": null,
   "metadata": {},
   "outputs": [],
   "source": [
    "#@title Select YOLOv8 🚀 logger {run: 'auto'}\n",
    "logger = 'Comet' #@param ['Comet', 'TensorBoard']\n",
    "\n",
    "if logger == 'Comet':\n",
    "  %pip install -q comet_ml\n",
    "  import comet_ml; comet_ml.init()\n",
    "elif logger == 'TensorBoard':\n",
    "  %load_ext tensorboard\n",
    "  %tensorboard --logdir ."
   ]
  },
  {
   "cell_type": "markdown",
   "metadata": {},
   "source": [
    "Move the dataset.yaml to the working directory."
   ]
  },
  {
   "cell_type": "code",
   "execution_count": null,
   "metadata": {},
   "outputs": [],
   "source": [
    "# Training mode\n",
    "!yolo train model=yolov8n.pt data=dataset.yaml epochs=3 imgsz=640"
   ]
  },
  {
   "cell_type": "markdown",
   "metadata": {},
   "source": [
    "### Validation"
   ]
  },
  {
   "cell_type": "code",
   "execution_count": null,
   "metadata": {},
   "outputs": [],
   "source": [
    "# Validation mode\n",
    "!yolo val model=yolov8n.pt data=dataset.yaml"
   ]
  },
  {
   "cell_type": "markdown",
   "metadata": {},
   "source": [
    "### Export"
   ]
  },
  {
   "cell_type": "code",
   "execution_count": null,
   "metadata": {},
   "outputs": [],
   "source": [
    "!yolo export model=yolov8n.pt format=torchscript"
   ]
  }
 ],
 "metadata": {
  "kernelspec": {
   "display_name": "optimized-traffic-light-computer-vision-qFVulMxY",
   "language": "python",
   "name": "python3"
  },
  "language_info": {
   "name": "python",
   "version": "3.9.16"
  }
 },
 "nbformat": 4,
 "nbformat_minor": 2
}
