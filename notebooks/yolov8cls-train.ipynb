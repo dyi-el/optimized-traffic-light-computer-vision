{
  "cells": [
    {
      "cell_type": "markdown",
      "metadata": {
        "id": "view-in-github",
        "colab_type": "text"
      },
      "source": [
        "<a href=\"https://colab.research.google.com/github/dyi-el/optimized-traffic-light-computer-vision/blob/main/notebooks/yolov8cls-train.ipynb\" target=\"_parent\"><img src=\"https://colab.research.google.com/assets/colab-badge.svg\" alt=\"Open In Colab\"/></a>"
      ]
    },
    {
      "cell_type": "markdown",
      "metadata": {
        "id": "oe9vkEvFABbN"
      },
      "source": [
        "\n",
        "# Train YOLOv8 Classification Traffic Density\n",
        "\n",
        "---\n",
        "\n",
        "Ultralytics YOLOv8 is the latest version of the YOLO (You Only Look Once) object detection and image segmentation model developed by Ultralytics. The YOLOv8 model is designed to be fast, accurate, and easy to use, making it an excellent choice for a wide range of object detection and image segmentation tasks. It can be trained on large datasets and is capable of running on a variety of hardware platforms, from CPUs to GPUs.\n",
        "\n",
        "**Let's begin!**"
      ]
    },
    {
      "cell_type": "markdown",
      "metadata": {
        "id": "FyRdDYkqAKN4"
      },
      "source": [
        "## Before you start\n",
        "\n",
        "Let's make sure that we have access to GPU. We can use `nvidia-smi` command to do that. In case of any problems navigate to `Edit` -> `Notebook settings` -> `Hardware accelerator`, set it to `GPU`, and then click `Save`."
      ]
    },
    {
      "cell_type": "code",
      "execution_count": 1,
      "metadata": {
        "colab": {
          "base_uri": "https://localhost:8080/"
        },
        "id": "Y8cDtxLIBHgQ",
        "outputId": "889bb4e4-9fe3-4ea1-d333-1827d8b39748"
      },
      "outputs": [
        {
          "output_type": "stream",
          "name": "stdout",
          "text": [
            "Tue Apr 16 07:03:15 2024       \n",
            "+---------------------------------------------------------------------------------------+\n",
            "| NVIDIA-SMI 535.104.05             Driver Version: 535.104.05   CUDA Version: 12.2     |\n",
            "|-----------------------------------------+----------------------+----------------------+\n",
            "| GPU  Name                 Persistence-M | Bus-Id        Disp.A | Volatile Uncorr. ECC |\n",
            "| Fan  Temp   Perf          Pwr:Usage/Cap |         Memory-Usage | GPU-Util  Compute M. |\n",
            "|                                         |                      |               MIG M. |\n",
            "|=========================================+======================+======================|\n",
            "|   0  Tesla T4                       Off | 00000000:00:04.0 Off |                    0 |\n",
            "| N/A   47C    P8               9W /  70W |      0MiB / 15360MiB |      0%      Default |\n",
            "|                                         |                      |                  N/A |\n",
            "+-----------------------------------------+----------------------+----------------------+\n",
            "                                                                                         \n",
            "+---------------------------------------------------------------------------------------+\n",
            "| Processes:                                                                            |\n",
            "|  GPU   GI   CI        PID   Type   Process name                            GPU Memory |\n",
            "|        ID   ID                                                             Usage      |\n",
            "|=======================================================================================|\n",
            "|  No running processes found                                                           |\n",
            "+---------------------------------------------------------------------------------------+\n"
          ]
        }
      ],
      "source": [
        "!nvidia-smi"
      ]
    },
    {
      "cell_type": "code",
      "execution_count": 2,
      "metadata": {
        "colab": {
          "base_uri": "https://localhost:8080/"
        },
        "id": "CjpPg4mGKc1v",
        "outputId": "c81fdd73-031e-4648-f856-f3c760523214"
      },
      "outputs": [
        {
          "output_type": "stream",
          "name": "stdout",
          "text": [
            "/content\n"
          ]
        }
      ],
      "source": [
        "import os\n",
        "HOME = os.getcwd()\n",
        "print(HOME)"
      ]
    },
    {
      "cell_type": "markdown",
      "metadata": {
        "id": "3C3EO_2zNChu"
      },
      "source": [
        "## Install YOLOv8\n"
      ]
    },
    {
      "cell_type": "code",
      "execution_count": 3,
      "metadata": {
        "colab": {
          "base_uri": "https://localhost:8080/"
        },
        "id": "tdSMcABDNKW-",
        "outputId": "04a59e5d-b7ba-4b42-b072-cfe1d02a8c2a"
      },
      "outputs": [
        {
          "output_type": "stream",
          "name": "stdout",
          "text": [
            "Ultralytics YOLOv8.1.47 🚀 Python-3.10.12 torch-2.2.1+cu121 CUDA:0 (Tesla T4, 15102MiB)\n",
            "Setup complete ✅ (2 CPUs, 12.7 GB RAM, 29.0/78.2 GB disk)\n"
          ]
        }
      ],
      "source": [
        "# Pip install method (recommended)\n",
        "\n",
        "!pip install ultralytics\n",
        "\n",
        "from IPython import display\n",
        "display.clear_output()\n",
        "\n",
        "import ultralytics\n",
        "ultralytics.checks()"
      ]
    },
    {
      "cell_type": "code",
      "execution_count": 4,
      "metadata": {
        "id": "VOEYrlBoP9-E"
      },
      "outputs": [],
      "source": [
        "from ultralytics import YOLO\n",
        "\n",
        "from IPython.display import display, Image"
      ]
    },
    {
      "cell_type": "code",
      "execution_count": 6,
      "metadata": {
        "colab": {
          "base_uri": "https://localhost:8080/"
        },
        "id": "BSd93ZJzZZKt",
        "outputId": "2edec0f9-ef23-4140-b035-7dcb5176c58e"
      },
      "outputs": [
        {
          "output_type": "stream",
          "name": "stdout",
          "text": [
            "Enter the API KEY: ··········\n",
            "loading Roboflow workspace...\n",
            "loading Roboflow project...\n"
          ]
        },
        {
          "output_type": "stream",
          "name": "stderr",
          "text": [
            "Downloading Dataset Version Zip in traffic-density-4k-2 to folder:: 100%|██████████| 117397/117397 [00:02<00:00, 55035.53it/s]"
          ]
        },
        {
          "output_type": "stream",
          "name": "stdout",
          "text": [
            "\n"
          ]
        },
        {
          "output_type": "stream",
          "name": "stderr",
          "text": [
            "\n",
            "Extracting Dataset Version Zip to traffic-density-4k-2 in folder:: 100%|██████████| 10486/10486 [00:01<00:00, 6014.33it/s]\n"
          ]
        }
      ],
      "source": [
        "!pip install roboflow --quiet\n",
        "from getpass import getpass\n",
        "from roboflow import Roboflow\n",
        "\n",
        "secret = getpass('Enter the API KEY: ')\n",
        "rf = Roboflow(api_key=secret)\n",
        "project = rf.workspace(\"dyiel\").project(\"traffic-density-4k\")\n",
        "version = project.version(2)\n",
        "dataset = version.download(\"folder\")"
      ]
    },
    {
      "cell_type": "markdown",
      "metadata": {
        "id": "YUjFBKKqXa-u"
      },
      "source": [
        "## Custom Training"
      ]
    },
    {
      "cell_type": "code",
      "execution_count": 8,
      "metadata": {
        "colab": {
          "base_uri": "https://localhost:8080/"
        },
        "id": "D2YkphuiaE7_",
        "outputId": "99c86034-06e7-4e19-9b31-f1f7e04e77f0"
      },
      "outputs": [
        {
          "output_type": "stream",
          "name": "stdout",
          "text": [
            "/content\n",
            "Ultralytics YOLOv8.1.47 🚀 Python-3.10.12 torch-2.2.1+cu121 CUDA:0 (Tesla T4, 15102MiB)\n",
            "\u001b[34m\u001b[1mengine/trainer: \u001b[0mtask=classify, mode=train, model=yolov8n-cls.pt, data=/content/traffic-density-4k-2, epochs=100, time=None, patience=100, batch=32, imgsz=128, save=True, save_period=-1, cache=False, device=None, workers=8, project=None, name=train2, exist_ok=False, pretrained=True, optimizer=auto, verbose=True, seed=0, deterministic=True, single_cls=False, rect=False, cos_lr=False, close_mosaic=10, resume=False, amp=True, fraction=1.0, profile=False, freeze=None, multi_scale=False, overlap_mask=True, mask_ratio=4, dropout=0.0, val=True, split=val, save_json=False, save_hybrid=False, conf=None, iou=0.7, max_det=300, half=False, dnn=False, plots=True, source=None, vid_stride=1, stream_buffer=False, visualize=False, augment=False, agnostic_nms=False, classes=None, retina_masks=False, embed=None, show=False, save_frames=False, save_txt=False, save_conf=False, save_crop=False, show_labels=True, show_conf=True, show_boxes=True, line_width=None, format=torchscript, keras=False, optimize=False, int8=False, dynamic=False, simplify=False, opset=None, workspace=4, nms=False, lr0=0.001, lrf=0.01, momentum=0.937, weight_decay=0.0005, warmup_epochs=3.0, warmup_momentum=0.8, warmup_bias_lr=0.1, box=7.5, cls=0.5, dfl=1.5, pose=12.0, kobj=1.0, label_smoothing=0.0, nbs=64, hsv_h=0.015, hsv_s=0.7, hsv_v=0.4, degrees=0.0, translate=0.1, scale=0.5, shear=0.0, perspective=0.0, flipud=0.0, fliplr=0.5, bgr=0.0, mosaic=1.0, mixup=0.0, copy_paste=0.0, auto_augment=randaugment, erasing=0.4, crop_fraction=1.0, cfg=None, tracker=botsort.yaml, save_dir=runs/classify/train2\n",
            "\u001b[34m\u001b[1mtrain:\u001b[0m /content/traffic-density-4k-2/train... found 9150 images in 4 classes ✅ \n",
            "\u001b[34m\u001b[1mval:\u001b[0m None...\n",
            "\u001b[34m\u001b[1mtest:\u001b[0m /content/traffic-density-4k-2/test... found 443 images in 4 classes ✅ \n",
            "2024-04-16 07:10:56.972676: E external/local_xla/xla/stream_executor/cuda/cuda_dnn.cc:9261] Unable to register cuDNN factory: Attempting to register factory for plugin cuDNN when one has already been registered\n",
            "2024-04-16 07:10:56.972741: E external/local_xla/xla/stream_executor/cuda/cuda_fft.cc:607] Unable to register cuFFT factory: Attempting to register factory for plugin cuFFT when one has already been registered\n",
            "2024-04-16 07:10:56.974222: E external/local_xla/xla/stream_executor/cuda/cuda_blas.cc:1515] Unable to register cuBLAS factory: Attempting to register factory for plugin cuBLAS when one has already been registered\n",
            "Overriding model.yaml nc=1000 with nc=4\n",
            "\n",
            "                   from  n    params  module                                       arguments                     \n",
            "  0                  -1  1       464  ultralytics.nn.modules.conv.Conv             [3, 16, 3, 2]                 \n",
            "  1                  -1  1      4672  ultralytics.nn.modules.conv.Conv             [16, 32, 3, 2]                \n",
            "  2                  -1  1      7360  ultralytics.nn.modules.block.C2f             [32, 32, 1, True]             \n",
            "  3                  -1  1     18560  ultralytics.nn.modules.conv.Conv             [32, 64, 3, 2]                \n",
            "  4                  -1  2     49664  ultralytics.nn.modules.block.C2f             [64, 64, 2, True]             \n",
            "  5                  -1  1     73984  ultralytics.nn.modules.conv.Conv             [64, 128, 3, 2]               \n",
            "  6                  -1  2    197632  ultralytics.nn.modules.block.C2f             [128, 128, 2, True]           \n",
            "  7                  -1  1    295424  ultralytics.nn.modules.conv.Conv             [128, 256, 3, 2]              \n",
            "  8                  -1  1    460288  ultralytics.nn.modules.block.C2f             [256, 256, 1, True]           \n",
            "  9                  -1  1    335364  ultralytics.nn.modules.head.Classify         [256, 4]                      \n",
            "YOLOv8n-cls summary: 99 layers, 1443412 parameters, 1443412 gradients, 3.4 GFLOPs\n",
            "Transferred 156/158 items from pretrained weights\n",
            "\u001b[34m\u001b[1mTensorBoard: \u001b[0mStart with 'tensorboard --logdir runs/classify/train2', view at http://localhost:6006/\n",
            "\u001b[34m\u001b[1mAMP: \u001b[0mrunning Automatic Mixed Precision (AMP) checks with YOLOv8n...\n",
            "\u001b[34m\u001b[1mAMP: \u001b[0mchecks passed ✅\n",
            "\u001b[34m\u001b[1mtrain: \u001b[0mScanning /content/traffic-density-4k-2/train... 9150 images, 0 corrupt: 100% 9150/9150 [00:00<?, ?it/s]\n",
            "/usr/lib/python3.10/multiprocessing/popen_fork.py:66: RuntimeWarning: os.fork() was called. os.fork() is incompatible with multithreaded code, and JAX is multithreaded, so this will likely lead to a deadlock.\n",
            "  self.pid = os.fork()\n",
            "\u001b[34m\u001b[1mval: \u001b[0mScanning /content/traffic-density-4k-2/test... 443 images, 0 corrupt: 100% 443/443 [00:00<?, ?it/s]\n",
            "\u001b[34m\u001b[1moptimizer:\u001b[0m 'optimizer=auto' found, ignoring 'lr0=0.001' and 'momentum=0.937' and determining best 'optimizer', 'lr0' and 'momentum' automatically... \n",
            "\u001b[34m\u001b[1moptimizer:\u001b[0m SGD(lr=0.01, momentum=0.9) with parameter groups 26 weight(decay=0.0), 27 weight(decay=0.0005), 27 bias(decay=0.0)\n",
            "\u001b[34m\u001b[1mTensorBoard: \u001b[0mmodel graph visualization added ✅\n",
            "Image sizes 128 train, 128 val\n",
            "Using 2 dataloader workers\n",
            "Logging results to \u001b[1mruns/classify/train2\u001b[0m\n",
            "Starting training for 100 epochs...\n",
            "\n",
            "      Epoch    GPU_mem       loss  Instances       Size\n",
            "      1/100     0.415G     0.7123         30        128: 100% 286/286 [00:37<00:00,  7.58it/s]\n",
            "               classes   top1_acc   top5_acc: 100% 7/7 [00:00<00:00,  9.12it/s]\n",
            "                   all      0.885          1\n",
            "\n",
            "      Epoch    GPU_mem       loss  Instances       Size\n",
            "      2/100     0.396G      0.341         30        128: 100% 286/286 [00:36<00:00,  7.76it/s]\n",
            "               classes   top1_acc   top5_acc: 100% 7/7 [00:00<00:00, 10.14it/s]\n",
            "                   all      0.923          1\n",
            "\n",
            "      Epoch    GPU_mem       loss  Instances       Size\n",
            "      3/100     0.396G     0.3055         30        128: 100% 286/286 [00:35<00:00,  8.12it/s]\n",
            "               classes   top1_acc   top5_acc: 100% 7/7 [00:00<00:00,  7.84it/s]\n",
            "                   all      0.919          1\n",
            "\n",
            "      Epoch    GPU_mem       loss  Instances       Size\n",
            "      4/100     0.396G     0.3596         30        128: 100% 286/286 [00:34<00:00,  8.27it/s]\n",
            "               classes   top1_acc   top5_acc: 100% 7/7 [00:00<00:00,  9.06it/s]\n",
            "                   all      0.883          1\n",
            "\n",
            "      Epoch    GPU_mem       loss  Instances       Size\n",
            "      5/100     0.396G     0.2999         30        128: 100% 286/286 [00:35<00:00,  8.04it/s]\n",
            "               classes   top1_acc   top5_acc: 100% 7/7 [00:00<00:00,  9.39it/s]\n",
            "                   all      0.903          1\n",
            "\n",
            "      Epoch    GPU_mem       loss  Instances       Size\n",
            "      6/100     0.396G     0.2372         30        128: 100% 286/286 [00:35<00:00,  8.04it/s]\n",
            "               classes   top1_acc   top5_acc: 100% 7/7 [00:00<00:00,  8.51it/s]\n",
            "                   all      0.916          1\n",
            "\n",
            "      Epoch    GPU_mem       loss  Instances       Size\n",
            "      7/100     0.396G     0.2209         30        128: 100% 286/286 [00:35<00:00,  8.10it/s]\n",
            "               classes   top1_acc   top5_acc: 100% 7/7 [00:00<00:00,  8.39it/s]\n",
            "                   all      0.921          1\n",
            "\n",
            "      Epoch    GPU_mem       loss  Instances       Size\n",
            "      8/100     0.396G     0.1802         30        128: 100% 286/286 [00:34<00:00,  8.32it/s]\n",
            "               classes   top1_acc   top5_acc: 100% 7/7 [00:00<00:00,  8.72it/s]\n",
            "                   all      0.939          1\n",
            "\n",
            "      Epoch    GPU_mem       loss  Instances       Size\n",
            "      9/100     0.396G     0.1663         30        128: 100% 286/286 [00:35<00:00,  7.98it/s]\n",
            "               classes   top1_acc   top5_acc: 100% 7/7 [00:00<00:00,  9.72it/s]\n",
            "                   all      0.935          1\n",
            "\n",
            "      Epoch    GPU_mem       loss  Instances       Size\n",
            "     10/100     0.398G     0.1488         30        128: 100% 286/286 [00:35<00:00,  8.02it/s]\n",
            "               classes   top1_acc   top5_acc: 100% 7/7 [00:00<00:00,  8.01it/s]\n",
            "                   all      0.932          1\n",
            "\n",
            "      Epoch    GPU_mem       loss  Instances       Size\n",
            "     11/100     0.398G     0.1241         30        128: 100% 286/286 [00:35<00:00,  8.13it/s]\n",
            "               classes   top1_acc   top5_acc: 100% 7/7 [00:01<00:00,  5.56it/s]\n",
            "                   all       0.93          1\n",
            "\n",
            "      Epoch    GPU_mem       loss  Instances       Size\n",
            "     12/100     0.398G     0.1283         30        128: 100% 286/286 [00:34<00:00,  8.29it/s]\n",
            "               classes   top1_acc   top5_acc: 100% 7/7 [00:00<00:00, 10.01it/s]\n",
            "                   all      0.919          1\n",
            "\n",
            "      Epoch    GPU_mem       loss  Instances       Size\n",
            "     13/100     0.396G     0.1212         30        128: 100% 286/286 [00:35<00:00,  8.07it/s]\n",
            "               classes   top1_acc   top5_acc: 100% 7/7 [00:00<00:00,  9.37it/s]\n",
            "                   all      0.926          1\n",
            "\n",
            "      Epoch    GPU_mem       loss  Instances       Size\n",
            "     14/100     0.396G    0.09828         30        128: 100% 286/286 [00:35<00:00,  8.07it/s]\n",
            "               classes   top1_acc   top5_acc: 100% 7/7 [00:00<00:00,  8.58it/s]\n",
            "                   all       0.91          1\n",
            "\n",
            "      Epoch    GPU_mem       loss  Instances       Size\n",
            "     15/100     0.396G     0.1083         30        128: 100% 286/286 [00:34<00:00,  8.28it/s]\n",
            "               classes   top1_acc   top5_acc: 100% 7/7 [00:01<00:00,  5.84it/s]\n",
            "                   all      0.928          1\n",
            "\n",
            "      Epoch    GPU_mem       loss  Instances       Size\n",
            "     16/100     0.396G     0.1022         30        128: 100% 286/286 [00:34<00:00,  8.32it/s]\n",
            "               classes   top1_acc   top5_acc: 100% 7/7 [00:00<00:00,  8.85it/s]\n",
            "                   all      0.921          1\n",
            "\n",
            "      Epoch    GPU_mem       loss  Instances       Size\n",
            "     17/100     0.396G    0.09732         30        128: 100% 286/286 [00:35<00:00,  7.98it/s]\n",
            "               classes   top1_acc   top5_acc: 100% 7/7 [00:00<00:00,  9.49it/s]\n",
            "                   all      0.914          1\n",
            "\n",
            "      Epoch    GPU_mem       loss  Instances       Size\n",
            "     18/100     0.396G    0.09625         30        128: 100% 286/286 [00:35<00:00,  8.07it/s]\n",
            "               classes   top1_acc   top5_acc: 100% 7/7 [00:00<00:00,  8.44it/s]\n",
            "                   all      0.916          1\n",
            "\n",
            "      Epoch    GPU_mem       loss  Instances       Size\n",
            "     19/100     0.396G    0.09957         30        128: 100% 286/286 [00:34<00:00,  8.31it/s]\n",
            "               classes   top1_acc   top5_acc: 100% 7/7 [00:00<00:00,  9.03it/s]\n",
            "                   all      0.926          1\n",
            "\n",
            "      Epoch    GPU_mem       loss  Instances       Size\n",
            "     20/100     0.396G    0.07806         30        128: 100% 286/286 [00:35<00:00,  8.11it/s]\n",
            "               classes   top1_acc   top5_acc: 100% 7/7 [00:00<00:00,  7.46it/s]\n",
            "                   all      0.939          1\n",
            "\n",
            "      Epoch    GPU_mem       loss  Instances       Size\n",
            "     21/100     0.396G     0.0896         30        128: 100% 286/286 [00:35<00:00,  8.06it/s]\n",
            "               classes   top1_acc   top5_acc: 100% 7/7 [00:00<00:00,  8.07it/s]\n",
            "                   all      0.937          1\n",
            "\n",
            "      Epoch    GPU_mem       loss  Instances       Size\n",
            "     22/100     0.396G     0.0856         30        128: 100% 286/286 [00:35<00:00,  8.08it/s]\n",
            "               classes   top1_acc   top5_acc: 100% 7/7 [00:01<00:00,  6.24it/s]\n",
            "                   all      0.937          1\n",
            "\n",
            "      Epoch    GPU_mem       loss  Instances       Size\n",
            "     23/100     0.396G    0.07828         30        128: 100% 286/286 [00:34<00:00,  8.36it/s]\n",
            "               classes   top1_acc   top5_acc: 100% 7/7 [00:00<00:00,  9.95it/s]\n",
            "                   all      0.916          1\n",
            "\n",
            "      Epoch    GPU_mem       loss  Instances       Size\n",
            "     24/100     0.396G    0.08108         30        128: 100% 286/286 [00:33<00:00,  8.47it/s]\n",
            "               classes   top1_acc   top5_acc: 100% 7/7 [00:00<00:00,  8.92it/s]\n",
            "                   all      0.937          1\n",
            "\n",
            "      Epoch    GPU_mem       loss  Instances       Size\n",
            "     25/100     0.396G    0.07968         30        128: 100% 286/286 [00:30<00:00,  9.25it/s]\n",
            "               classes   top1_acc   top5_acc: 100% 7/7 [00:01<00:00,  6.00it/s]\n",
            "                   all      0.916          1\n",
            "\n",
            "      Epoch    GPU_mem       loss  Instances       Size\n",
            "     26/100     0.396G     0.0681         30        128: 100% 286/286 [00:31<00:00,  9.07it/s]\n",
            "               classes   top1_acc   top5_acc: 100% 7/7 [00:00<00:00,  9.14it/s]\n",
            "                   all      0.912          1\n",
            "\n",
            "      Epoch    GPU_mem       loss  Instances       Size\n",
            "     27/100     0.396G    0.07046         30        128: 100% 286/286 [00:35<00:00,  8.08it/s]\n",
            "               classes   top1_acc   top5_acc: 100% 7/7 [00:00<00:00,  9.39it/s]\n",
            "                   all      0.935          1\n",
            "\n",
            "      Epoch    GPU_mem       loss  Instances       Size\n",
            "     28/100     0.396G    0.07016         30        128: 100% 286/286 [00:34<00:00,  8.28it/s]\n",
            "               classes   top1_acc   top5_acc: 100% 7/7 [00:01<00:00,  5.70it/s]\n",
            "                   all      0.926          1\n",
            "\n",
            "      Epoch    GPU_mem       loss  Instances       Size\n",
            "     29/100     0.396G    0.07316         30        128: 100% 286/286 [00:34<00:00,  8.37it/s]\n",
            "               classes   top1_acc   top5_acc: 100% 7/7 [00:00<00:00,  9.13it/s]\n",
            "                   all      0.928          1\n",
            "\n",
            "      Epoch    GPU_mem       loss  Instances       Size\n",
            "     30/100     0.396G    0.06311         30        128: 100% 286/286 [00:35<00:00,  8.03it/s]\n",
            "               classes   top1_acc   top5_acc: 100% 7/7 [00:00<00:00, 10.45it/s]\n",
            "                   all      0.932          1\n",
            "\n",
            "      Epoch    GPU_mem       loss  Instances       Size\n",
            "     31/100     0.396G    0.06694         30        128: 100% 286/286 [00:35<00:00,  8.09it/s]\n",
            "               classes   top1_acc   top5_acc: 100% 7/7 [00:01<00:00,  6.75it/s]\n",
            "                   all      0.928          1\n",
            "\n",
            "      Epoch    GPU_mem       loss  Instances       Size\n",
            "     32/100     0.396G    0.06837         30        128: 100% 286/286 [00:34<00:00,  8.32it/s]\n",
            "               classes   top1_acc   top5_acc: 100% 7/7 [00:00<00:00,  8.86it/s]\n",
            "                   all      0.926          1\n",
            "\n",
            "      Epoch    GPU_mem       loss  Instances       Size\n",
            "     33/100     0.396G     0.0625         30        128: 100% 286/286 [00:35<00:00,  8.17it/s]\n",
            "               classes   top1_acc   top5_acc: 100% 7/7 [00:00<00:00,  9.37it/s]\n",
            "                   all      0.935          1\n",
            "\n",
            "      Epoch    GPU_mem       loss  Instances       Size\n",
            "     34/100     0.396G    0.06199         30        128: 100% 286/286 [00:34<00:00,  8.18it/s]\n",
            "               classes   top1_acc   top5_acc: 100% 7/7 [00:00<00:00,  8.94it/s]\n",
            "                   all      0.928          1\n",
            "\n",
            "      Epoch    GPU_mem       loss  Instances       Size\n",
            "     35/100     0.396G    0.05459         30        128: 100% 286/286 [00:34<00:00,  8.28it/s]\n",
            "               classes   top1_acc   top5_acc: 100% 7/7 [00:01<00:00,  5.87it/s]\n",
            "                   all      0.923          1\n",
            "\n",
            "      Epoch    GPU_mem       loss  Instances       Size\n",
            "     36/100     0.396G    0.05347         30        128: 100% 286/286 [00:34<00:00,  8.24it/s]\n",
            "               classes   top1_acc   top5_acc: 100% 7/7 [00:00<00:00,  8.38it/s]\n",
            "                   all      0.928          1\n",
            "\n",
            "      Epoch    GPU_mem       loss  Instances       Size\n",
            "     37/100     0.396G    0.05573         30        128: 100% 286/286 [00:35<00:00,  8.04it/s]\n",
            "               classes   top1_acc   top5_acc: 100% 7/7 [00:00<00:00,  9.75it/s]\n",
            "                   all      0.932          1\n",
            "\n",
            "      Epoch    GPU_mem       loss  Instances       Size\n",
            "     38/100     0.396G    0.05401         30        128: 100% 286/286 [00:34<00:00,  8.17it/s]\n",
            "               classes   top1_acc   top5_acc: 100% 7/7 [00:01<00:00,  6.26it/s]\n",
            "                   all      0.916          1\n",
            "\n",
            "      Epoch    GPU_mem       loss  Instances       Size\n",
            "     39/100     0.396G    0.05105         30        128: 100% 286/286 [00:33<00:00,  8.43it/s]\n",
            "               classes   top1_acc   top5_acc: 100% 7/7 [00:00<00:00, 10.05it/s]\n",
            "                   all      0.928          1\n",
            "\n",
            "      Epoch    GPU_mem       loss  Instances       Size\n",
            "     40/100     0.396G    0.05239         30        128: 100% 286/286 [00:35<00:00,  8.04it/s]\n",
            "               classes   top1_acc   top5_acc: 100% 7/7 [00:00<00:00,  9.80it/s]\n",
            "                   all      0.932          1\n",
            "\n",
            "      Epoch    GPU_mem       loss  Instances       Size\n",
            "     41/100     0.396G    0.05817         30        128: 100% 286/286 [00:35<00:00,  8.07it/s]\n",
            "               classes   top1_acc   top5_acc: 100% 7/7 [00:00<00:00, 10.66it/s]\n",
            "                   all      0.932          1\n",
            "\n",
            "      Epoch    GPU_mem       loss  Instances       Size\n",
            "     42/100     0.396G    0.05023         30        128: 100% 286/286 [00:34<00:00,  8.31it/s]\n",
            "               classes   top1_acc   top5_acc: 100% 7/7 [00:01<00:00,  4.83it/s]\n",
            "                   all      0.932          1\n",
            "\n",
            "      Epoch    GPU_mem       loss  Instances       Size\n",
            "     43/100     0.396G    0.04357         32        128:  24% 68/286 [00:07<00:24,  8.93it/s]\n",
            "Traceback (most recent call last):\n",
            "  File \"/usr/local/bin/yolo\", line 8, in <module>\n",
            "    sys.exit(entrypoint())\n",
            "  File \"/usr/local/lib/python3.10/dist-packages/ultralytics/cfg/__init__.py\", line 582, in entrypoint\n",
            "    getattr(model, mode)(**overrides)  # default args from model\n",
            "  File \"/usr/local/lib/python3.10/dist-packages/ultralytics/engine/model.py\", line 668, in train\n",
            "    self.trainer.train()\n",
            "  File \"/usr/local/lib/python3.10/dist-packages/ultralytics/engine/trainer.py\", line 198, in train\n",
            "    self._do_train(world_size)\n",
            "  File \"/usr/local/lib/python3.10/dist-packages/ultralytics/engine/trainer.py\", line 368, in _do_train\n",
            "    with torch.cuda.amp.autocast(self.amp):\n",
            "  File \"/usr/local/lib/python3.10/dist-packages/torch/cuda/amp/autocast_mode.py\", line 44, in __exit__\n",
            "    def __exit__(self, exc_type: Any, exc_val: Any, exc_tb: Any):  # type: ignore[override]\n",
            "KeyboardInterrupt\n"
          ]
        }
      ],
      "source": [
        "%cd {HOME}\n",
        "\n",
        "!yolo task=classify mode=train model=yolov8n-cls.pt data={dataset.location} epochs=100 imgsz=128 lr0=0.001 batch=32"
      ]
    },
    {
      "cell_type": "code",
      "source": [
        "# Load a model\n",
        "model = YOLO('/content/runs/classify/train2/weights/last.pt')  # load a partially trained model\n",
        "\n",
        "# Resume training\n",
        "results = model.train(resume=True)"
      ],
      "metadata": {
        "id": "UQomb91w2P-5",
        "outputId": "d3fbac86-0153-4940-c961-3500f0340302",
        "colab": {
          "base_uri": "https://localhost:8080/"
        }
      },
      "execution_count": 15,
      "outputs": [
        {
          "output_type": "stream",
          "name": "stdout",
          "text": [
            "Ultralytics YOLOv8.1.47 🚀 Python-3.10.12 torch-2.2.1+cu121 CUDA:0 (Tesla T4, 15102MiB)\n",
            "\u001b[34m\u001b[1mengine/trainer: \u001b[0mtask=classify, mode=train, model=/content/runs/classify/train2/weights/last.pt, data=/content/traffic-density-4k-2, epochs=100, time=None, patience=100, batch=32, imgsz=128, save=True, save_period=-1, cache=False, device=None, workers=8, project=None, name=train2, exist_ok=False, pretrained=True, optimizer=auto, verbose=True, seed=0, deterministic=True, single_cls=False, rect=False, cos_lr=False, close_mosaic=10, resume=/content/runs/classify/train2/weights/last.pt, amp=True, fraction=1.0, profile=False, freeze=None, multi_scale=False, overlap_mask=True, mask_ratio=4, dropout=0.0, val=True, split=val, save_json=False, save_hybrid=False, conf=None, iou=0.7, max_det=300, half=False, dnn=False, plots=True, source=None, vid_stride=1, stream_buffer=False, visualize=False, augment=False, agnostic_nms=False, classes=None, retina_masks=False, embed=None, show=False, save_frames=False, save_txt=False, save_conf=False, save_crop=False, show_labels=True, show_conf=True, show_boxes=True, line_width=None, format=torchscript, keras=False, optimize=False, int8=False, dynamic=False, simplify=False, opset=None, workspace=4, nms=False, lr0=0.001, lrf=0.01, momentum=0.937, weight_decay=0.0005, warmup_epochs=3.0, warmup_momentum=0.8, warmup_bias_lr=0.0, box=7.5, cls=0.5, dfl=1.5, pose=12.0, kobj=1.0, label_smoothing=0.0, nbs=64, hsv_h=0.015, hsv_s=0.7, hsv_v=0.4, degrees=0.0, translate=0.1, scale=0.5, shear=0.0, perspective=0.0, flipud=0.0, fliplr=0.5, bgr=0.0, mosaic=1.0, mixup=0.0, copy_paste=0.0, auto_augment=randaugment, erasing=0.4, crop_fraction=1.0, cfg=None, tracker=botsort.yaml, save_dir=runs/classify/train2\n",
            "\u001b[34m\u001b[1mtrain:\u001b[0m /content/traffic-density-4k-2/train... found 9150 images in 4 classes ✅ \n",
            "\u001b[34m\u001b[1mval:\u001b[0m None...\n",
            "\u001b[34m\u001b[1mtest:\u001b[0m /content/traffic-density-4k-2/test... found 443 images in 4 classes ✅ \n",
            "\u001b[34m\u001b[1mTensorBoard: \u001b[0mStart with 'tensorboard --logdir runs/classify/train2', view at http://localhost:6006/\n",
            "\u001b[34m\u001b[1mAMP: \u001b[0mrunning Automatic Mixed Precision (AMP) checks with YOLOv8n...\n",
            "\u001b[34m\u001b[1mAMP: \u001b[0mchecks passed ✅\n"
          ]
        },
        {
          "output_type": "stream",
          "name": "stderr",
          "text": [
            "\u001b[34m\u001b[1mtrain: \u001b[0mScanning /content/traffic-density-4k-2/train... 9150 images, 0 corrupt: 100%|██████████| 9150/9150 [00:00<?, ?it/s]\n",
            "os.fork() was called. os.fork() is incompatible with multithreaded code, and JAX is multithreaded, so this will likely lead to a deadlock.\n",
            "\u001b[34m\u001b[1mval: \u001b[0mScanning /content/traffic-density-4k-2/test... 443 images, 0 corrupt: 100%|██████████| 443/443 [00:00<?, ?it/s]\n"
          ]
        },
        {
          "output_type": "stream",
          "name": "stdout",
          "text": [
            "\u001b[34m\u001b[1moptimizer:\u001b[0m 'optimizer=auto' found, ignoring 'lr0=0.001' and 'momentum=0.937' and determining best 'optimizer', 'lr0' and 'momentum' automatically... \n",
            "\u001b[34m\u001b[1moptimizer:\u001b[0m SGD(lr=0.01, momentum=0.9) with parameter groups 26 weight(decay=0.0), 27 weight(decay=0.0005), 27 bias(decay=0.0)\n",
            "Resuming training /content/runs/classify/train2/weights/last.pt from epoch 43 to 100 total epochs\n",
            "\u001b[34m\u001b[1mTensorBoard: \u001b[0mmodel graph visualization added ✅\n",
            "Image sizes 128 train, 128 val\n",
            "Using 2 dataloader workers\n",
            "Logging results to \u001b[1mruns/classify/train2\u001b[0m\n",
            "Starting training for 100 epochs...\n",
            "\n",
            "      Epoch    GPU_mem       loss  Instances       Size\n"
          ]
        },
        {
          "output_type": "stream",
          "name": "stderr",
          "text": [
            "     43/100     0.419G    0.04361         30        128: 100%|██████████| 286/286 [00:38<00:00,  7.46it/s]\n",
            "               classes   top1_acc   top5_acc: 100%|██████████| 7/7 [00:00<00:00,  8.82it/s]"
          ]
        },
        {
          "output_type": "stream",
          "name": "stdout",
          "text": [
            "                   all      0.941          1\n"
          ]
        },
        {
          "output_type": "stream",
          "name": "stderr",
          "text": [
            "\n"
          ]
        },
        {
          "output_type": "stream",
          "name": "stdout",
          "text": [
            "\n",
            "      Epoch    GPU_mem       loss  Instances       Size\n"
          ]
        },
        {
          "output_type": "stream",
          "name": "stderr",
          "text": [
            "     44/100     0.398G    0.04064         30        128: 100%|██████████| 286/286 [00:36<00:00,  7.74it/s]\n",
            "               classes   top1_acc   top5_acc: 100%|██████████| 7/7 [00:00<00:00,  9.61it/s]"
          ]
        },
        {
          "output_type": "stream",
          "name": "stdout",
          "text": [
            "                   all      0.932          1\n"
          ]
        },
        {
          "output_type": "stream",
          "name": "stderr",
          "text": [
            "\n"
          ]
        },
        {
          "output_type": "stream",
          "name": "stdout",
          "text": [
            "\n",
            "      Epoch    GPU_mem       loss  Instances       Size\n"
          ]
        },
        {
          "output_type": "stream",
          "name": "stderr",
          "text": [
            "     45/100     0.398G    0.03675         30        128: 100%|██████████| 286/286 [00:35<00:00,  8.01it/s]\n",
            "               classes   top1_acc   top5_acc: 100%|██████████| 7/7 [00:01<00:00,  5.58it/s]"
          ]
        },
        {
          "output_type": "stream",
          "name": "stdout",
          "text": [
            "                   all      0.948          1\n"
          ]
        },
        {
          "output_type": "stream",
          "name": "stderr",
          "text": [
            "\n"
          ]
        },
        {
          "output_type": "stream",
          "name": "stdout",
          "text": [
            "\n",
            "      Epoch    GPU_mem       loss  Instances       Size\n"
          ]
        },
        {
          "output_type": "stream",
          "name": "stderr",
          "text": [
            "     46/100     0.398G     0.0402         30        128: 100%|██████████| 286/286 [00:36<00:00,  7.92it/s]\n",
            "               classes   top1_acc   top5_acc: 100%|██████████| 7/7 [00:00<00:00,  8.91it/s]"
          ]
        },
        {
          "output_type": "stream",
          "name": "stdout",
          "text": [
            "                   all      0.932          1\n"
          ]
        },
        {
          "output_type": "stream",
          "name": "stderr",
          "text": [
            "\n"
          ]
        },
        {
          "output_type": "stream",
          "name": "stdout",
          "text": [
            "\n",
            "      Epoch    GPU_mem       loss  Instances       Size\n"
          ]
        },
        {
          "output_type": "stream",
          "name": "stderr",
          "text": [
            "     47/100     0.398G    0.03895         30        128: 100%|██████████| 286/286 [00:37<00:00,  7.68it/s]\n",
            "               classes   top1_acc   top5_acc: 100%|██████████| 7/7 [00:00<00:00,  9.29it/s]"
          ]
        },
        {
          "output_type": "stream",
          "name": "stdout",
          "text": [
            "                   all      0.939          1\n"
          ]
        },
        {
          "output_type": "stream",
          "name": "stderr",
          "text": [
            "\n"
          ]
        },
        {
          "output_type": "stream",
          "name": "stdout",
          "text": [
            "\n",
            "      Epoch    GPU_mem       loss  Instances       Size\n"
          ]
        },
        {
          "output_type": "stream",
          "name": "stderr",
          "text": [
            "     48/100     0.398G    0.03383         30        128: 100%|██████████| 286/286 [00:37<00:00,  7.71it/s]\n",
            "               classes   top1_acc   top5_acc: 100%|██████████| 7/7 [00:00<00:00, 10.39it/s]"
          ]
        },
        {
          "output_type": "stream",
          "name": "stdout",
          "text": [
            "                   all      0.937          1\n"
          ]
        },
        {
          "output_type": "stream",
          "name": "stderr",
          "text": [
            "\n"
          ]
        },
        {
          "output_type": "stream",
          "name": "stdout",
          "text": [
            "\n",
            "      Epoch    GPU_mem       loss  Instances       Size\n"
          ]
        },
        {
          "output_type": "stream",
          "name": "stderr",
          "text": [
            "     49/100     0.398G    0.03032         30        128: 100%|██████████| 286/286 [00:37<00:00,  7.69it/s]\n",
            "               classes   top1_acc   top5_acc: 100%|██████████| 7/7 [00:00<00:00,  8.82it/s]"
          ]
        },
        {
          "output_type": "stream",
          "name": "stdout",
          "text": [
            "                   all      0.946          1\n",
            "\n",
            "      Epoch    GPU_mem       loss  Instances       Size\n"
          ]
        },
        {
          "output_type": "stream",
          "name": "stderr",
          "text": [
            "\n",
            "     50/100     0.398G    0.02809         30        128: 100%|██████████| 286/286 [00:37<00:00,  7.66it/s]\n",
            "               classes   top1_acc   top5_acc: 100%|██████████| 7/7 [00:00<00:00,  8.47it/s]"
          ]
        },
        {
          "output_type": "stream",
          "name": "stdout",
          "text": [
            "                   all      0.948          1\n"
          ]
        },
        {
          "output_type": "stream",
          "name": "stderr",
          "text": [
            "\n"
          ]
        },
        {
          "output_type": "stream",
          "name": "stdout",
          "text": [
            "\n",
            "      Epoch    GPU_mem       loss  Instances       Size\n"
          ]
        },
        {
          "output_type": "stream",
          "name": "stderr",
          "text": [
            "     51/100     0.398G    0.03009         30        128: 100%|██████████| 286/286 [00:36<00:00,  7.84it/s]\n",
            "               classes   top1_acc   top5_acc: 100%|██████████| 7/7 [00:01<00:00,  6.20it/s]"
          ]
        },
        {
          "output_type": "stream",
          "name": "stdout",
          "text": [
            "                   all      0.953          1\n"
          ]
        },
        {
          "output_type": "stream",
          "name": "stderr",
          "text": [
            "\n"
          ]
        },
        {
          "output_type": "stream",
          "name": "stdout",
          "text": [
            "\n",
            "      Epoch    GPU_mem       loss  Instances       Size\n"
          ]
        },
        {
          "output_type": "stream",
          "name": "stderr",
          "text": [
            "     52/100     0.398G    0.02913         30        128: 100%|██████████| 286/286 [00:34<00:00,  8.24it/s]\n",
            "               classes   top1_acc   top5_acc: 100%|██████████| 7/7 [00:00<00:00, 10.45it/s]"
          ]
        },
        {
          "output_type": "stream",
          "name": "stdout",
          "text": [
            "                   all      0.948          1\n"
          ]
        },
        {
          "output_type": "stream",
          "name": "stderr",
          "text": [
            "\n"
          ]
        },
        {
          "output_type": "stream",
          "name": "stdout",
          "text": [
            "\n",
            "      Epoch    GPU_mem       loss  Instances       Size\n"
          ]
        },
        {
          "output_type": "stream",
          "name": "stderr",
          "text": [
            "     53/100     0.398G    0.02169         30        128: 100%|██████████| 286/286 [00:37<00:00,  7.72it/s]\n",
            "               classes   top1_acc   top5_acc: 100%|██████████| 7/7 [00:00<00:00,  9.79it/s]"
          ]
        },
        {
          "output_type": "stream",
          "name": "stdout",
          "text": [
            "                   all      0.946          1\n"
          ]
        },
        {
          "output_type": "stream",
          "name": "stderr",
          "text": [
            "\n"
          ]
        },
        {
          "output_type": "stream",
          "name": "stdout",
          "text": [
            "\n",
            "      Epoch    GPU_mem       loss  Instances       Size\n"
          ]
        },
        {
          "output_type": "stream",
          "name": "stderr",
          "text": [
            "     54/100     0.398G     0.0256         30        128: 100%|██████████| 286/286 [00:37<00:00,  7.66it/s]\n",
            "               classes   top1_acc   top5_acc: 100%|██████████| 7/7 [00:00<00:00,  8.61it/s]"
          ]
        },
        {
          "output_type": "stream",
          "name": "stdout",
          "text": [
            "                   all      0.939          1\n"
          ]
        },
        {
          "output_type": "stream",
          "name": "stderr",
          "text": [
            "\n"
          ]
        },
        {
          "output_type": "stream",
          "name": "stdout",
          "text": [
            "\n",
            "      Epoch    GPU_mem       loss  Instances       Size\n"
          ]
        },
        {
          "output_type": "stream",
          "name": "stderr",
          "text": [
            "     55/100     0.398G    0.02323         30        128: 100%|██████████| 286/286 [00:37<00:00,  7.68it/s]\n",
            "               classes   top1_acc   top5_acc: 100%|██████████| 7/7 [00:00<00:00,  8.48it/s]"
          ]
        },
        {
          "output_type": "stream",
          "name": "stdout",
          "text": [
            "                   all      0.946          1\n"
          ]
        },
        {
          "output_type": "stream",
          "name": "stderr",
          "text": [
            "\n"
          ]
        },
        {
          "output_type": "stream",
          "name": "stdout",
          "text": [
            "\n",
            "      Epoch    GPU_mem       loss  Instances       Size\n"
          ]
        },
        {
          "output_type": "stream",
          "name": "stderr",
          "text": [
            "     56/100     0.398G    0.02125         30        128: 100%|██████████| 286/286 [00:37<00:00,  7.70it/s]\n",
            "               classes   top1_acc   top5_acc: 100%|██████████| 7/7 [00:00<00:00,  8.21it/s]"
          ]
        },
        {
          "output_type": "stream",
          "name": "stdout",
          "text": [
            "                   all      0.939          1\n"
          ]
        },
        {
          "output_type": "stream",
          "name": "stderr",
          "text": [
            "\n"
          ]
        },
        {
          "output_type": "stream",
          "name": "stdout",
          "text": [
            "\n",
            "      Epoch    GPU_mem       loss  Instances       Size\n"
          ]
        },
        {
          "output_type": "stream",
          "name": "stderr",
          "text": [
            "     57/100     0.388G    0.02489         30        128: 100%|██████████| 286/286 [00:36<00:00,  7.93it/s]\n",
            "               classes   top1_acc   top5_acc: 100%|██████████| 7/7 [00:01<00:00,  5.11it/s]"
          ]
        },
        {
          "output_type": "stream",
          "name": "stdout",
          "text": [
            "                   all      0.948          1\n"
          ]
        },
        {
          "output_type": "stream",
          "name": "stderr",
          "text": [
            "\n"
          ]
        },
        {
          "output_type": "stream",
          "name": "stdout",
          "text": [
            "\n",
            "      Epoch    GPU_mem       loss  Instances       Size\n"
          ]
        },
        {
          "output_type": "stream",
          "name": "stderr",
          "text": [
            "     58/100     0.388G    0.01988         30        128: 100%|██████████| 286/286 [00:36<00:00,  7.84it/s]\n",
            "               classes   top1_acc   top5_acc: 100%|██████████| 7/7 [00:00<00:00,  9.53it/s]"
          ]
        },
        {
          "output_type": "stream",
          "name": "stdout",
          "text": [
            "                   all      0.937          1\n"
          ]
        },
        {
          "output_type": "stream",
          "name": "stderr",
          "text": [
            "\n"
          ]
        },
        {
          "output_type": "stream",
          "name": "stdout",
          "text": [
            "\n",
            "      Epoch    GPU_mem       loss  Instances       Size\n"
          ]
        },
        {
          "output_type": "stream",
          "name": "stderr",
          "text": [
            "     59/100     0.388G    0.02109         30        128: 100%|██████████| 286/286 [00:37<00:00,  7.71it/s]\n",
            "               classes   top1_acc   top5_acc: 100%|██████████| 7/7 [00:00<00:00,  9.60it/s]"
          ]
        },
        {
          "output_type": "stream",
          "name": "stdout",
          "text": [
            "                   all      0.939          1\n"
          ]
        },
        {
          "output_type": "stream",
          "name": "stderr",
          "text": [
            "\n"
          ]
        },
        {
          "output_type": "stream",
          "name": "stdout",
          "text": [
            "\n",
            "      Epoch    GPU_mem       loss  Instances       Size\n"
          ]
        },
        {
          "output_type": "stream",
          "name": "stderr",
          "text": [
            "     60/100     0.388G    0.02384         30        128: 100%|██████████| 286/286 [00:37<00:00,  7.71it/s]\n",
            "               classes   top1_acc   top5_acc: 100%|██████████| 7/7 [00:00<00:00,  7.73it/s]"
          ]
        },
        {
          "output_type": "stream",
          "name": "stdout",
          "text": [
            "                   all      0.939          1\n"
          ]
        },
        {
          "output_type": "stream",
          "name": "stderr",
          "text": [
            "\n"
          ]
        },
        {
          "output_type": "stream",
          "name": "stdout",
          "text": [
            "\n",
            "      Epoch    GPU_mem       loss  Instances       Size\n"
          ]
        },
        {
          "output_type": "stream",
          "name": "stderr",
          "text": [
            "     61/100     0.388G    0.01658         30        128: 100%|██████████| 286/286 [00:34<00:00,  8.17it/s]\n",
            "               classes   top1_acc   top5_acc: 100%|██████████| 7/7 [00:00<00:00, 10.68it/s]"
          ]
        },
        {
          "output_type": "stream",
          "name": "stdout",
          "text": [
            "                   all      0.941          1\n"
          ]
        },
        {
          "output_type": "stream",
          "name": "stderr",
          "text": [
            "\n"
          ]
        },
        {
          "output_type": "stream",
          "name": "stdout",
          "text": [
            "\n",
            "      Epoch    GPU_mem       loss  Instances       Size\n"
          ]
        },
        {
          "output_type": "stream",
          "name": "stderr",
          "text": [
            "     62/100     0.388G    0.01664         30        128: 100%|██████████| 286/286 [00:32<00:00,  8.82it/s]\n",
            "               classes   top1_acc   top5_acc: 100%|██████████| 7/7 [00:00<00:00,  9.98it/s]"
          ]
        },
        {
          "output_type": "stream",
          "name": "stdout",
          "text": [
            "                   all      0.946          1\n"
          ]
        },
        {
          "output_type": "stream",
          "name": "stderr",
          "text": [
            "\n"
          ]
        },
        {
          "output_type": "stream",
          "name": "stdout",
          "text": [
            "\n",
            "      Epoch    GPU_mem       loss  Instances       Size\n"
          ]
        },
        {
          "output_type": "stream",
          "name": "stderr",
          "text": [
            "     63/100     0.388G    0.01901         30        128: 100%|██████████| 286/286 [00:33<00:00,  8.50it/s]\n",
            "               classes   top1_acc   top5_acc: 100%|██████████| 7/7 [00:00<00:00, 10.15it/s]"
          ]
        },
        {
          "output_type": "stream",
          "name": "stdout",
          "text": [
            "                   all       0.95          1\n"
          ]
        },
        {
          "output_type": "stream",
          "name": "stderr",
          "text": [
            "\n"
          ]
        },
        {
          "output_type": "stream",
          "name": "stdout",
          "text": [
            "\n",
            "      Epoch    GPU_mem       loss  Instances       Size\n"
          ]
        },
        {
          "output_type": "stream",
          "name": "stderr",
          "text": [
            "     64/100     0.388G    0.02007         30        128: 100%|██████████| 286/286 [00:36<00:00,  7.92it/s]\n",
            "               classes   top1_acc   top5_acc: 100%|██████████| 7/7 [00:00<00:00,  8.57it/s]"
          ]
        },
        {
          "output_type": "stream",
          "name": "stdout",
          "text": [
            "                   all      0.946          1\n"
          ]
        },
        {
          "output_type": "stream",
          "name": "stderr",
          "text": [
            "\n"
          ]
        },
        {
          "output_type": "stream",
          "name": "stdout",
          "text": [
            "\n",
            "      Epoch    GPU_mem       loss  Instances       Size\n"
          ]
        },
        {
          "output_type": "stream",
          "name": "stderr",
          "text": [
            "     65/100     0.388G    0.01601         30        128: 100%|██████████| 286/286 [00:36<00:00,  7.80it/s]\n",
            "               classes   top1_acc   top5_acc: 100%|██████████| 7/7 [00:01<00:00,  5.82it/s]"
          ]
        },
        {
          "output_type": "stream",
          "name": "stdout",
          "text": [
            "                   all      0.939          1\n"
          ]
        },
        {
          "output_type": "stream",
          "name": "stderr",
          "text": [
            "\n"
          ]
        },
        {
          "output_type": "stream",
          "name": "stdout",
          "text": [
            "\n",
            "      Epoch    GPU_mem       loss  Instances       Size\n"
          ]
        },
        {
          "output_type": "stream",
          "name": "stderr",
          "text": [
            "     66/100     0.388G    0.01906         30        128: 100%|██████████| 286/286 [00:36<00:00,  7.88it/s]\n",
            "               classes   top1_acc   top5_acc: 100%|██████████| 7/7 [00:00<00:00,  7.48it/s]"
          ]
        },
        {
          "output_type": "stream",
          "name": "stdout",
          "text": [
            "                   all      0.937          1\n"
          ]
        },
        {
          "output_type": "stream",
          "name": "stderr",
          "text": [
            "\n"
          ]
        },
        {
          "output_type": "stream",
          "name": "stdout",
          "text": [
            "\n",
            "      Epoch    GPU_mem       loss  Instances       Size\n"
          ]
        },
        {
          "output_type": "stream",
          "name": "stderr",
          "text": [
            "     67/100     0.388G    0.01378         30        128: 100%|██████████| 286/286 [00:37<00:00,  7.70it/s]\n",
            "               classes   top1_acc   top5_acc: 100%|██████████| 7/7 [00:00<00:00,  9.47it/s]"
          ]
        },
        {
          "output_type": "stream",
          "name": "stdout",
          "text": [
            "                   all      0.944          1\n"
          ]
        },
        {
          "output_type": "stream",
          "name": "stderr",
          "text": [
            "\n"
          ]
        },
        {
          "output_type": "stream",
          "name": "stdout",
          "text": [
            "\n",
            "      Epoch    GPU_mem       loss  Instances       Size\n"
          ]
        },
        {
          "output_type": "stream",
          "name": "stderr",
          "text": [
            "     68/100     0.388G    0.01275         30        128: 100%|██████████| 286/286 [00:37<00:00,  7.60it/s]\n",
            "               classes   top1_acc   top5_acc: 100%|██████████| 7/7 [00:00<00:00,  8.03it/s]\n"
          ]
        },
        {
          "output_type": "stream",
          "name": "stdout",
          "text": [
            "                   all      0.948          1\n",
            "\n",
            "      Epoch    GPU_mem       loss  Instances       Size\n"
          ]
        },
        {
          "output_type": "stream",
          "name": "stderr",
          "text": [
            "     69/100     0.388G    0.01294         30        128: 100%|██████████| 286/286 [00:36<00:00,  7.74it/s]\n",
            "               classes   top1_acc   top5_acc: 100%|██████████| 7/7 [00:00<00:00, 10.52it/s]"
          ]
        },
        {
          "output_type": "stream",
          "name": "stdout",
          "text": [
            "                   all      0.948          1\n"
          ]
        },
        {
          "output_type": "stream",
          "name": "stderr",
          "text": [
            "\n"
          ]
        },
        {
          "output_type": "stream",
          "name": "stdout",
          "text": [
            "\n",
            "      Epoch    GPU_mem       loss  Instances       Size\n"
          ]
        },
        {
          "output_type": "stream",
          "name": "stderr",
          "text": [
            "     70/100     0.388G    0.01047         30        128: 100%|██████████| 286/286 [00:36<00:00,  7.75it/s]\n",
            "               classes   top1_acc   top5_acc: 100%|██████████| 7/7 [00:00<00:00,  8.74it/s]"
          ]
        },
        {
          "output_type": "stream",
          "name": "stdout",
          "text": [
            "                   all      0.946          1\n"
          ]
        },
        {
          "output_type": "stream",
          "name": "stderr",
          "text": [
            "\n"
          ]
        },
        {
          "output_type": "stream",
          "name": "stdout",
          "text": [
            "\n",
            "      Epoch    GPU_mem       loss  Instances       Size\n"
          ]
        },
        {
          "output_type": "stream",
          "name": "stderr",
          "text": [
            "     71/100     0.388G   0.008191         30        128: 100%|██████████| 286/286 [00:37<00:00,  7.68it/s]\n",
            "               classes   top1_acc   top5_acc: 100%|██████████| 7/7 [00:00<00:00,  9.38it/s]"
          ]
        },
        {
          "output_type": "stream",
          "name": "stdout",
          "text": [
            "                   all      0.946          1\n"
          ]
        },
        {
          "output_type": "stream",
          "name": "stderr",
          "text": [
            "\n"
          ]
        },
        {
          "output_type": "stream",
          "name": "stdout",
          "text": [
            "\n",
            "      Epoch    GPU_mem       loss  Instances       Size\n"
          ]
        },
        {
          "output_type": "stream",
          "name": "stderr",
          "text": [
            "     72/100     0.388G    0.01231         30        128: 100%|██████████| 286/286 [00:36<00:00,  7.80it/s]\n",
            "               classes   top1_acc   top5_acc: 100%|██████████| 7/7 [00:01<00:00,  5.28it/s]"
          ]
        },
        {
          "output_type": "stream",
          "name": "stdout",
          "text": [
            "                   all       0.95          1\n"
          ]
        },
        {
          "output_type": "stream",
          "name": "stderr",
          "text": [
            "\n"
          ]
        },
        {
          "output_type": "stream",
          "name": "stdout",
          "text": [
            "\n",
            "      Epoch    GPU_mem       loss  Instances       Size\n"
          ]
        },
        {
          "output_type": "stream",
          "name": "stderr",
          "text": [
            "     73/100     0.388G     0.0116         30        128: 100%|██████████| 286/286 [00:35<00:00,  7.99it/s]\n",
            "               classes   top1_acc   top5_acc: 100%|██████████| 7/7 [00:00<00:00,  8.45it/s]"
          ]
        },
        {
          "output_type": "stream",
          "name": "stdout",
          "text": [
            "                   all      0.953          1\n"
          ]
        },
        {
          "output_type": "stream",
          "name": "stderr",
          "text": [
            "\n"
          ]
        },
        {
          "output_type": "stream",
          "name": "stdout",
          "text": [
            "\n",
            "      Epoch    GPU_mem       loss  Instances       Size\n"
          ]
        },
        {
          "output_type": "stream",
          "name": "stderr",
          "text": [
            "     74/100     0.388G   0.009709         30        128: 100%|██████████| 286/286 [00:37<00:00,  7.68it/s]\n",
            "               classes   top1_acc   top5_acc: 100%|██████████| 7/7 [00:00<00:00,  9.53it/s]\n"
          ]
        },
        {
          "output_type": "stream",
          "name": "stdout",
          "text": [
            "                   all       0.95          1\n",
            "\n",
            "      Epoch    GPU_mem       loss  Instances       Size\n"
          ]
        },
        {
          "output_type": "stream",
          "name": "stderr",
          "text": [
            "     75/100     0.388G    0.01021         30        128: 100%|██████████| 286/286 [00:37<00:00,  7.66it/s]\n",
            "               classes   top1_acc   top5_acc: 100%|██████████| 7/7 [00:00<00:00,  9.94it/s]"
          ]
        },
        {
          "output_type": "stream",
          "name": "stdout",
          "text": [
            "                   all      0.944          1\n"
          ]
        },
        {
          "output_type": "stream",
          "name": "stderr",
          "text": [
            "\n"
          ]
        },
        {
          "output_type": "stream",
          "name": "stdout",
          "text": [
            "\n",
            "      Epoch    GPU_mem       loss  Instances       Size\n"
          ]
        },
        {
          "output_type": "stream",
          "name": "stderr",
          "text": [
            "     76/100     0.388G   0.006234         30        128: 100%|██████████| 286/286 [00:37<00:00,  7.69it/s]\n",
            "               classes   top1_acc   top5_acc: 100%|██████████| 7/7 [00:00<00:00,  9.63it/s]"
          ]
        },
        {
          "output_type": "stream",
          "name": "stdout",
          "text": [
            "                   all      0.944          1\n"
          ]
        },
        {
          "output_type": "stream",
          "name": "stderr",
          "text": [
            "\n"
          ]
        },
        {
          "output_type": "stream",
          "name": "stdout",
          "text": [
            "\n",
            "      Epoch    GPU_mem       loss  Instances       Size\n"
          ]
        },
        {
          "output_type": "stream",
          "name": "stderr",
          "text": [
            "     77/100     0.388G   0.006366         30        128: 100%|██████████| 286/286 [00:37<00:00,  7.62it/s]\n",
            "               classes   top1_acc   top5_acc: 100%|██████████| 7/7 [00:00<00:00, 10.62it/s]"
          ]
        },
        {
          "output_type": "stream",
          "name": "stdout",
          "text": [
            "                   all       0.95          1\n"
          ]
        },
        {
          "output_type": "stream",
          "name": "stderr",
          "text": [
            "\n"
          ]
        },
        {
          "output_type": "stream",
          "name": "stdout",
          "text": [
            "\n",
            "      Epoch    GPU_mem       loss  Instances       Size\n"
          ]
        },
        {
          "output_type": "stream",
          "name": "stderr",
          "text": [
            "     78/100     0.388G   0.008603         30        128: 100%|██████████| 286/286 [00:37<00:00,  7.68it/s]\n",
            "               classes   top1_acc   top5_acc: 100%|██████████| 7/7 [00:00<00:00,  7.06it/s]"
          ]
        },
        {
          "output_type": "stream",
          "name": "stdout",
          "text": [
            "                   all      0.941          1\n"
          ]
        },
        {
          "output_type": "stream",
          "name": "stderr",
          "text": [
            "\n"
          ]
        },
        {
          "output_type": "stream",
          "name": "stdout",
          "text": [
            "\n",
            "      Epoch    GPU_mem       loss  Instances       Size\n"
          ]
        },
        {
          "output_type": "stream",
          "name": "stderr",
          "text": [
            "     79/100     0.388G    0.00704         30        128: 100%|██████████| 286/286 [00:36<00:00,  7.81it/s]\n",
            "               classes   top1_acc   top5_acc: 100%|██████████| 7/7 [00:01<00:00,  5.61it/s]"
          ]
        },
        {
          "output_type": "stream",
          "name": "stdout",
          "text": [
            "                   all      0.941          1\n"
          ]
        },
        {
          "output_type": "stream",
          "name": "stderr",
          "text": [
            "\n"
          ]
        },
        {
          "output_type": "stream",
          "name": "stdout",
          "text": [
            "\n",
            "      Epoch    GPU_mem       loss  Instances       Size\n"
          ]
        },
        {
          "output_type": "stream",
          "name": "stderr",
          "text": [
            "     80/100     0.388G   0.008006         30        128: 100%|██████████| 286/286 [00:36<00:00,  7.86it/s]\n",
            "               classes   top1_acc   top5_acc: 100%|██████████| 7/7 [00:00<00:00,  9.08it/s]"
          ]
        },
        {
          "output_type": "stream",
          "name": "stdout",
          "text": [
            "                   all      0.941          1\n"
          ]
        },
        {
          "output_type": "stream",
          "name": "stderr",
          "text": [
            "\n"
          ]
        },
        {
          "output_type": "stream",
          "name": "stdout",
          "text": [
            "\n",
            "      Epoch    GPU_mem       loss  Instances       Size\n"
          ]
        },
        {
          "output_type": "stream",
          "name": "stderr",
          "text": [
            "     81/100     0.388G   0.007757         30        128: 100%|██████████| 286/286 [00:37<00:00,  7.60it/s]\n",
            "               classes   top1_acc   top5_acc: 100%|██████████| 7/7 [00:00<00:00, 10.78it/s]"
          ]
        },
        {
          "output_type": "stream",
          "name": "stdout",
          "text": [
            "                   all      0.939          1\n"
          ]
        },
        {
          "output_type": "stream",
          "name": "stderr",
          "text": [
            "\n"
          ]
        },
        {
          "output_type": "stream",
          "name": "stdout",
          "text": [
            "\n",
            "      Epoch    GPU_mem       loss  Instances       Size\n"
          ]
        },
        {
          "output_type": "stream",
          "name": "stderr",
          "text": [
            "     82/100     0.388G   0.008459         30        128: 100%|██████████| 286/286 [00:37<00:00,  7.64it/s]\n",
            "               classes   top1_acc   top5_acc: 100%|██████████| 7/7 [00:00<00:00,  8.46it/s]"
          ]
        },
        {
          "output_type": "stream",
          "name": "stdout",
          "text": [
            "                   all      0.937          1\n"
          ]
        },
        {
          "output_type": "stream",
          "name": "stderr",
          "text": [
            "\n"
          ]
        },
        {
          "output_type": "stream",
          "name": "stdout",
          "text": [
            "\n",
            "      Epoch    GPU_mem       loss  Instances       Size\n"
          ]
        },
        {
          "output_type": "stream",
          "name": "stderr",
          "text": [
            "     83/100     0.388G   0.007272         30        128: 100%|██████████| 286/286 [00:37<00:00,  7.60it/s]\n",
            "               classes   top1_acc   top5_acc: 100%|██████████| 7/7 [00:00<00:00,  8.35it/s]"
          ]
        },
        {
          "output_type": "stream",
          "name": "stdout",
          "text": [
            "                   all      0.935          1\n"
          ]
        },
        {
          "output_type": "stream",
          "name": "stderr",
          "text": [
            "\n"
          ]
        },
        {
          "output_type": "stream",
          "name": "stdout",
          "text": [
            "\n",
            "      Epoch    GPU_mem       loss  Instances       Size\n"
          ]
        },
        {
          "output_type": "stream",
          "name": "stderr",
          "text": [
            "     84/100     0.388G    0.01247         30        128: 100%|██████████| 286/286 [00:37<00:00,  7.63it/s]\n",
            "               classes   top1_acc   top5_acc: 100%|██████████| 7/7 [00:00<00:00,  9.57it/s]"
          ]
        },
        {
          "output_type": "stream",
          "name": "stdout",
          "text": [
            "                   all      0.935          1\n"
          ]
        },
        {
          "output_type": "stream",
          "name": "stderr",
          "text": [
            "\n"
          ]
        },
        {
          "output_type": "stream",
          "name": "stdout",
          "text": [
            "\n",
            "      Epoch    GPU_mem       loss  Instances       Size\n"
          ]
        },
        {
          "output_type": "stream",
          "name": "stderr",
          "text": [
            "     85/100     0.388G    0.01912         30        128: 100%|██████████| 286/286 [00:36<00:00,  7.78it/s]\n",
            "               classes   top1_acc   top5_acc: 100%|██████████| 7/7 [00:00<00:00,  8.57it/s]"
          ]
        },
        {
          "output_type": "stream",
          "name": "stdout",
          "text": [
            "                   all      0.935          1\n"
          ]
        },
        {
          "output_type": "stream",
          "name": "stderr",
          "text": [
            "\n"
          ]
        },
        {
          "output_type": "stream",
          "name": "stdout",
          "text": [
            "\n",
            "      Epoch    GPU_mem       loss  Instances       Size\n"
          ]
        },
        {
          "output_type": "stream",
          "name": "stderr",
          "text": [
            "     86/100     0.388G    0.01418         30        128: 100%|██████████| 286/286 [00:35<00:00,  7.95it/s]\n",
            "               classes   top1_acc   top5_acc: 100%|██████████| 7/7 [00:01<00:00,  4.71it/s]"
          ]
        },
        {
          "output_type": "stream",
          "name": "stdout",
          "text": [
            "                   all      0.941          1\n"
          ]
        },
        {
          "output_type": "stream",
          "name": "stderr",
          "text": [
            "\n"
          ]
        },
        {
          "output_type": "stream",
          "name": "stdout",
          "text": [
            "\n",
            "      Epoch    GPU_mem       loss  Instances       Size\n"
          ]
        },
        {
          "output_type": "stream",
          "name": "stderr",
          "text": [
            "     87/100     0.388G     0.0181         30        128: 100%|██████████| 286/286 [00:36<00:00,  7.85it/s]\n",
            "               classes   top1_acc   top5_acc: 100%|██████████| 7/7 [00:00<00:00,  9.86it/s]"
          ]
        },
        {
          "output_type": "stream",
          "name": "stdout",
          "text": [
            "                   all      0.944          1\n"
          ]
        },
        {
          "output_type": "stream",
          "name": "stderr",
          "text": [
            "\n"
          ]
        },
        {
          "output_type": "stream",
          "name": "stdout",
          "text": [
            "\n",
            "      Epoch    GPU_mem       loss  Instances       Size\n"
          ]
        },
        {
          "output_type": "stream",
          "name": "stderr",
          "text": [
            "     88/100     0.388G    0.01828         30        128: 100%|██████████| 286/286 [00:37<00:00,  7.69it/s]\n",
            "               classes   top1_acc   top5_acc: 100%|██████████| 7/7 [00:00<00:00,  7.50it/s]"
          ]
        },
        {
          "output_type": "stream",
          "name": "stdout",
          "text": [
            "                   all      0.944          1\n"
          ]
        },
        {
          "output_type": "stream",
          "name": "stderr",
          "text": [
            "\n"
          ]
        },
        {
          "output_type": "stream",
          "name": "stdout",
          "text": [
            "\n",
            "      Epoch    GPU_mem       loss  Instances       Size\n"
          ]
        },
        {
          "output_type": "stream",
          "name": "stderr",
          "text": [
            "     89/100     0.388G    0.01391         30        128: 100%|██████████| 286/286 [00:37<00:00,  7.63it/s]\n",
            "               classes   top1_acc   top5_acc: 100%|██████████| 7/7 [00:00<00:00, 10.65it/s]"
          ]
        },
        {
          "output_type": "stream",
          "name": "stdout",
          "text": [
            "                   all      0.944          1\n"
          ]
        },
        {
          "output_type": "stream",
          "name": "stderr",
          "text": [
            "\n"
          ]
        },
        {
          "output_type": "stream",
          "name": "stdout",
          "text": [
            "\n",
            "      Epoch    GPU_mem       loss  Instances       Size\n"
          ]
        },
        {
          "output_type": "stream",
          "name": "stderr",
          "text": [
            "     90/100     0.388G    0.01879         30        128: 100%|██████████| 286/286 [00:37<00:00,  7.69it/s]\n",
            "               classes   top1_acc   top5_acc: 100%|██████████| 7/7 [00:00<00:00,  8.39it/s]"
          ]
        },
        {
          "output_type": "stream",
          "name": "stdout",
          "text": [
            "                   all      0.944          1\n"
          ]
        },
        {
          "output_type": "stream",
          "name": "stderr",
          "text": [
            "\n",
            "os.fork() was called. os.fork() is incompatible with multithreaded code, and JAX is multithreaded, so this will likely lead to a deadlock.\n"
          ]
        },
        {
          "output_type": "stream",
          "name": "stdout",
          "text": [
            "\n",
            "      Epoch    GPU_mem       loss  Instances       Size\n"
          ]
        },
        {
          "output_type": "stream",
          "name": "stderr",
          "text": [
            "     91/100     0.388G    0.01924         30        128: 100%|██████████| 286/286 [00:38<00:00,  7.39it/s]\n",
            "               classes   top1_acc   top5_acc: 100%|██████████| 7/7 [00:00<00:00, 10.23it/s]"
          ]
        },
        {
          "output_type": "stream",
          "name": "stdout",
          "text": [
            "                   all      0.941          1\n"
          ]
        },
        {
          "output_type": "stream",
          "name": "stderr",
          "text": [
            "\n"
          ]
        },
        {
          "output_type": "stream",
          "name": "stdout",
          "text": [
            "\n",
            "      Epoch    GPU_mem       loss  Instances       Size\n"
          ]
        },
        {
          "output_type": "stream",
          "name": "stderr",
          "text": [
            "     92/100     0.388G    0.01899         30        128: 100%|██████████| 286/286 [00:38<00:00,  7.51it/s]\n",
            "               classes   top1_acc   top5_acc: 100%|██████████| 7/7 [00:00<00:00,  8.42it/s]"
          ]
        },
        {
          "output_type": "stream",
          "name": "stdout",
          "text": [
            "                   all      0.941          1\n"
          ]
        },
        {
          "output_type": "stream",
          "name": "stderr",
          "text": [
            "\n"
          ]
        },
        {
          "output_type": "stream",
          "name": "stdout",
          "text": [
            "\n",
            "      Epoch    GPU_mem       loss  Instances       Size\n"
          ]
        },
        {
          "output_type": "stream",
          "name": "stderr",
          "text": [
            "     93/100     0.388G    0.01931         30        128: 100%|██████████| 286/286 [00:38<00:00,  7.46it/s]\n",
            "               classes   top1_acc   top5_acc: 100%|██████████| 7/7 [00:00<00:00, 11.12it/s]"
          ]
        },
        {
          "output_type": "stream",
          "name": "stdout",
          "text": [
            "                   all      0.946          1\n"
          ]
        },
        {
          "output_type": "stream",
          "name": "stderr",
          "text": [
            "\n"
          ]
        },
        {
          "output_type": "stream",
          "name": "stdout",
          "text": [
            "\n",
            "      Epoch    GPU_mem       loss  Instances       Size\n"
          ]
        },
        {
          "output_type": "stream",
          "name": "stderr",
          "text": [
            "     94/100     0.388G    0.01534         30        128: 100%|██████████| 286/286 [00:38<00:00,  7.45it/s]\n",
            "               classes   top1_acc   top5_acc: 100%|██████████| 7/7 [00:00<00:00,  8.62it/s]"
          ]
        },
        {
          "output_type": "stream",
          "name": "stdout",
          "text": [
            "                   all      0.944          1\n"
          ]
        },
        {
          "output_type": "stream",
          "name": "stderr",
          "text": [
            "\n"
          ]
        },
        {
          "output_type": "stream",
          "name": "stdout",
          "text": [
            "\n",
            "      Epoch    GPU_mem       loss  Instances       Size\n"
          ]
        },
        {
          "output_type": "stream",
          "name": "stderr",
          "text": [
            "     95/100     0.388G    0.01602         30        128: 100%|██████████| 286/286 [00:37<00:00,  7.53it/s]\n",
            "               classes   top1_acc   top5_acc: 100%|██████████| 7/7 [00:00<00:00,  9.43it/s]"
          ]
        },
        {
          "output_type": "stream",
          "name": "stdout",
          "text": [
            "                   all      0.941          1\n"
          ]
        },
        {
          "output_type": "stream",
          "name": "stderr",
          "text": [
            "\n"
          ]
        },
        {
          "output_type": "stream",
          "name": "stdout",
          "text": [
            "\n",
            "      Epoch    GPU_mem       loss  Instances       Size\n"
          ]
        },
        {
          "output_type": "stream",
          "name": "stderr",
          "text": [
            "     96/100     0.388G    0.01597         30        128: 100%|██████████| 286/286 [00:37<00:00,  7.56it/s]\n",
            "               classes   top1_acc   top5_acc: 100%|██████████| 7/7 [00:01<00:00,  6.80it/s]"
          ]
        },
        {
          "output_type": "stream",
          "name": "stdout",
          "text": [
            "                   all      0.941          1\n"
          ]
        },
        {
          "output_type": "stream",
          "name": "stderr",
          "text": [
            "\n"
          ]
        },
        {
          "output_type": "stream",
          "name": "stdout",
          "text": [
            "\n",
            "      Epoch    GPU_mem       loss  Instances       Size\n"
          ]
        },
        {
          "output_type": "stream",
          "name": "stderr",
          "text": [
            "     97/100     0.388G    0.01312         30        128: 100%|██████████| 286/286 [00:37<00:00,  7.69it/s]\n",
            "               classes   top1_acc   top5_acc: 100%|██████████| 7/7 [00:01<00:00,  5.65it/s]"
          ]
        },
        {
          "output_type": "stream",
          "name": "stdout",
          "text": [
            "                   all      0.941          1\n"
          ]
        },
        {
          "output_type": "stream",
          "name": "stderr",
          "text": [
            "\n"
          ]
        },
        {
          "output_type": "stream",
          "name": "stdout",
          "text": [
            "\n",
            "      Epoch    GPU_mem       loss  Instances       Size\n"
          ]
        },
        {
          "output_type": "stream",
          "name": "stderr",
          "text": [
            "     98/100     0.388G    0.01449         30        128: 100%|██████████| 286/286 [00:37<00:00,  7.63it/s]\n",
            "               classes   top1_acc   top5_acc: 100%|██████████| 7/7 [00:00<00:00,  9.24it/s]"
          ]
        },
        {
          "output_type": "stream",
          "name": "stdout",
          "text": [
            "                   all      0.941          1\n"
          ]
        },
        {
          "output_type": "stream",
          "name": "stderr",
          "text": [
            "\n"
          ]
        },
        {
          "output_type": "stream",
          "name": "stdout",
          "text": [
            "\n",
            "      Epoch    GPU_mem       loss  Instances       Size\n"
          ]
        },
        {
          "output_type": "stream",
          "name": "stderr",
          "text": [
            "     99/100     0.388G    0.01614         30        128: 100%|██████████| 286/286 [00:37<00:00,  7.53it/s]\n",
            "               classes   top1_acc   top5_acc: 100%|██████████| 7/7 [00:00<00:00, 10.29it/s]"
          ]
        },
        {
          "output_type": "stream",
          "name": "stdout",
          "text": [
            "                   all      0.941          1\n"
          ]
        },
        {
          "output_type": "stream",
          "name": "stderr",
          "text": [
            "\n"
          ]
        },
        {
          "output_type": "stream",
          "name": "stdout",
          "text": [
            "\n",
            "      Epoch    GPU_mem       loss  Instances       Size\n"
          ]
        },
        {
          "output_type": "stream",
          "name": "stderr",
          "text": [
            "    100/100     0.388G    0.01508         30        128: 100%|██████████| 286/286 [00:38<00:00,  7.51it/s]\n",
            "               classes   top1_acc   top5_acc: 100%|██████████| 7/7 [00:00<00:00,  8.27it/s]"
          ]
        },
        {
          "output_type": "stream",
          "name": "stdout",
          "text": [
            "                   all      0.944          1\n"
          ]
        },
        {
          "output_type": "stream",
          "name": "stderr",
          "text": [
            "\n"
          ]
        },
        {
          "output_type": "stream",
          "name": "stdout",
          "text": [
            "\n",
            "58 epochs completed in 0.615 hours.\n",
            "Optimizer stripped from runs/classify/train2/weights/last.pt, 3.0MB\n",
            "Optimizer stripped from runs/classify/train2/weights/best.pt, 3.0MB\n",
            "\n",
            "Validating runs/classify/train2/weights/best.pt...\n",
            "Ultralytics YOLOv8.1.47 🚀 Python-3.10.12 torch-2.2.1+cu121 CUDA:0 (Tesla T4, 15102MiB)\n",
            "YOLOv8n-cls summary (fused): 73 layers, 1440004 parameters, 0 gradients, 3.3 GFLOPs\n",
            "\u001b[34m\u001b[1mtrain:\u001b[0m /content/traffic-density-4k-2/train... found 9150 images in 4 classes ✅ \n",
            "\u001b[34m\u001b[1mval:\u001b[0m /content/traffic-density-4k-2/val... found 876 images in 4 classes ✅ \n",
            "\u001b[34m\u001b[1mtest:\u001b[0m /content/traffic-density-4k-2/test... found 443 images in 4 classes ✅ \n"
          ]
        },
        {
          "output_type": "stream",
          "name": "stderr",
          "text": [
            "               classes   top1_acc   top5_acc: 100%|██████████| 7/7 [00:01<00:00,  5.63it/s]\n"
          ]
        },
        {
          "output_type": "stream",
          "name": "stdout",
          "text": [
            "                   all      0.953          1\n",
            "Speed: 0.2ms preprocess, 1.8ms inference, 0.0ms loss, 0.0ms postprocess per image\n",
            "Results saved to \u001b[1mruns/classify/train2\u001b[0m\n",
            "Results saved to \u001b[1mruns/classify/train2\u001b[0m\n"
          ]
        }
      ]
    },
    {
      "cell_type": "code",
      "execution_count": 16,
      "metadata": {
        "colab": {
          "base_uri": "https://localhost:8080/"
        },
        "id": "1MScstfHhArr",
        "outputId": "6bf66502-6cd6-4194-c7d9-36d8fc3e4ac5"
      },
      "outputs": [
        {
          "output_type": "stream",
          "name": "stdout",
          "text": [
            "total 1488\n",
            "drwxr-xr-x 3 root root   4096 Apr 16 08:17 .\n",
            "drwxr-xr-x 5 root root   4096 Apr 16 07:36 ..\n",
            "-rw-r--r-- 1 root root   1626 Apr 16 07:40 args.yaml\n",
            "-rw-r--r-- 1 root root 129789 Apr 16 08:17 confusion_matrix_normalized.png\n",
            "-rw-r--r-- 1 root root 115326 Apr 16 08:17 confusion_matrix.png\n",
            "-rw-r--r-- 1 root root 134932 Apr 16 07:36 events.out.tfevents.1713251459.abe732231387.3732.0\n",
            "-rw-r--r-- 1 root root 139774 Apr 16 08:16 events.out.tfevents.1713253257.abe732231387.1555.0\n",
            "-rw-r--r-- 1 root root  19392 Apr 16 08:17 results.csv\n",
            "-rw-r--r-- 1 root root 130747 Apr 16 08:17 results.png\n",
            "-rw-r--r-- 1 root root  65655 Apr 16 07:11 train_batch0.jpg\n",
            "-rw-r--r-- 1 root root  61163 Apr 16 07:11 train_batch1.jpg\n",
            "-rw-r--r-- 1 root root  66545 Apr 16 08:11 train_batch25740.jpg\n",
            "-rw-r--r-- 1 root root  63336 Apr 16 08:11 train_batch25741.jpg\n",
            "-rw-r--r-- 1 root root  64127 Apr 16 08:11 train_batch25742.jpg\n",
            "-rw-r--r-- 1 root root  62835 Apr 16 07:11 train_batch2.jpg\n",
            "-rw-r--r-- 1 root root  66395 Apr 16 08:17 val_batch0_labels.jpg\n",
            "-rw-r--r-- 1 root root  66395 Apr 16 08:17 val_batch0_pred.jpg\n",
            "-rw-r--r-- 1 root root  67753 Apr 16 08:17 val_batch1_labels.jpg\n",
            "-rw-r--r-- 1 root root  67753 Apr 16 08:17 val_batch1_pred.jpg\n",
            "-rw-r--r-- 1 root root  72542 Apr 16 08:17 val_batch2_labels.jpg\n",
            "-rw-r--r-- 1 root root  72405 Apr 16 08:17 val_batch2_pred.jpg\n",
            "drwxr-xr-x 2 root root   4096 Apr 16 07:11 weights\n"
          ]
        }
      ],
      "source": [
        "!ls -la {HOME}/runs/classify/train2/"
      ]
    },
    {
      "cell_type": "code",
      "execution_count": 18,
      "metadata": {
        "colab": {
          "base_uri": "https://localhost:8080/"
        },
        "id": "U_ZOpnH9scaU",
        "outputId": "4a6a46b0-b540-431b-9b85-5de02867a3d1"
      },
      "outputs": [
        {
          "output_type": "stream",
          "name": "stdout",
          "text": [
            "                  epoch,             train/loss,  metrics/accuracy_top1,  metrics/accuracy_top5,               val/loss,                 lr/pg0,                 lr/pg1,                 lr/pg2\n",
            "                      1,                0.71226,                0.88488,                      1,                0.89209,              0.0033217,              0.0033217,              0.0033217\n",
            "                      2,                0.34102,                0.92325,                      1,                0.82799,              0.0065891,              0.0065891,              0.0065891\n",
            "                      3,                 0.3055,                0.91874,                      1,                0.83559,              0.0097906,              0.0097906,              0.0097906\n",
            "                      4,                0.35956,                0.88262,                      1,                0.86496,               0.009703,               0.009703,               0.009703\n",
            "                      5,                 0.2999,                0.90293,                      1,                0.84354,               0.009604,               0.009604,               0.009604\n",
            "                      6,                0.23725,                0.91648,                      1,                0.82861,               0.009505,               0.009505,               0.009505\n",
            "                      7,                0.22094,                0.92099,                      1,                0.83057,               0.009406,               0.009406,               0.009406\n",
            "                      8,                 0.1802,                0.93905,                      1,                0.82366,               0.009307,               0.009307,               0.009307\n",
            "                      9,                0.16625,                0.93454,                      1,                0.81124,               0.009208,               0.009208,               0.009208\n"
          ]
        }
      ],
      "source": [
        "!cat {HOME}/runs/classify/train2/results.csv | head -10"
      ]
    },
    {
      "cell_type": "markdown",
      "metadata": {
        "id": "6ODk1VTlevxn"
      },
      "source": [
        "## Validate Custom Model"
      ]
    },
    {
      "cell_type": "code",
      "execution_count": 19,
      "metadata": {
        "colab": {
          "base_uri": "https://localhost:8080/"
        },
        "id": "YpyuwrNlXc1P",
        "outputId": "efad17d7-4436-4dca-c72a-74bb6ea353c8"
      },
      "outputs": [
        {
          "output_type": "stream",
          "name": "stdout",
          "text": [
            "/content\n",
            "Ultralytics YOLOv8.1.47 🚀 Python-3.10.12 torch-2.2.1+cu121 CUDA:0 (Tesla T4, 15102MiB)\n",
            "YOLOv8n-cls summary (fused): 73 layers, 1440004 parameters, 0 gradients, 3.3 GFLOPs\n",
            "\u001b[34m\u001b[1mtrain:\u001b[0m /content/traffic-density-4k-2/train... found 9150 images in 4 classes ✅ \n",
            "\u001b[34m\u001b[1mval:\u001b[0m /content/traffic-density-4k-2/val... found 876 images in 4 classes ✅ \n",
            "\u001b[34m\u001b[1mtest:\u001b[0m /content/traffic-density-4k-2/test... found 443 images in 4 classes ✅ \n",
            "\u001b[34m\u001b[1mval: \u001b[0mScanning /content/traffic-density-4k-2/val... 876 images, 0 corrupt: 100% 876/876 [00:00<00:00, 4876.42it/s]\n",
            "\u001b[34m\u001b[1mval: \u001b[0mNew cache created: /content/traffic-density-4k-2/val.cache\n",
            "/usr/lib/python3.10/multiprocessing/popen_fork.py:66: RuntimeWarning: os.fork() was called. os.fork() is incompatible with multithreaded code, and JAX is multithreaded, so this will likely lead to a deadlock.\n",
            "  self.pid = os.fork()\n",
            "               classes   top1_acc   top5_acc: 100% 55/55 [00:02<00:00, 19.38it/s]\n",
            "                   all      0.932          1\n",
            "Speed: 0.0ms preprocess, 1.4ms inference, 0.0ms loss, 0.0ms postprocess per image\n",
            "Results saved to \u001b[1mruns/classify/val2\u001b[0m\n",
            "💡 Learn more at https://docs.ultralytics.com/modes/val\n"
          ]
        }
      ],
      "source": [
        "%cd {HOME}\n",
        "\n",
        "!yolo task=classify mode=val model={HOME}/runs/classify/train2/weights/best.pt data={dataset.location}"
      ]
    },
    {
      "cell_type": "markdown",
      "metadata": {
        "id": "i4eASbcWkQBq"
      },
      "source": [
        "## Inference with Custom Model"
      ]
    },
    {
      "cell_type": "code",
      "execution_count": 23,
      "metadata": {
        "colab": {
          "base_uri": "https://localhost:8080/"
        },
        "id": "Wjc1ctZykYuf",
        "outputId": "74ff27ac-04a7-4f9a-fd65-72b82bae15f2"
      },
      "outputs": [
        {
          "output_type": "stream",
          "name": "stdout",
          "text": [
            "/content\n",
            "Ultralytics YOLOv8.1.47 🚀 Python-3.10.12 torch-2.2.1+cu121 CUDA:0 (Tesla T4, 15102MiB)\n",
            "YOLOv8n-cls summary (fused): 73 layers, 1440004 parameters, 0 gradients, 3.3 GFLOPs\n",
            "\n",
            "image 1/226 /content/traffic-density-4k-2/val/dense_traffic/images_002_jpg.rf.126f5cf16ae1bd13544c3b821e3202f0.jpg: 128x128 dense_traffic 1.00, fire 0.00, accident 0.00, sparse_traffic 0.00, 5.0ms\n",
            "image 2/226 /content/traffic-density-4k-2/val/dense_traffic/images_004_jpg.rf.4b6bbe104582d317bd464bef74313a56.jpg: 128x128 dense_traffic 1.00, sparse_traffic 0.00, fire 0.00, accident 0.00, 3.3ms\n",
            "image 3/226 /content/traffic-density-4k-2/val/dense_traffic/images_005-2-_jpg.rf.1e65b2146a33e8fab67c55de6dc69dff.jpg: 128x128 dense_traffic 1.00, fire 0.00, accident 0.00, sparse_traffic 0.00, 2.8ms\n",
            "image 4/226 /content/traffic-density-4k-2/val/dense_traffic/images_007_jpg.rf.2694f5a0fb589b25ec3e106fe943f99e.jpg: 128x128 dense_traffic 1.00, fire 0.00, accident 0.00, sparse_traffic 0.00, 2.5ms\n",
            "image 5/226 /content/traffic-density-4k-2/val/dense_traffic/images_008_jpg.rf.d93bab60ec7302063c80e83daf4c36f3.jpg: 128x128 dense_traffic 1.00, sparse_traffic 0.00, accident 0.00, fire 0.00, 2.8ms\n",
            "image 6/226 /content/traffic-density-4k-2/val/dense_traffic/images_011_jpg.rf.12ee2c628bf12af02cb7febff557f3dc.jpg: 128x128 dense_traffic 0.96, accident 0.04, sparse_traffic 0.00, fire 0.00, 2.8ms\n",
            "image 7/226 /content/traffic-density-4k-2/val/dense_traffic/images_014-2-_jpg.rf.bad88f905791523630b0c744ccae7fa3.jpg: 128x128 dense_traffic 1.00, sparse_traffic 0.00, accident 0.00, fire 0.00, 2.9ms\n",
            "image 8/226 /content/traffic-density-4k-2/val/dense_traffic/images_015_jpg.rf.8c365e65b201063b4d6cb4828f2f251a.jpg: 128x128 dense_traffic 1.00, accident 0.00, sparse_traffic 0.00, fire 0.00, 2.6ms\n",
            "image 9/226 /content/traffic-density-4k-2/val/dense_traffic/images_017-2-_jpg.rf.16e6a8da8567f6835b50941095c748e0.jpg: 128x128 dense_traffic 1.00, accident 0.00, sparse_traffic 0.00, fire 0.00, 2.5ms\n",
            "image 10/226 /content/traffic-density-4k-2/val/dense_traffic/images_019_jpg.rf.d1742e8e6f2e3a84f50c0c0ee41bad91.jpg: 128x128 dense_traffic 1.00, accident 0.00, fire 0.00, sparse_traffic 0.00, 3.3ms\n",
            "image 11/226 /content/traffic-density-4k-2/val/dense_traffic/images_021_jpg.rf.c77d7288364e33bfb3a9dd21f851da46.jpg: 128x128 dense_traffic 1.00, fire 0.00, sparse_traffic 0.00, accident 0.00, 2.5ms\n",
            "image 12/226 /content/traffic-density-4k-2/val/dense_traffic/images_025_jpg.rf.02f1667a520f63410cda922a8e366541.jpg: 128x128 dense_traffic 1.00, sparse_traffic 0.00, accident 0.00, fire 0.00, 2.6ms\n",
            "image 13/226 /content/traffic-density-4k-2/val/dense_traffic/images_026-2-_jpg.rf.03859cd2fa1aedbb33349879b36f70cb.jpg: 128x128 dense_traffic 1.00, sparse_traffic 0.00, accident 0.00, fire 0.00, 2.8ms\n",
            "image 14/226 /content/traffic-density-4k-2/val/dense_traffic/images_032_jpg.rf.ff91a8a3ee758bedecff8c6cf5e050d3.jpg: 128x128 sparse_traffic 0.45, dense_traffic 0.43, accident 0.09, fire 0.03, 2.7ms\n",
            "image 15/226 /content/traffic-density-4k-2/val/dense_traffic/images_037-2-_jpg.rf.c9fb717a6940da8c0cbd8da3caed9e71.jpg: 128x128 dense_traffic 0.99, sparse_traffic 0.01, accident 0.00, fire 0.00, 2.7ms\n",
            "image 16/226 /content/traffic-density-4k-2/val/dense_traffic/images_037-3-_jpg.rf.25e968f67f754098af245c1781bc1993.jpg: 128x128 dense_traffic 1.00, sparse_traffic 0.00, fire 0.00, accident 0.00, 2.7ms\n",
            "image 17/226 /content/traffic-density-4k-2/val/dense_traffic/images_037_jpg.rf.4745cfe0c75be890d97de73e30090c78.jpg: 128x128 dense_traffic 0.97, sparse_traffic 0.03, accident 0.00, fire 0.00, 4.7ms\n",
            "image 18/226 /content/traffic-density-4k-2/val/dense_traffic/images_041-2-_jpg.rf.34a0ebafecb38b51a27da803a6da7641.jpg: 128x128 sparse_traffic 0.72, dense_traffic 0.28, accident 0.00, fire 0.00, 2.8ms\n",
            "image 19/226 /content/traffic-density-4k-2/val/dense_traffic/images_042-2-_jpg.rf.16f23151ef332384ba41d0184ba3886d.jpg: 128x128 dense_traffic 0.72, sparse_traffic 0.28, fire 0.00, accident 0.00, 2.8ms\n",
            "image 20/226 /content/traffic-density-4k-2/val/dense_traffic/images_042-3-_jpg.rf.b285c65756689a5743d7cd51befcb882.jpg: 128x128 dense_traffic 0.96, sparse_traffic 0.04, accident 0.00, fire 0.00, 2.6ms\n",
            "image 21/226 /content/traffic-density-4k-2/val/dense_traffic/images_045_jpg.rf.fe9f09dca7ec9811794524c327b160bc.jpg: 128x128 dense_traffic 1.00, sparse_traffic 0.00, accident 0.00, fire 0.00, 3.1ms\n",
            "image 22/226 /content/traffic-density-4k-2/val/dense_traffic/images_046_jpg.rf.8eeab51d7f8fcc652b49a05883b2e72d.jpg: 128x128 dense_traffic 0.92, accident 0.07, sparse_traffic 0.01, fire 0.00, 2.5ms\n",
            "image 23/226 /content/traffic-density-4k-2/val/dense_traffic/images_047_jpg.rf.7f9c23319947db1bad444b70ecbde88f.jpg: 128x128 dense_traffic 1.00, accident 0.00, sparse_traffic 0.00, fire 0.00, 2.8ms\n",
            "image 24/226 /content/traffic-density-4k-2/val/dense_traffic/images_049_jpg.rf.02d61e774946c30afbbae3156b6e7f32.jpg: 128x128 dense_traffic 1.00, sparse_traffic 0.00, fire 0.00, accident 0.00, 2.8ms\n",
            "image 25/226 /content/traffic-density-4k-2/val/dense_traffic/images_050_jpg.rf.9a167d1d927c0d81988dae5e317e814c.jpg: 128x128 dense_traffic 0.95, accident 0.05, sparse_traffic 0.00, fire 0.00, 2.6ms\n",
            "image 26/226 /content/traffic-density-4k-2/val/dense_traffic/images_058_jpg.rf.110b9d1ef89d99ddf76cf25c8df54965.jpg: 128x128 dense_traffic 1.00, fire 0.00, sparse_traffic 0.00, accident 0.00, 3.2ms\n",
            "image 27/226 /content/traffic-density-4k-2/val/dense_traffic/images_059-2-_jpg.rf.9598e7b6f38975fca35142d2d2ab444e.jpg: 128x128 dense_traffic 1.00, sparse_traffic 0.00, accident 0.00, fire 0.00, 2.7ms\n",
            "image 28/226 /content/traffic-density-4k-2/val/dense_traffic/images_060-2-_jpg.rf.d41775e4b3f3bd19913c71566b957e89.jpg: 128x128 dense_traffic 1.00, sparse_traffic 0.00, accident 0.00, fire 0.00, 3.3ms\n",
            "image 29/226 /content/traffic-density-4k-2/val/dense_traffic/images_060_jpg.rf.9cda95600b60bc8f36324bb93e93cb23.jpg: 128x128 dense_traffic 1.00, sparse_traffic 0.00, accident 0.00, fire 0.00, 4.5ms\n",
            "image 30/226 /content/traffic-density-4k-2/val/dense_traffic/images_065_jpg.rf.4138a22f68a5f1285b1592db7985e18d.jpg: 128x128 sparse_traffic 0.76, dense_traffic 0.24, accident 0.00, fire 0.00, 2.9ms\n",
            "image 31/226 /content/traffic-density-4k-2/val/dense_traffic/images_071_jpg.rf.a0b74410851e9f1598d615d8f37512c0.jpg: 128x128 dense_traffic 1.00, sparse_traffic 0.00, accident 0.00, fire 0.00, 2.8ms\n",
            "image 32/226 /content/traffic-density-4k-2/val/dense_traffic/images_073-3-_jpg.rf.ed5c509bb6beff6e7f9a22dde3124550.jpg: 128x128 accident 1.00, dense_traffic 0.00, sparse_traffic 0.00, fire 0.00, 2.8ms\n",
            "image 33/226 /content/traffic-density-4k-2/val/dense_traffic/images_075_jpg.rf.8676df723393fdbd17dc3234cff7b89f.jpg: 128x128 dense_traffic 1.00, accident 0.00, sparse_traffic 0.00, fire 0.00, 2.8ms\n",
            "image 34/226 /content/traffic-density-4k-2/val/dense_traffic/images_078-2-_jpg.rf.b78329d701d07b3a3fff8caae80484b1.jpg: 128x128 dense_traffic 1.00, sparse_traffic 0.00, accident 0.00, fire 0.00, 2.8ms\n",
            "image 35/226 /content/traffic-density-4k-2/val/dense_traffic/images_086_jpg.rf.7e4c9370ee8e73b69de6afae7b0e5916.jpg: 128x128 dense_traffic 1.00, sparse_traffic 0.00, accident 0.00, fire 0.00, 2.6ms\n",
            "image 36/226 /content/traffic-density-4k-2/val/dense_traffic/images_087_jpg.rf.57d4344a690762db761bf2e3b191364c.jpg: 128x128 dense_traffic 1.00, sparse_traffic 0.00, accident 0.00, fire 0.00, 2.9ms\n",
            "image 37/226 /content/traffic-density-4k-2/val/dense_traffic/images_089-2-_jpg.rf.12463086bcb2259e39637598257f0566.jpg: 128x128 dense_traffic 1.00, sparse_traffic 0.00, accident 0.00, fire 0.00, 2.7ms\n",
            "image 38/226 /content/traffic-density-4k-2/val/dense_traffic/images_089_jpg.rf.0405a65549c189b7d736b89d814b9be0.jpg: 128x128 dense_traffic 1.00, sparse_traffic 0.00, accident 0.00, fire 0.00, 5.3ms\n",
            "image 39/226 /content/traffic-density-4k-2/val/dense_traffic/images_092_jpg.rf.2f9b26fff949e95eedecea5fa31dce22.jpg: 128x128 dense_traffic 1.00, sparse_traffic 0.00, fire 0.00, accident 0.00, 3.1ms\n",
            "image 40/226 /content/traffic-density-4k-2/val/dense_traffic/images_094_jpg.rf.da42cf41bd9048ab51ee2724d52744d5.jpg: 128x128 dense_traffic 1.00, sparse_traffic 0.00, fire 0.00, accident 0.00, 2.7ms\n",
            "image 41/226 /content/traffic-density-4k-2/val/dense_traffic/images_095-3-_jpg.rf.db470c2ed5d2a6624704e88b199c6cff.jpg: 128x128 dense_traffic 1.00, sparse_traffic 0.00, fire 0.00, accident 0.00, 2.6ms\n",
            "image 42/226 /content/traffic-density-4k-2/val/dense_traffic/images_098-2-_jpg.rf.af7d7a889b3005f33607f818603156e8.jpg: 128x128 dense_traffic 1.00, accident 0.00, sparse_traffic 0.00, fire 0.00, 3.0ms\n",
            "image 43/226 /content/traffic-density-4k-2/val/dense_traffic/images_099_jpg.rf.849cac8ee1460c5af405956f42aba6bf.jpg: 128x128 dense_traffic 1.00, sparse_traffic 0.00, accident 0.00, fire 0.00, 2.4ms\n",
            "image 44/226 /content/traffic-density-4k-2/val/dense_traffic/images_100_jpg.rf.7d6f19d3454d5a94464bca602d278b76.jpg: 128x128 dense_traffic 1.00, sparse_traffic 0.00, fire 0.00, accident 0.00, 2.4ms\n",
            "image 45/226 /content/traffic-density-4k-2/val/dense_traffic/images_101-3-_jpg.rf.08f52a0a49760ec15e1c9c715b706b36.jpg: 128x128 dense_traffic 1.00, sparse_traffic 0.00, fire 0.00, accident 0.00, 2.5ms\n",
            "image 46/226 /content/traffic-density-4k-2/val/dense_traffic/images_105-2-_jpg.rf.f2703e295bed377348498e82c6469834.jpg: 128x128 dense_traffic 1.00, accident 0.00, fire 0.00, sparse_traffic 0.00, 2.4ms\n",
            "image 47/226 /content/traffic-density-4k-2/val/dense_traffic/images_106-2-_jpg.rf.1245dccc279e906ac1908c1a1a4f35e7.jpg: 128x128 dense_traffic 1.00, sparse_traffic 0.00, fire 0.00, accident 0.00, 2.6ms\n",
            "image 48/226 /content/traffic-density-4k-2/val/dense_traffic/images_231-2-_jpg.rf.758115212aba580ba19ee3cbd59f5e4b.jpg: 128x128 sparse_traffic 0.99, dense_traffic 0.01, fire 0.00, accident 0.00, 2.5ms\n",
            "image 49/226 /content/traffic-density-4k-2/val/dense_traffic/images_231-4-_jpg.rf.d28814c1bb44451b3ea53ed7830a1888.jpg: 128x128 dense_traffic 1.00, fire 0.00, sparse_traffic 0.00, accident 0.00, 2.5ms\n",
            "image 50/226 /content/traffic-density-4k-2/val/dense_traffic/images_232-2-_jpg.rf.fd268fdb3b8ae516e537c1851ba3d048.jpg: 128x128 dense_traffic 1.00, sparse_traffic 0.00, accident 0.00, fire 0.00, 4.1ms\n",
            "image 51/226 /content/traffic-density-4k-2/val/dense_traffic/images_232-3-_jpg.rf.ea8e060664cb7e5b20c4dcddc00e5f77.jpg: 128x128 dense_traffic 1.00, accident 0.00, fire 0.00, sparse_traffic 0.00, 4.3ms\n",
            "image 52/226 /content/traffic-density-4k-2/val/dense_traffic/images_232_jpg.rf.54f705b68b7a71aaee9b4a15fce0a51f.jpg: 128x128 dense_traffic 1.00, accident 0.00, sparse_traffic 0.00, fire 0.00, 2.7ms\n",
            "image 53/226 /content/traffic-density-4k-2/val/dense_traffic/images_236-2-_jpg.rf.37ee09fe416bab6e5e01afe96db955a7.jpg: 128x128 dense_traffic 1.00, sparse_traffic 0.00, fire 0.00, accident 0.00, 4.4ms\n",
            "image 54/226 /content/traffic-density-4k-2/val/dense_traffic/images_239_jpg.rf.5d24a099b927dc79e0d5d045ccfa10b5.jpg: 128x128 dense_traffic 1.00, sparse_traffic 0.00, accident 0.00, fire 0.00, 2.8ms\n",
            "image 55/226 /content/traffic-density-4k-2/val/dense_traffic/images_242-2-_jpg.rf.bbef052f01b23f37a0375f6e559572ac.jpg: 128x128 dense_traffic 1.00, sparse_traffic 0.00, accident 0.00, fire 0.00, 2.8ms\n",
            "image 56/226 /content/traffic-density-4k-2/val/dense_traffic/images_244-2-_jpg.rf.9c17f1d91f75bc1a8bf0310a5d722059.jpg: 128x128 accident 0.98, fire 0.02, dense_traffic 0.00, sparse_traffic 0.00, 2.8ms\n",
            "image 57/226 /content/traffic-density-4k-2/val/dense_traffic/images_248-2-_jpg.rf.92a2dbcb3012561a1cf086e622061b62.jpg: 128x128 dense_traffic 1.00, sparse_traffic 0.00, accident 0.00, fire 0.00, 2.7ms\n",
            "image 58/226 /content/traffic-density-4k-2/val/dense_traffic/images_250_jpg.rf.ada5824fd6212848cd7056fb460d753f.jpg: 128x128 dense_traffic 1.00, sparse_traffic 0.00, fire 0.00, accident 0.00, 2.7ms\n",
            "image 59/226 /content/traffic-density-4k-2/val/dense_traffic/images_251-2-_jpg.rf.6530364f8305496886a8efb5395ef516.jpg: 128x128 dense_traffic 1.00, sparse_traffic 0.00, accident 0.00, fire 0.00, 2.5ms\n",
            "image 60/226 /content/traffic-density-4k-2/val/dense_traffic/images_251-3-_jpg.rf.3bc8e1d7783723171e31985c8580f697.jpg: 128x128 sparse_traffic 0.99, dense_traffic 0.01, fire 0.00, accident 0.00, 2.5ms\n",
            "image 61/226 /content/traffic-density-4k-2/val/dense_traffic/images_259_jpg.rf.10fddb22e87752af28b09f780de09b4a.jpg: 128x128 sparse_traffic 0.53, accident 0.47, dense_traffic 0.00, fire 0.00, 2.6ms\n",
            "image 62/226 /content/traffic-density-4k-2/val/dense_traffic/images_264_jpg.rf.94178674099fbb5f7a958263521741b6.jpg: 128x128 dense_traffic 0.97, sparse_traffic 0.02, accident 0.00, fire 0.00, 2.4ms\n",
            "image 63/226 /content/traffic-density-4k-2/val/dense_traffic/images_267_jpg.rf.7c108c6d25c00deb8a652ba01fd0e16e.jpg: 128x128 sparse_traffic 0.99, dense_traffic 0.01, accident 0.00, fire 0.00, 2.9ms\n",
            "image 64/226 /content/traffic-density-4k-2/val/dense_traffic/images_268_jpg.rf.7ea6b7d37f18d0c9bbfae8220de5a556.jpg: 128x128 dense_traffic 1.00, accident 0.00, sparse_traffic 0.00, fire 0.00, 2.7ms\n",
            "image 65/226 /content/traffic-density-4k-2/val/dense_traffic/images_270-2-_jpg.rf.ddea8db7c93b1565f927b9452f5e876e.jpg: 128x128 dense_traffic 1.00, sparse_traffic 0.00, accident 0.00, fire 0.00, 2.5ms\n",
            "image 66/226 /content/traffic-density-4k-2/val/dense_traffic/images_270_jpg.rf.fee28ef21217e57e0076a58c054080c7.jpg: 128x128 dense_traffic 1.00, sparse_traffic 0.00, accident 0.00, fire 0.00, 2.6ms\n",
            "image 67/226 /content/traffic-density-4k-2/val/dense_traffic/images_271-3-_jpg.rf.add2cf15fe2beee59abb987a5dff8731.jpg: 128x128 sparse_traffic 1.00, dense_traffic 0.00, accident 0.00, fire 0.00, 2.6ms\n",
            "image 68/226 /content/traffic-density-4k-2/val/dense_traffic/images_277-3-_jpg.rf.6ec782008d082c170d08226afe0dfe98.jpg: 128x128 dense_traffic 0.93, fire 0.07, accident 0.00, sparse_traffic 0.00, 2.7ms\n",
            "image 69/226 /content/traffic-density-4k-2/val/dense_traffic/images_279_jpg.rf.bfc25f1d6c41838f1afb421da974b5c9.jpg: 128x128 dense_traffic 1.00, accident 0.00, sparse_traffic 0.00, fire 0.00, 5.0ms\n",
            "image 70/226 /content/traffic-density-4k-2/val/dense_traffic/images_280_jpg.rf.64d6f5c07e53671ec9194d0fd8b5b766.jpg: 128x128 dense_traffic 1.00, fire 0.00, sparse_traffic 0.00, accident 0.00, 3.9ms\n",
            "image 71/226 /content/traffic-density-4k-2/val/dense_traffic/images_285_jpg.rf.c77e3be35204ad2a7735ac2b3d166034.jpg: 128x128 dense_traffic 1.00, sparse_traffic 0.00, accident 0.00, fire 0.00, 4.0ms\n",
            "image 72/226 /content/traffic-density-4k-2/val/dense_traffic/images_286_jpg.rf.00a076a04b01fdaa7974960d5312c086.jpg: 128x128 accident 0.51, sparse_traffic 0.49, fire 0.00, dense_traffic 0.00, 2.7ms\n",
            "image 73/226 /content/traffic-density-4k-2/val/dense_traffic/images_288_jpg.rf.39543f4998f21dcf826cfb88d6e82894.jpg: 128x128 dense_traffic 1.00, sparse_traffic 0.00, accident 0.00, fire 0.00, 2.7ms\n",
            "image 74/226 /content/traffic-density-4k-2/val/dense_traffic/images_288_jpg.rf.e9aaee48c75c954fa0b93e832ad1a826.jpg: 128x128 dense_traffic 1.00, sparse_traffic 0.00, accident 0.00, fire 0.00, 3.7ms\n",
            "image 75/226 /content/traffic-density-4k-2/val/dense_traffic/images_293_jpg.rf.a4d7e5106e211df49fd14e07e8a4f493.jpg: 128x128 dense_traffic 0.98, accident 0.01, sparse_traffic 0.01, fire 0.00, 2.9ms\n",
            "image 76/226 /content/traffic-density-4k-2/val/dense_traffic/images_293_jpg.rf.fc849b86a25aca19a897e88bedd71861.jpg: 128x128 dense_traffic 0.98, accident 0.01, sparse_traffic 0.01, fire 0.00, 2.6ms\n",
            "image 77/226 /content/traffic-density-4k-2/val/dense_traffic/images_300_jpg.rf.30720ab12849858a985e745e66fdb30b.jpg: 128x128 dense_traffic 1.00, sparse_traffic 0.00, accident 0.00, fire 0.00, 3.1ms\n",
            "image 78/226 /content/traffic-density-4k-2/val/dense_traffic/images_300_jpg.rf.a739e673fe9ad48e990bc465cef06463.jpg: 128x128 dense_traffic 1.00, sparse_traffic 0.00, accident 0.00, fire 0.00, 2.9ms\n",
            "image 79/226 /content/traffic-density-4k-2/val/dense_traffic/images_302_jpg.rf.90807f8442b59991fff13e715997ee01.jpg: 128x128 dense_traffic 1.00, sparse_traffic 0.00, accident 0.00, fire 0.00, 2.5ms\n",
            "image 80/226 /content/traffic-density-4k-2/val/dense_traffic/images_302_jpg.rf.9475a5f0171004051e434e111dc1fa6a.jpg: 128x128 dense_traffic 1.00, sparse_traffic 0.00, accident 0.00, fire 0.00, 2.7ms\n",
            "image 81/226 /content/traffic-density-4k-2/val/dense_traffic/images_303-4-_jpg.rf.780f9891306df24330e39af8390e30ce.jpg: 128x128 dense_traffic 1.00, sparse_traffic 0.00, accident 0.00, fire 0.00, 2.6ms\n",
            "image 82/226 /content/traffic-density-4k-2/val/dense_traffic/images_303-4-_jpg.rf.eed30ac94c2a4636d04a357932287557.jpg: 128x128 dense_traffic 1.00, sparse_traffic 0.00, accident 0.00, fire 0.00, 2.7ms\n",
            "image 83/226 /content/traffic-density-4k-2/val/dense_traffic/images_303-5-_jpg.rf.0bdb38354d01e622aad91a4e77d9d9fe.jpg: 128x128 dense_traffic 1.00, sparse_traffic 0.00, fire 0.00, accident 0.00, 2.7ms\n",
            "image 84/226 /content/traffic-density-4k-2/val/dense_traffic/images_303-5-_jpg.rf.486b31ff0e1de79509f04a978031af23.jpg: 128x128 dense_traffic 1.00, sparse_traffic 0.00, fire 0.00, accident 0.00, 2.4ms\n",
            "image 85/226 /content/traffic-density-4k-2/val/dense_traffic/images_304_jpg.rf.487aab9bd0098f5ca5ca9972ec5a1475.jpg: 128x128 dense_traffic 1.00, accident 0.00, fire 0.00, sparse_traffic 0.00, 2.9ms\n",
            "image 86/226 /content/traffic-density-4k-2/val/dense_traffic/images_304_jpg.rf.9aa51a7e9ef520dcc83027021315d85f.jpg: 128x128 dense_traffic 1.00, accident 0.00, fire 0.00, sparse_traffic 0.00, 2.6ms\n",
            "image 87/226 /content/traffic-density-4k-2/val/dense_traffic/images_315_jpg.rf.3cba8584a841ed4aae4bfd599d16ce9f.jpg: 128x128 dense_traffic 1.00, sparse_traffic 0.00, accident 0.00, fire 0.00, 2.8ms\n",
            "image 88/226 /content/traffic-density-4k-2/val/dense_traffic/images_315_jpg.rf.4224c7f7946479c72895bf295e8c255d.jpg: 128x128 dense_traffic 1.00, sparse_traffic 0.00, accident 0.00, fire 0.00, 2.5ms\n",
            "image 89/226 /content/traffic-density-4k-2/val/dense_traffic/images_318_jpg.rf.3660e54e333645f4f2b8860441bc7ea5.jpg: 128x128 dense_traffic 1.00, fire 0.00, sparse_traffic 0.00, accident 0.00, 3.0ms\n",
            "image 90/226 /content/traffic-density-4k-2/val/dense_traffic/images_318_jpg.rf.46edabff3567d7f5c36e7350a7f2d733.jpg: 128x128 dense_traffic 1.00, fire 0.00, sparse_traffic 0.00, accident 0.00, 2.7ms\n",
            "image 91/226 /content/traffic-density-4k-2/val/dense_traffic/images_320_jpg.rf.2af0c0ac3d2778e770cfef7235a55d38.jpg: 128x128 dense_traffic 1.00, sparse_traffic 0.00, accident 0.00, fire 0.00, 2.4ms\n",
            "image 92/226 /content/traffic-density-4k-2/val/dense_traffic/images_320_jpg.rf.3365205fce21d04a5dda5ba518c373cf.jpg: 128x128 dense_traffic 1.00, sparse_traffic 0.00, accident 0.00, fire 0.00, 2.5ms\n",
            "image 93/226 /content/traffic-density-4k-2/val/dense_traffic/images_323_jpg.rf.37d892acae5b6116e979cf54f3891443.jpg: 128x128 dense_traffic 1.00, fire 0.00, sparse_traffic 0.00, accident 0.00, 2.7ms\n",
            "image 94/226 /content/traffic-density-4k-2/val/dense_traffic/images_323_jpg.rf.4fa8503b52eaba3e7f8e0b3617d24a08.jpg: 128x128 dense_traffic 1.00, fire 0.00, sparse_traffic 0.00, accident 0.00, 2.8ms\n",
            "image 95/226 /content/traffic-density-4k-2/val/dense_traffic/images_326_jpg.rf.00a843d6faa9421198c534020c807706.jpg: 128x128 dense_traffic 1.00, fire 0.00, sparse_traffic 0.00, accident 0.00, 2.8ms\n",
            "image 96/226 /content/traffic-density-4k-2/val/dense_traffic/images_326_jpg.rf.3ea66c0b89a9a2b33088bae02b217a41.jpg: 128x128 dense_traffic 1.00, fire 0.00, sparse_traffic 0.00, accident 0.00, 2.5ms\n",
            "image 97/226 /content/traffic-density-4k-2/val/dense_traffic/images_327-2-_jpg.rf.0b60a7e1130d714dd765da92fb612573.jpg: 128x128 dense_traffic 1.00, sparse_traffic 0.00, fire 0.00, accident 0.00, 2.5ms\n",
            "image 98/226 /content/traffic-density-4k-2/val/dense_traffic/images_327-2-_jpg.rf.7989b4a956ebc536e7a34a87e204d14c.jpg: 128x128 dense_traffic 1.00, sparse_traffic 0.00, fire 0.00, accident 0.00, 2.6ms\n",
            "image 99/226 /content/traffic-density-4k-2/val/dense_traffic/images_335_jpg.rf.43c68d5923f562c582679856c5999f86.jpg: 128x128 dense_traffic 1.00, sparse_traffic 0.00, fire 0.00, accident 0.00, 2.6ms\n",
            "image 100/226 /content/traffic-density-4k-2/val/dense_traffic/images_335_jpg.rf.9d3bd3988e755f90e8f0f623b4094f3b.jpg: 128x128 dense_traffic 1.00, sparse_traffic 0.00, fire 0.00, accident 0.00, 2.7ms\n",
            "image 101/226 /content/traffic-density-4k-2/val/dense_traffic/images_339_jpg.rf.c1b5a712ad6a7bab62a2b6afa7e86020.jpg: 128x128 dense_traffic 1.00, sparse_traffic 0.00, accident 0.00, fire 0.00, 2.8ms\n",
            "image 102/226 /content/traffic-density-4k-2/val/dense_traffic/images_339_jpg.rf.f8850f884cc83dd83574469659174781.jpg: 128x128 dense_traffic 1.00, sparse_traffic 0.00, accident 0.00, fire 0.00, 2.9ms\n",
            "image 103/226 /content/traffic-density-4k-2/val/dense_traffic/images_340-2-_jpg.rf.c251d4c3db3ccf22e5bc5ad87b5ac5d7.jpg: 128x128 dense_traffic 0.99, sparse_traffic 0.01, accident 0.00, fire 0.00, 2.9ms\n",
            "image 104/226 /content/traffic-density-4k-2/val/dense_traffic/images_340-2-_jpg.rf.da3e38ab0cde3305303b460e045fb595.jpg: 128x128 dense_traffic 0.99, sparse_traffic 0.01, accident 0.00, fire 0.00, 2.7ms\n",
            "image 105/226 /content/traffic-density-4k-2/val/dense_traffic/images_341-3-_jpg.rf.1252301e8b275ed2f6ccef6640145646.jpg: 128x128 dense_traffic 1.00, sparse_traffic 0.00, accident 0.00, fire 0.00, 2.8ms\n",
            "image 106/226 /content/traffic-density-4k-2/val/dense_traffic/images_341-3-_jpg.rf.ec0412b98d8ef25677b04863450997d1.jpg: 128x128 dense_traffic 1.00, sparse_traffic 0.00, accident 0.00, fire 0.00, 2.7ms\n",
            "image 107/226 /content/traffic-density-4k-2/val/dense_traffic/images_347-2-_jpg.rf.8adfd48877d1331d1f954659bcb550d7.jpg: 128x128 dense_traffic 1.00, sparse_traffic 0.00, accident 0.00, fire 0.00, 2.6ms\n",
            "image 108/226 /content/traffic-density-4k-2/val/dense_traffic/images_347-2-_jpg.rf.a57f38a3537a81f89a8b8c1d0c08eb14.jpg: 128x128 dense_traffic 1.00, sparse_traffic 0.00, accident 0.00, fire 0.00, 2.7ms\n",
            "image 109/226 /content/traffic-density-4k-2/val/dense_traffic/images_349-2-_jpg.rf.d10e7b41c329ac3bd6c5146e8ff6eadd.jpg: 128x128 accident 0.85, dense_traffic 0.14, sparse_traffic 0.01, fire 0.00, 2.8ms\n",
            "image 110/226 /content/traffic-density-4k-2/val/dense_traffic/images_352_jpg.rf.ebd8e1463b60cd326860f38635cf15cf.jpg: 128x128 dense_traffic 1.00, sparse_traffic 0.00, accident 0.00, fire 0.00, 2.6ms\n",
            "image 111/226 /content/traffic-density-4k-2/val/dense_traffic/images_352_jpg.rf.f8b20298db8c40e056a3b73c835c1281.jpg: 128x128 dense_traffic 1.00, sparse_traffic 0.00, accident 0.00, fire 0.00, 2.7ms\n",
            "image 112/226 /content/traffic-density-4k-2/val/dense_traffic/images_362-2-_jpg.rf.7ffc92fb37b12a5b919ae70fc7b35b8d.jpg: 128x128 dense_traffic 1.00, sparse_traffic 0.00, fire 0.00, accident 0.00, 2.6ms\n",
            "image 113/226 /content/traffic-density-4k-2/val/dense_traffic/images_366_jpg.rf.710b5e394cc2dddf84993b98c07a9999.jpg: 128x128 dense_traffic 1.00, sparse_traffic 0.00, accident 0.00, fire 0.00, 2.6ms\n",
            "image 114/226 /content/traffic-density-4k-2/val/dense_traffic/images_371_jpg.rf.132153a7cc36a18912464191514eb03f.jpg: 128x128 dense_traffic 1.00, accident 0.00, sparse_traffic 0.00, fire 0.00, 3.7ms\n",
            "image 115/226 /content/traffic-density-4k-2/val/dense_traffic/images_375-3-_jpg.rf.ca194f9a7ee4470cc8fa913847ff1b9a.jpg: 128x128 dense_traffic 1.00, fire 0.00, accident 0.00, sparse_traffic 0.00, 2.8ms\n",
            "image 116/226 /content/traffic-density-4k-2/val/dense_traffic/images_380-2-_jpg.rf.19f807cb789b942df549f6b9891796b2.jpg: 128x128 dense_traffic 1.00, fire 0.00, sparse_traffic 0.00, accident 0.00, 2.7ms\n",
            "image 117/226 /content/traffic-density-4k-2/val/dense_traffic/images_380_jpg.rf.101222de3e22a1364a551b7a8b200ba3.jpg: 128x128 dense_traffic 1.00, sparse_traffic 0.00, accident 0.00, fire 0.00, 2.4ms\n",
            "image 118/226 /content/traffic-density-4k-2/val/dense_traffic/images_384-2-_jpg.rf.c53da6a1a6981078d65371663858af94.jpg: 128x128 dense_traffic 1.00, accident 0.00, sparse_traffic 0.00, fire 0.00, 2.6ms\n",
            "image 119/226 /content/traffic-density-4k-2/val/dense_traffic/images_384-3-_jpg.rf.4cb8cefa0e73f3a16604833dc4a2d13b.jpg: 128x128 dense_traffic 1.00, fire 0.00, sparse_traffic 0.00, accident 0.00, 2.7ms\n",
            "image 120/226 /content/traffic-density-4k-2/val/dense_traffic/images_388-2-_jpg.rf.48923ba9c3d82f797b5a887644207c44.jpg: 128x128 dense_traffic 1.00, sparse_traffic 0.00, fire 0.00, accident 0.00, 2.5ms\n",
            "image 121/226 /content/traffic-density-4k-2/val/dense_traffic/images_391-3-_jpg.rf.651a3fd3e63e88d63bc18f80976ef5aa.jpg: 128x128 dense_traffic 0.93, sparse_traffic 0.07, fire 0.00, accident 0.00, 2.6ms\n",
            "image 122/226 /content/traffic-density-4k-2/val/dense_traffic/images_392-2-_jpg.rf.930738043f89a1a106bd307feb9a016f.jpg: 128x128 dense_traffic 0.76, accident 0.22, sparse_traffic 0.01, fire 0.00, 2.5ms\n",
            "image 123/226 /content/traffic-density-4k-2/val/dense_traffic/images_394-2-_jpg.rf.83fccb5f3334a9200679f1ab572ed580.jpg: 128x128 dense_traffic 1.00, sparse_traffic 0.00, fire 0.00, accident 0.00, 2.6ms\n",
            "image 124/226 /content/traffic-density-4k-2/val/dense_traffic/images_398_jpg.rf.bb603deb8a4f2a46abd459aacfff94c5.jpg: 128x128 dense_traffic 1.00, accident 0.00, sparse_traffic 0.00, fire 0.00, 2.6ms\n",
            "image 125/226 /content/traffic-density-4k-2/val/dense_traffic/images_400-2-_jpg.rf.e6b9fa83b045be285b4df32681cc94a9.jpg: 128x128 dense_traffic 1.00, accident 0.00, sparse_traffic 0.00, fire 0.00, 2.6ms\n",
            "image 126/226 /content/traffic-density-4k-2/val/dense_traffic/images_400_jpg.rf.22f4c66fad3ed3999ef64ce3bb0fb1f1.jpg: 128x128 sparse_traffic 0.88, fire 0.12, dense_traffic 0.00, accident 0.00, 3.9ms\n",
            "image 127/226 /content/traffic-density-4k-2/val/dense_traffic/images_402-3-_jpg.rf.d03992a1f2cbd09d8e869d64d7f49f49.jpg: 128x128 dense_traffic 1.00, accident 0.00, fire 0.00, sparse_traffic 0.00, 2.6ms\n",
            "image 128/226 /content/traffic-density-4k-2/val/dense_traffic/images_405-2-_jpg.rf.d426dc9f5750454bf3b71156865f69f4.jpg: 128x128 sparse_traffic 1.00, dense_traffic 0.00, accident 0.00, fire 0.00, 2.5ms\n",
            "image 129/226 /content/traffic-density-4k-2/val/dense_traffic/images_408_jpg.rf.f820d643ec5aeb7d7d90d7e57376377d.jpg: 128x128 dense_traffic 1.00, accident 0.00, fire 0.00, sparse_traffic 0.00, 2.8ms\n",
            "image 130/226 /content/traffic-density-4k-2/val/dense_traffic/images_414-4-_jpg.rf.a7f229b5fa3cb09e2047eb6582fb46ab.jpg: 128x128 sparse_traffic 1.00, dense_traffic 0.00, fire 0.00, accident 0.00, 2.8ms\n",
            "image 131/226 /content/traffic-density-4k-2/val/dense_traffic/images_418_jpg.rf.0e78d69e713bc2d154da04b713e702d3.jpg: 128x128 dense_traffic 1.00, sparse_traffic 0.00, fire 0.00, accident 0.00, 2.5ms\n",
            "image 132/226 /content/traffic-density-4k-2/val/dense_traffic/images_420_jpg.rf.61136c6b2337bb4e2722936de7772f25.jpg: 128x128 dense_traffic 1.00, sparse_traffic 0.00, fire 0.00, accident 0.00, 2.8ms\n",
            "image 133/226 /content/traffic-density-4k-2/val/dense_traffic/images_421_jpg.rf.e83acb0516bdea0ee4d931b3a132129d.jpg: 128x128 dense_traffic 1.00, sparse_traffic 0.00, accident 0.00, fire 0.00, 2.5ms\n",
            "image 134/226 /content/traffic-density-4k-2/val/dense_traffic/images_431-2-_jpg.rf.89ca5104b891f17fb1ce92f2e4c56e07.jpg: 128x128 dense_traffic 1.00, sparse_traffic 0.00, accident 0.00, fire 0.00, 2.7ms\n",
            "image 135/226 /content/traffic-density-4k-2/val/dense_traffic/images_431_jpg.rf.93060d7c23fc5adb578c870a05cc9e6a.jpg: 128x128 dense_traffic 1.00, sparse_traffic 0.00, fire 0.00, accident 0.00, 2.6ms\n",
            "image 136/226 /content/traffic-density-4k-2/val/dense_traffic/images_436_jpg.rf.1889f0ddcbbd1947c28bc6045d67dfb2.jpg: 128x128 dense_traffic 1.00, fire 0.00, sparse_traffic 0.00, accident 0.00, 2.8ms\n",
            "image 137/226 /content/traffic-density-4k-2/val/dense_traffic/images_437-3-_jpg.rf.c05cba481924c252acdd58d2201c64d1.jpg: 128x128 dense_traffic 1.00, accident 0.00, sparse_traffic 0.00, fire 0.00, 3.0ms\n",
            "image 138/226 /content/traffic-density-4k-2/val/dense_traffic/images_438-2-_jpg.rf.300f40f8cfd3acfa6df5e1d8ad158424.jpg: 128x128 dense_traffic 0.66, sparse_traffic 0.34, accident 0.00, fire 0.00, 2.9ms\n",
            "image 139/226 /content/traffic-density-4k-2/val/dense_traffic/images_447-2-_jpg.rf.84b6b091b98b987229c586c084af2ec9.jpg: 128x128 dense_traffic 0.98, sparse_traffic 0.02, accident 0.00, fire 0.00, 2.8ms\n",
            "image 140/226 /content/traffic-density-4k-2/val/dense_traffic/images_448-2-_jpg.rf.f4678653d49847a27cbf69af7ae82f1a.jpg: 128x128 sparse_traffic 1.00, dense_traffic 0.00, accident 0.00, fire 0.00, 2.6ms\n",
            "image 141/226 /content/traffic-density-4k-2/val/dense_traffic/images_448-3-_jpg.rf.57d77b3565650eb94c4c8aa9c2971dc9.jpg: 128x128 dense_traffic 1.00, fire 0.00, sparse_traffic 0.00, accident 0.00, 2.6ms\n",
            "image 142/226 /content/traffic-density-4k-2/val/dense_traffic/images_459-2-_jpg.rf.1a82268b376c833381758364fd834616.jpg: 128x128 dense_traffic 1.00, fire 0.00, accident 0.00, sparse_traffic 0.00, 2.5ms\n",
            "image 143/226 /content/traffic-density-4k-2/val/dense_traffic/images_461-2-_jpg.rf.a1ccd31a2c0b3b1a39b7fcf5d8cad0c2.jpg: 128x128 dense_traffic 1.00, sparse_traffic 0.00, fire 0.00, accident 0.00, 2.6ms\n",
            "image 144/226 /content/traffic-density-4k-2/val/dense_traffic/images_463-2-_jpg.rf.7827450f65b88bab562f53616edfbd5c.jpg: 128x128 dense_traffic 1.00, sparse_traffic 0.00, fire 0.00, accident 0.00, 2.6ms\n",
            "image 145/226 /content/traffic-density-4k-2/val/dense_traffic/images_465-2-_jpg.rf.7ba263aef3557541929e68bcf77e256e.jpg: 128x128 dense_traffic 1.00, sparse_traffic 0.00, fire 0.00, accident 0.00, 2.6ms\n",
            "image 146/226 /content/traffic-density-4k-2/val/dense_traffic/images_465_jpg.rf.272fd2aa6be153af8ac38873ba0710a3.jpg: 128x128 dense_traffic 1.00, sparse_traffic 0.00, fire 0.00, accident 0.00, 4.5ms\n",
            "image 147/226 /content/traffic-density-4k-2/val/dense_traffic/images_468-2-_jpg.rf.a0780a24d729287f46a509a072f4dfe3.jpg: 128x128 dense_traffic 1.00, accident 0.00, sparse_traffic 0.00, fire 0.00, 2.5ms\n",
            "image 148/226 /content/traffic-density-4k-2/val/dense_traffic/images_469_jpg.rf.d624ec309fde2f668d8e4c0479ea9412.jpg: 128x128 dense_traffic 1.00, accident 0.00, sparse_traffic 0.00, fire 0.00, 2.5ms\n",
            "image 149/226 /content/traffic-density-4k-2/val/dense_traffic/images_470_jpg.rf.14f43ae26a74cfd0c7e124ae49b22efe.jpg: 128x128 dense_traffic 0.99, sparse_traffic 0.01, fire 0.00, accident 0.00, 2.5ms\n",
            "image 150/226 /content/traffic-density-4k-2/val/dense_traffic/images_473_jpg.rf.bd39fa1fa8a049fbee2e00366d0b2b56.jpg: 128x128 dense_traffic 1.00, sparse_traffic 0.00, accident 0.00, fire 0.00, 2.7ms\n",
            "image 151/226 /content/traffic-density-4k-2/val/dense_traffic/images_479-2-_jpg.rf.74ebfb17372f317d8190c75be87b7396.jpg: 128x128 dense_traffic 1.00, sparse_traffic 0.00, fire 0.00, accident 0.00, 2.6ms\n",
            "image 152/226 /content/traffic-density-4k-2/val/dense_traffic/images_480_jpg.rf.bf036dd09b939299d13165c9b05aca43.jpg: 128x128 dense_traffic 1.00, sparse_traffic 0.00, accident 0.00, fire 0.00, 2.5ms\n",
            "image 153/226 /content/traffic-density-4k-2/val/dense_traffic/images_481-2-_jpg.rf.b7020aefab1bd1f61325993063e6ddc3.jpg: 128x128 dense_traffic 0.73, sparse_traffic 0.27, accident 0.00, fire 0.00, 2.8ms\n",
            "image 154/226 /content/traffic-density-4k-2/val/dense_traffic/images_482_jpg.rf.e3a37782edb5369baf745e54d9e364d9.jpg: 128x128 sparse_traffic 0.98, dense_traffic 0.02, fire 0.00, accident 0.00, 2.5ms\n",
            "image 155/226 /content/traffic-density-4k-2/val/dense_traffic/images_483_jpg.rf.4e3dc1f363641b167f6f97d5d755065d.jpg: 128x128 dense_traffic 0.84, sparse_traffic 0.16, accident 0.00, fire 0.00, 2.5ms\n",
            "image 156/226 /content/traffic-density-4k-2/val/dense_traffic/images_484-2-_jpg.rf.9e05204ed255d0008fe8cfd3f61f1335.jpg: 128x128 dense_traffic 1.00, sparse_traffic 0.00, accident 0.00, fire 0.00, 3.1ms\n",
            "image 157/226 /content/traffic-density-4k-2/val/dense_traffic/images_487_jpg.rf.fdefa711585ae77c055c86fbd002b96f.jpg: 128x128 dense_traffic 1.00, fire 0.00, sparse_traffic 0.00, accident 0.00, 4.3ms\n",
            "image 158/226 /content/traffic-density-4k-2/val/dense_traffic/images_488-2-_jpg.rf.07d09e11b8a961cd025ebd4d113d1c86.jpg: 128x128 dense_traffic 1.00, sparse_traffic 0.00, fire 0.00, accident 0.00, 2.8ms\n",
            "image 159/226 /content/traffic-density-4k-2/val/dense_traffic/images_488_jpg.rf.34a8f2d7d963cf711998c3a77d9f5da9.jpg: 128x128 dense_traffic 1.00, sparse_traffic 0.00, accident 0.00, fire 0.00, 4.1ms\n",
            "image 160/226 /content/traffic-density-4k-2/val/dense_traffic/images_489_jpg.rf.393262a3b3afa17eda256789f547e383.jpg: 128x128 dense_traffic 1.00, sparse_traffic 0.00, fire 0.00, accident 0.00, 2.5ms\n",
            "image 161/226 /content/traffic-density-4k-2/val/dense_traffic/images_497_jpg.rf.d9937342769b9b88ccc16f3621497c5e.jpg: 128x128 dense_traffic 1.00, sparse_traffic 0.00, accident 0.00, fire 0.00, 2.6ms\n",
            "image 162/226 /content/traffic-density-4k-2/val/dense_traffic/images_498_jpg.rf.6393d7c734ab62c777258222ad40503f.jpg: 128x128 dense_traffic 1.00, sparse_traffic 0.00, fire 0.00, accident 0.00, 2.7ms\n",
            "image 163/226 /content/traffic-density-4k-2/val/dense_traffic/images_501_jpg.rf.b4247b6dda3263b325c9e3f94063409d.jpg: 128x128 dense_traffic 1.00, sparse_traffic 0.00, fire 0.00, accident 0.00, 4.1ms\n",
            "image 164/226 /content/traffic-density-4k-2/val/dense_traffic/images_506-2-_jpg.rf.28d50745dd34def2ecc88843efc7e3d2.jpg: 128x128 dense_traffic 1.00, accident 0.00, sparse_traffic 0.00, fire 0.00, 2.8ms\n",
            "image 165/226 /content/traffic-density-4k-2/val/dense_traffic/images_508-2-_jpg.rf.417fcd22f045192d8ebb662bbe049fb7.jpg: 128x128 dense_traffic 1.00, sparse_traffic 0.00, fire 0.00, accident 0.00, 2.7ms\n",
            "image 166/226 /content/traffic-density-4k-2/val/dense_traffic/images_509_jpg.rf.da3c031247c3ac9bd77e5c2678d173a3.jpg: 128x128 dense_traffic 1.00, sparse_traffic 0.00, accident 0.00, fire 0.00, 2.8ms\n",
            "image 167/226 /content/traffic-density-4k-2/val/dense_traffic/images_513_jpg.rf.5ae349f813556c421a56a7d9c12dc866.jpg: 128x128 dense_traffic 1.00, sparse_traffic 0.00, accident 0.00, fire 0.00, 2.7ms\n",
            "image 168/226 /content/traffic-density-4k-2/val/dense_traffic/images_514_jpg.rf.457cfc916d7f286bbd76ff34546e6cd3.jpg: 128x128 dense_traffic 0.78, sparse_traffic 0.21, accident 0.01, fire 0.00, 2.6ms\n",
            "image 169/226 /content/traffic-density-4k-2/val/dense_traffic/images_516_jpg.rf.7886ee8b27dfefaf9ae9ddf581592a2e.jpg: 128x128 sparse_traffic 1.00, dense_traffic 0.00, accident 0.00, fire 0.00, 2.5ms\n",
            "image 170/226 /content/traffic-density-4k-2/val/dense_traffic/images_518_jpg.rf.607b3e5700bf548bb7310e533dfc7eb4.jpg: 128x128 sparse_traffic 0.98, dense_traffic 0.02, accident 0.00, fire 0.00, 2.7ms\n",
            "image 171/226 /content/traffic-density-4k-2/val/dense_traffic/images_519-2-_jpg.rf.f76f145370c9927a3434a9c9945c7441.jpg: 128x128 dense_traffic 1.00, sparse_traffic 0.00, accident 0.00, fire 0.00, 2.5ms\n",
            "image 172/226 /content/traffic-density-4k-2/val/dense_traffic/images_519_jpg.rf.d77332c24bd984610b45218854ccdc11.jpg: 128x128 dense_traffic 0.94, sparse_traffic 0.06, accident 0.00, fire 0.00, 2.9ms\n",
            "image 173/226 /content/traffic-density-4k-2/val/dense_traffic/images_522-4-_jpg.rf.30962352c2d65ef56b62338341047aff.jpg: 128x128 dense_traffic 1.00, sparse_traffic 0.00, accident 0.00, fire 0.00, 2.7ms\n",
            "image 174/226 /content/traffic-density-4k-2/val/dense_traffic/images_530_jpg.rf.b24a9e53da37c6dec3ffc5cff90f8877.jpg: 128x128 dense_traffic 1.00, fire 0.00, sparse_traffic 0.00, accident 0.00, 2.9ms\n",
            "image 175/226 /content/traffic-density-4k-2/val/dense_traffic/images_532_jpg.rf.2281ed4d101bf4e0b14c4a06d31b6761.jpg: 128x128 sparse_traffic 1.00, dense_traffic 0.00, fire 0.00, accident 0.00, 2.7ms\n",
            "image 176/226 /content/traffic-density-4k-2/val/dense_traffic/images_533-3-_jpg.rf.6b1befd17c4030083da9740a0793449e.jpg: 128x128 dense_traffic 1.00, accident 0.00, sparse_traffic 0.00, fire 0.00, 3.0ms\n",
            "image 177/226 /content/traffic-density-4k-2/val/dense_traffic/images_534_jpg.rf.65fdbb53d3835607e23e8552fd7282a6.jpg: 128x128 dense_traffic 1.00, sparse_traffic 0.00, accident 0.00, fire 0.00, 2.8ms\n",
            "image 178/226 /content/traffic-density-4k-2/val/dense_traffic/images_538_jpg.rf.ec981639083d114d80fff08cbe371e2a.jpg: 128x128 dense_traffic 0.98, sparse_traffic 0.02, accident 0.00, fire 0.00, 2.7ms\n",
            "image 179/226 /content/traffic-density-4k-2/val/dense_traffic/images_541_jpg.rf.3279f213562799b87b5fd177e9084982.jpg: 128x128 dense_traffic 1.00, sparse_traffic 0.00, accident 0.00, fire 0.00, 2.7ms\n",
            "image 180/226 /content/traffic-density-4k-2/val/dense_traffic/images_543-2-_jpg.rf.cfc5a2af8ef35f57a6b9a9ae964e8e5a.jpg: 128x128 dense_traffic 1.00, accident 0.00, sparse_traffic 0.00, fire 0.00, 2.6ms\n",
            "image 181/226 /content/traffic-density-4k-2/val/dense_traffic/images_543_jpg.rf.1611fb071bcad4da3c286ac10b8ff0e0.jpg: 128x128 sparse_traffic 1.00, dense_traffic 0.00, accident 0.00, fire 0.00, 2.5ms\n",
            "image 182/226 /content/traffic-density-4k-2/val/dense_traffic/images_548-2-_jpg.rf.46d5226941bbb76b4c4761aa1aff5ed7.jpg: 128x128 dense_traffic 1.00, sparse_traffic 0.00, accident 0.00, fire 0.00, 3.5ms\n",
            "image 183/226 /content/traffic-density-4k-2/val/dense_traffic/images_549-3-_jpg.rf.bd2a2a35d6c10eee94e233b143f6a0cb.jpg: 128x128 dense_traffic 1.00, sparse_traffic 0.00, fire 0.00, accident 0.00, 2.6ms\n",
            "image 184/226 /content/traffic-density-4k-2/val/dense_traffic/images_550-3-_jpg.rf.c63ebc419aca8558c05ebcd1df461e0b.jpg: 128x128 dense_traffic 1.00, sparse_traffic 0.00, fire 0.00, accident 0.00, 2.8ms\n",
            "image 185/226 /content/traffic-density-4k-2/val/dense_traffic/images_553-2-_jpg.rf.e80daef67652286375ad970d6750faaf.jpg: 128x128 dense_traffic 1.00, sparse_traffic 0.00, fire 0.00, accident 0.00, 2.6ms\n",
            "image 186/226 /content/traffic-density-4k-2/val/dense_traffic/images_561_jpg.rf.cfe87a1589b0d544cd29522787f88afa.jpg: 128x128 dense_traffic 1.00, sparse_traffic 0.00, accident 0.00, fire 0.00, 2.8ms\n",
            "image 187/226 /content/traffic-density-4k-2/val/dense_traffic/images_562-2-_jpg.rf.e935a0048f6960ed9518a0b61d47bb71.jpg: 128x128 dense_traffic 1.00, sparse_traffic 0.00, accident 0.00, fire 0.00, 2.5ms\n",
            "image 188/226 /content/traffic-density-4k-2/val/dense_traffic/images_575_jpg.rf.4c6670cb3d179ba5a53ab08b7b57755d.jpg: 128x128 dense_traffic 0.96, sparse_traffic 0.04, accident 0.00, fire 0.00, 2.4ms\n",
            "image 189/226 /content/traffic-density-4k-2/val/dense_traffic/images_577_jpg.rf.fb5865c1e0b03ba0b3d534d8ec3c95b9.jpg: 128x128 dense_traffic 1.00, sparse_traffic 0.00, fire 0.00, accident 0.00, 3.2ms\n",
            "image 190/226 /content/traffic-density-4k-2/val/dense_traffic/images_579_jpg.rf.3eaa52b7c9991bd3be66a84994c6d143.jpg: 128x128 dense_traffic 1.00, fire 0.00, sparse_traffic 0.00, accident 0.00, 2.8ms\n",
            "image 191/226 /content/traffic-density-4k-2/val/dense_traffic/images_585-2-_jpg.rf.2a4eb1da3ea179dbc980dec0b6469c86.jpg: 128x128 dense_traffic 1.00, fire 0.00, sparse_traffic 0.00, accident 0.00, 3.3ms\n",
            "image 192/226 /content/traffic-density-4k-2/val/dense_traffic/images_593_jpg.rf.e0ba154bcb7878c3f25feb2b6714ce93.jpg: 128x128 dense_traffic 1.00, sparse_traffic 0.00, accident 0.00, fire 0.00, 2.6ms\n",
            "image 193/226 /content/traffic-density-4k-2/val/dense_traffic/images_594_jpg.rf.9872526fedb81048191f216ab1209b74.jpg: 128x128 sparse_traffic 0.85, dense_traffic 0.15, accident 0.00, fire 0.00, 2.6ms\n",
            "image 194/226 /content/traffic-density-4k-2/val/dense_traffic/images_595_jpg.rf.ee1876cd581bd49615d42dd9d658e6b0.jpg: 128x128 dense_traffic 1.00, accident 0.00, sparse_traffic 0.00, fire 0.00, 2.6ms\n",
            "image 195/226 /content/traffic-density-4k-2/val/dense_traffic/images_597_jpg.rf.d0d328ddb4482ce2f8ed347a2b993b00.jpg: 128x128 dense_traffic 0.66, sparse_traffic 0.34, fire 0.00, accident 0.00, 2.7ms\n",
            "image 196/226 /content/traffic-density-4k-2/val/dense_traffic/images_598-2-_jpg.rf.b9b66ea649d2ae6d75276535ac232269.jpg: 128x128 dense_traffic 1.00, sparse_traffic 0.00, fire 0.00, accident 0.00, 2.5ms\n",
            "image 197/226 /content/traffic-density-4k-2/val/dense_traffic/images_600-2-_jpg.rf.48fbfab98c6d6c2ce59e70c1998bc7e4.jpg: 128x128 dense_traffic 1.00, sparse_traffic 0.00, accident 0.00, fire 0.00, 2.7ms\n",
            "image 198/226 /content/traffic-density-4k-2/val/dense_traffic/images_601_jpg.rf.8b098b5252002ff19625c02f55e61e0c.jpg: 128x128 dense_traffic 0.98, accident 0.02, fire 0.00, sparse_traffic 0.00, 2.6ms\n",
            "image 199/226 /content/traffic-density-4k-2/val/dense_traffic/images_615_jpg.rf.bbf7a3b224886dd9a3413d67bdcbcb2a.jpg: 128x128 dense_traffic 1.00, sparse_traffic 0.00, accident 0.00, fire 0.00, 2.5ms\n",
            "image 200/226 /content/traffic-density-4k-2/val/dense_traffic/images_617-2-_jpg.rf.ceba6d19aaa66650a548d9ced37c14c9.jpg: 128x128 dense_traffic 1.00, sparse_traffic 0.00, fire 0.00, accident 0.00, 4.6ms\n",
            "image 201/226 /content/traffic-density-4k-2/val/dense_traffic/images_618_jpg.rf.9869d7733fd9d0c08b509bb6e5b6b034.jpg: 128x128 dense_traffic 1.00, sparse_traffic 0.00, accident 0.00, fire 0.00, 2.6ms\n",
            "image 202/226 /content/traffic-density-4k-2/val/dense_traffic/images_624-2-_jpg.rf.7317007bc10ba0c4f300325c64e4374f.jpg: 128x128 dense_traffic 1.00, accident 0.00, sparse_traffic 0.00, fire 0.00, 2.7ms\n",
            "image 203/226 /content/traffic-density-4k-2/val/dense_traffic/images_624_jpg.rf.be63c3b3524e96b6c7ee46c416ca7f3c.jpg: 128x128 dense_traffic 1.00, accident 0.00, sparse_traffic 0.00, fire 0.00, 2.7ms\n",
            "image 204/226 /content/traffic-density-4k-2/val/dense_traffic/images_631_jpg.rf.f597746eee42c482c9833cbfb23b1184.jpg: 128x128 dense_traffic 1.00, sparse_traffic 0.00, accident 0.00, fire 0.00, 2.6ms\n",
            "image 205/226 /content/traffic-density-4k-2/val/dense_traffic/images_634_jpg.rf.5a9946cfbd2458a4b5dd14e62f18041d.jpg: 128x128 sparse_traffic 0.50, dense_traffic 0.50, accident 0.00, fire 0.00, 2.8ms\n",
            "image 206/226 /content/traffic-density-4k-2/val/dense_traffic/images_635-2-_jpg.rf.a1f7e3659a046e2066f15ee3725d8a4e.jpg: 128x128 dense_traffic 1.00, accident 0.00, sparse_traffic 0.00, fire 0.00, 3.0ms\n",
            "image 207/226 /content/traffic-density-4k-2/val/dense_traffic/images_645-2-_jpg.rf.9a80f6ed9e01516bc4bb0366148ec5f9.jpg: 128x128 dense_traffic 1.00, accident 0.00, sparse_traffic 0.00, fire 0.00, 4.7ms\n",
            "image 208/226 /content/traffic-density-4k-2/val/dense_traffic/images_654_jpg.rf.80dbe091ba79f608372a94717d089522.jpg: 128x128 sparse_traffic 0.97, accident 0.03, fire 0.00, dense_traffic 0.00, 4.4ms\n",
            "image 209/226 /content/traffic-density-4k-2/val/dense_traffic/images_664-2-_jpg.rf.13c2b8d998824b559b13a8dcd9c82bf0.jpg: 128x128 dense_traffic 1.00, accident 0.00, fire 0.00, sparse_traffic 0.00, 5.0ms\n",
            "image 210/226 /content/traffic-density-4k-2/val/dense_traffic/images_665-2-_jpg.rf.dd26b07316434a1c16b517af1c0d8d1b.jpg: 128x128 sparse_traffic 0.82, dense_traffic 0.18, fire 0.00, accident 0.00, 4.6ms\n",
            "image 211/226 /content/traffic-density-4k-2/val/dense_traffic/images_669-2-_jpg.rf.69781160bb049fa8284f712cb9f39fe8.jpg: 128x128 dense_traffic 1.00, accident 0.00, fire 0.00, sparse_traffic 0.00, 5.1ms\n",
            "image 212/226 /content/traffic-density-4k-2/val/dense_traffic/images_673-2-_jpg.rf.37ff98708ac83ecf951c63a49772f6c3.jpg: 128x128 dense_traffic 1.00, sparse_traffic 0.00, fire 0.00, accident 0.00, 3.6ms\n",
            "image 213/226 /content/traffic-density-4k-2/val/dense_traffic/images_682_jpg.rf.0a2d6ae28813c0f4e29de256c16392b7.jpg: 128x128 dense_traffic 1.00, sparse_traffic 0.00, accident 0.00, fire 0.00, 4.5ms\n",
            "image 214/226 /content/traffic-density-4k-2/val/dense_traffic/images_690-2-_jpg.rf.85795df84c55e0ffb9a160f1ac77f7df.jpg: 128x128 dense_traffic 1.00, fire 0.00, sparse_traffic 0.00, accident 0.00, 3.6ms\n",
            "image 215/226 /content/traffic-density-4k-2/val/dense_traffic/images_694_jpg.rf.f5b137fca4df3676beb9750829e7d229.jpg: 128x128 dense_traffic 1.00, sparse_traffic 0.00, fire 0.00, accident 0.00, 4.4ms\n",
            "image 216/226 /content/traffic-density-4k-2/val/dense_traffic/images_695_jpg.rf.fbeab23f06f881272bbd35e4f0805fd4.jpg: 128x128 sparse_traffic 1.00, dense_traffic 0.00, accident 0.00, fire 0.00, 3.0ms\n",
            "image 217/226 /content/traffic-density-4k-2/val/dense_traffic/images_697_jpg.rf.4503c1e0bc97a58169acc6e7c696e101.jpg: 128x128 dense_traffic 1.00, sparse_traffic 0.00, fire 0.00, accident 0.00, 3.6ms\n",
            "image 218/226 /content/traffic-density-4k-2/val/dense_traffic/images_702_jpg.rf.192ee0083644333d27603e6a15735fa1.jpg: 128x128 dense_traffic 1.00, sparse_traffic 0.00, fire 0.00, accident 0.00, 3.4ms\n",
            "image 219/226 /content/traffic-density-4k-2/val/dense_traffic/images_703-2-_jpg.rf.e8e21a797490e3b88494f4be0b641977.jpg: 128x128 dense_traffic 1.00, accident 0.00, sparse_traffic 0.00, fire 0.00, 5.2ms\n",
            "image 220/226 /content/traffic-density-4k-2/val/dense_traffic/images_707_jpg.rf.df2297b02e335e529c17d0b134e8d965.jpg: 128x128 dense_traffic 1.00, sparse_traffic 0.00, fire 0.00, accident 0.00, 3.8ms\n",
            "image 221/226 /content/traffic-density-4k-2/val/dense_traffic/images_715_jpg.rf.ddeffe9e85de091e826b87be8deb503a.jpg: 128x128 dense_traffic 1.00, sparse_traffic 0.00, fire 0.00, accident 0.00, 3.5ms\n",
            "image 222/226 /content/traffic-density-4k-2/val/dense_traffic/images_719_jpg.rf.2c900daf4d24ecff725a73a968967192.jpg: 128x128 dense_traffic 1.00, fire 0.00, sparse_traffic 0.00, accident 0.00, 3.8ms\n",
            "image 223/226 /content/traffic-density-4k-2/val/dense_traffic/images_771_jpg.rf.05b2d63b0aba94d30b216f11d41d73f4.jpg: 128x128 dense_traffic 1.00, fire 0.00, accident 0.00, sparse_traffic 0.00, 3.6ms\n",
            "image 224/226 /content/traffic-density-4k-2/val/dense_traffic/images_798_jpg.rf.8d0b77b8e586658f4d51b13a4b69469b.jpg: 128x128 dense_traffic 0.95, accident 0.03, sparse_traffic 0.02, fire 0.00, 3.6ms\n",
            "image 225/226 /content/traffic-density-4k-2/val/dense_traffic/images_801_jpg.rf.5afee519aa782ec3f9a7d2d553e54c09.jpg: 128x128 dense_traffic 1.00, sparse_traffic 0.00, fire 0.00, accident 0.00, 3.4ms\n",
            "image 226/226 /content/traffic-density-4k-2/val/dense_traffic/images_jpg.rf.20bdc5b3042a8de978d210e588431820.jpg: 128x128 dense_traffic 1.00, accident 0.00, sparse_traffic 0.00, fire 0.00, 3.8ms\n",
            "Speed: 1.8ms preprocess, 2.9ms inference, 0.0ms postprocess per image at shape (1, 3, 128, 128)\n",
            "Results saved to \u001b[1mruns/classify/predict2\u001b[0m\n",
            "💡 Learn more at https://docs.ultralytics.com/modes/predict\n"
          ]
        }
      ],
      "source": [
        "%cd {HOME}\n",
        "!yolo task=classify mode=predict model={HOME}/runs/classify/train2/weights/best.pt conf=0.25 source={dataset.location}/val/dense_traffic"
      ]
    },
    {
      "cell_type": "code",
      "execution_count": 24,
      "metadata": {
        "colab": {
          "base_uri": "https://localhost:8080/",
          "height": 1000
        },
        "id": "jbVjEtPAkz3j",
        "outputId": "d9f5fb97-6676-47c6-cce6-471f7ce6b670"
      },
      "outputs": [
        {
          "output_type": "display_data",
          "data": {
            "image/jpeg": "[encoded data removed]",
            "text/plain": [
              "<IPython.core.display.Image object>"
            ]
          },
          "metadata": {
            "image/jpeg": {
              "width": 600
            }
          }
        },
        {
          "output_type": "stream",
          "name": "stdout",
          "text": [
            "\n",
            "\n"
          ]
        },
        {
          "output_type": "display_data",
          "data": {
            "image/jpeg": "[encoded data removed]",
            "text/plain": [
              "<IPython.core.display.Image object>"
            ]
          },
          "metadata": {
            "image/jpeg": {
              "width": 600
            }
          }
        },
        {
          "output_type": "stream",
          "name": "stdout",
          "text": [
            "\n",
            "\n"
          ]
        },
        {
          "output_type": "display_data",
          "data": {
            "image/jpeg": "[encoded data removed]",
            "text/plain": [
              "<IPython.core.display.Image object>"
            ]
          },
          "metadata": {
            "image/jpeg": {
              "width": 600
            }
          }
        },
        {
          "output_type": "stream",
          "name": "stdout",
          "text": [
            "\n",
            "\n"
          ]
        }
      ],
      "source": [
        "import glob\n",
        "from IPython.display import Image, display\n",
        "\n",
        "for image_path in glob.glob(f'{HOME}/runs/classify/predict/*.jpg')[:3]:\n",
        "      display(Image(filename=image_path, width=600))\n",
        "      print(\"\\n\")"
      ]
    },
    {
      "cell_type": "markdown",
      "metadata": {
        "id": "iPoeYNpZrZLm"
      },
      "source": [
        "## Save and Deploy model\n",
        "\n",
        "Once you have finished training your YOLOv8 model, you’ll have a set of trained weights ready for use. These weights will be in the `/runs/classify/train/weights/best.pt` folder of your project. You can upload and your model weights to Roboflow Deploy for autolabeling, autoscaling inference, and using later.\n",
        "\n",
        "The `.deploy()` function in the [Roboflow pip package](https://docs.roboflow.com/python) supports uploading YOLOv8 weights.\n",
        "\n",
        "Run this cell to save your model weights:"
      ]
    },
    {
      "cell_type": "code",
      "execution_count": 25,
      "metadata": {
        "colab": {
          "base_uri": "https://localhost:8080/",
          "height": 159
        },
        "id": "7azCrvGFrZLm",
        "outputId": "cef3d478-f6ec-4cce-8928-1f6574391278"
      },
      "outputs": [
        {
          "name": "stdout",
          "output_type": "stream",
          "text": [
            "Dependency ultralytics==8.0.196 is required but found version=8.1.47, to fix: `pip install ultralytics==8.0.196`\n",
            "Would you like to continue with the wrong version of ultralytics? y/n: n\n"
          ]
        },
        {
          "output_type": "error",
          "ename": "SystemExit",
          "evalue": "1",
          "traceback": [
            "An exception has occurred, use %tb to see the full traceback.\n",
            "\u001b[0;31mSystemExit\u001b[0m\u001b[0;31m:\u001b[0m 1\n"
          ]
        },
        {
          "output_type": "stream",
          "name": "stderr",
          "text": [
            "To exit: use 'exit', 'quit', or Ctrl-D.\n"
          ]
        }
      ],
      "source": [
        "project.version(dataset.version).deploy(model_type=\"yolov8-cls\", model_path=f\"{HOME}/runs/classify/train/\")"
      ]
    },
    {
      "cell_type": "code",
      "source": [
        "!zip -r runs.zip runs/\n",
        "\n",
        "from google.colab import files\n",
        "files.download(\"/content/runs.zip\")"
      ],
      "metadata": {
        "colab": {
          "base_uri": "https://localhost:8080/",
          "height": 1000
        },
        "id": "c1gP_xwusuuu",
        "outputId": "e112a8d2-160a-4d05-d12f-8d8823a36bd8"
      },
      "execution_count": 26,
      "outputs": [
        {
          "output_type": "stream",
          "name": "stdout",
          "text": [
            "  adding: runs/ (stored 0%)\n",
            "  adding: runs/classify/ (stored 0%)\n",
            "  adding: runs/classify/train/ (stored 0%)\n",
            "  adding: runs/classify/train/events.out.tfevents.1713251193.abe732231387.2528.0 (deflated 93%)\n",
            "  adding: runs/classify/train/train_batch2.jpg (deflated 4%)\n",
            "  adding: runs/classify/train/results.csv (deflated 80%)\n",
            "  adding: runs/classify/train/weights/ (stored 0%)\n",
            "  adding: runs/classify/train/weights/last.pt (deflated 8%)\n",
            "  adding: runs/classify/train/weights/best.pt (deflated 8%)\n",
            "  adding: runs/classify/train/train_batch1.jpg (deflated 3%)\n",
            "  adding: runs/classify/train/args.yaml (deflated 52%)\n",
            "  adding: runs/classify/train/train_batch0.jpg (deflated 3%)\n",
            "  adding: runs/classify/predict/ (stored 0%)\n",
            "  adding: runs/classify/predict/images_342_jpg.rf.6ee18e1ad3ba90d8270f563365316fd6.jpg (deflated 5%)\n",
            "  adding: runs/classify/predict/images_044-2-_jpg.rf.f1457a548aa95d9be7b9bb8331700b12.jpg (deflated 4%)\n",
            "  adding: runs/classify/predict/images_699_jpg.rf.62b577e0f9533fec38284aca97140c3c.jpg (deflated 4%)\n",
            "  adding: runs/classify/predict/images_293-2-_jpg.rf.e88343dcfa654daf2d32801e6bbb7ba4.jpg (deflated 5%)\n",
            "  adding: runs/classify/predict/images_681_jpg.rf.c8194774b9ae2b98fe8da45b31836a5a.jpg (deflated 4%)\n",
            "  adding: runs/classify/predict/images_607_jpg.rf.47b4735c17bac60e728bb0f7b035ba5f.jpg (deflated 4%)\n",
            "  adding: runs/classify/predict/images_277-2-_jpg.rf.4d271a6852345b87eda07bb7863e47ee.jpg (deflated 4%)\n",
            "  adding: runs/classify/predict/images_340_jpg.rf.27f051203e5d8e9662a2d38fc4006763.jpg (deflated 5%)\n",
            "  adding: runs/classify/predict/images_256_jpg.rf.b6ae21a60f5c0066e1e8b7230faf17db.jpg (deflated 4%)\n",
            "  adding: runs/classify/predict/images_345_jpg.rf.05d6957cee2484096672e5fd2b0e3b9e.jpg (deflated 4%)\n",
            "  adding: runs/classify/predict/images_355_jpg.rf.90a40d21b570ae5fae1b423715db4c20.jpg (deflated 4%)\n",
            "  adding: runs/classify/predict/images_381-2-_jpg.rf.4635de6aae6733a8cd624f567ebee1ea.jpg (deflated 3%)\n",
            "  adding: runs/classify/predict/images_617_jpg.rf.805d50e3360afd5364bfd0738c74845f.jpg (deflated 4%)\n",
            "  adding: runs/classify/predict/images_310-2-_jpg.rf.db443d2b553790cc37ef5ad989edcf9d.jpg (deflated 5%)\n",
            "  adding: runs/classify/predict/images_284_jpg.rf.259ac066bb24e671fbe784496ca40cca.jpg (deflated 4%)\n",
            "  adding: runs/classify/predict/images_302-2-_jpg.rf.c63e0dbef3058c3f9493f63330ceca10.jpg (deflated 5%)\n",
            "  adding: runs/classify/predict/images_330-2-_jpg.rf.7dba7afd973f06f8c8882a041ea7b1fa.jpg (deflated 4%)\n",
            "  adding: runs/classify/predict/images_643_jpg.rf.048e624326922cb16ab7df692479675a.jpg (deflated 5%)\n",
            "  adding: runs/classify/predict/images_512_jpg.rf.ba1d81a960ce7d306e8234c6763a4dc5.jpg (deflated 5%)\n",
            "  adding: runs/classify/predict/images_678-2-_jpg.rf.dec638c8d9e25fb9f7310501f7726210.jpg (deflated 5%)\n",
            "  adding: runs/classify/predict/images_636-2-_jpg.rf.35e64bf29df8eb0b643cf66546111d90.jpg (deflated 4%)\n",
            "  adding: runs/classify/predict/images_292_jpg.rf.0dfdbb0f176681ae4c3b3dfefce2f531.jpg (deflated 3%)\n",
            "  adding: runs/classify/predict/images_377_jpg.rf.41c4850416ad45f60f7153adfd2c9bee.jpg (deflated 4%)\n",
            "  adding: runs/classify/predict/images_412-2-_jpg.rf.836491d00aaf694a26d328e8167e4ee9.jpg (deflated 3%)\n",
            "  adding: runs/classify/predict/images_076_jpg.rf.e1ba77de505ceb4b73fc1da3c2c5d71f.jpg (deflated 4%)\n",
            "  adding: runs/classify/predict/images_237_jpg.rf.9a9c51511d6172250199c5891bca010d.jpg (deflated 4%)\n",
            "  adding: runs/classify/predict/images_492_jpg.rf.b8a544511955dfabba15f1392cdfd5bc.jpg (deflated 4%)\n",
            "  adding: runs/classify/predict/images_407-3-_jpg.rf.5c58fec71a17e2bed1622f3976b7d343.jpg (deflated 4%)\n",
            "  adding: runs/classify/predict/images_316_jpg.rf.972c316f7f93291d784f06b64ed5cb1d.jpg (deflated 4%)\n",
            "  adding: runs/classify/predict/images_327_jpg.rf.8eb773b0e33896d2e1b89b3c4fd63b01.jpg (deflated 4%)\n",
            "  adding: runs/classify/predict/images_644-2-_jpg.rf.9a1b0b387425badb6acf518f3fbd8362.jpg (deflated 4%)\n",
            "  adding: runs/classify/predict/images_097_jpg.rf.8619d9d6acf24769bac0d1cd193955eb.jpg (deflated 4%)\n",
            "  adding: runs/classify/predict/images_531_jpg.rf.a6223f5df747f2efb85488cd5a1c4b8d.jpg (deflated 4%)\n",
            "  adding: runs/classify/predict/images_532-2-_jpg.rf.e9b37b43f3e8c4345e3609e8b71ffa05.jpg (deflated 4%)\n",
            "  adding: runs/classify/predict/images_068_jpg.rf.af08eb77f3f9464f0690d695eea149af.jpg (deflated 4%)\n",
            "  adding: runs/classify/predict/images_327_jpg.rf.02dcc2a884a590c68d14b3c04408d974.jpg (deflated 4%)\n",
            "  adding: runs/classify/predict/images_010_jpg.rf.05e501a6706c975342d3a9c13ad65b76.jpg (deflated 4%)\n",
            "  adding: runs/classify/predict/images_663_jpg.rf.e5b0311c65258f142de0bc58c1af147b.jpg (deflated 4%)\n",
            "  adding: runs/classify/predict/images_389-3-_jpg.rf.e3e20590709e44b4884ded535302f544.jpg (deflated 3%)\n",
            "  adding: runs/classify/predict/images_044-3-_jpg.rf.3a1f4d0f53932f8aa2ac49f900bc9ab8.jpg (deflated 4%)\n",
            "  adding: runs/classify/predict/images_246_jpg.rf.79177b0b4c886f16d5721531ebbc605e.jpg (deflated 3%)\n",
            "  adding: runs/classify/predict/images_475_jpg.rf.cc8a9926697557bfd75e7d0d24e11ef8.jpg (deflated 4%)\n",
            "  adding: runs/classify/predict/images_567_jpg.rf.00b30189bd7aebf836d54ba1ae688846.jpg (deflated 4%)\n",
            "  adding: runs/classify/predict/images_603_jpg.rf.ba02f2c95d93f241ed6cb98ed1af87fb.jpg (deflated 4%)\n",
            "  adding: runs/classify/predict/images_238_jpg.rf.9a2e2c1a9418aa206ce0472bc7f59c2a.jpg (deflated 4%)\n",
            "  adding: runs/classify/predict/images_351_jpg.rf.d978244ea4aa4bd22123cba5a1b67889.jpg (deflated 4%)\n",
            "  adding: runs/classify/predict/images_056-2-_jpg.rf.eafd8f205999c9898f57c0c6e501710f.jpg (deflated 4%)\n",
            "  adding: runs/classify/predict/images_417-2-_jpg.rf.c7c0d0d50ed70d4ca37a7fa95a4fe617.jpg (deflated 5%)\n",
            "  adding: runs/classify/predict/images_403_jpg.rf.d4152da3d24c4c1b7a0b975cfee6db3f.jpg (deflated 5%)\n",
            "  adding: runs/classify/predict/images_316_jpg.rf.2f678231576cf1e0124b1a2cd39d2110.jpg (deflated 4%)\n",
            "  adding: runs/classify/predict/images_539_jpg.rf.912b2b1d5606d2f52c531e9cc399175a.jpg (deflated 4%)\n",
            "  adding: runs/classify/predict/images_292_jpg.rf.fcfcb6edcc2d015879a53337cc0fbe68.jpg (deflated 3%)\n",
            "  adding: runs/classify/predict/images_259-2-_jpg.rf.74497cfe90b3cb00238e80ad980a4d25.jpg (deflated 4%)\n",
            "  adding: runs/classify/predict/images_269_jpg.rf.e8f4e6d58a7382104c7e7c8b448cee15.jpg (deflated 4%)\n",
            "  adding: runs/classify/predict/images_486_jpg.rf.8a0b76d1febcd65fb86c225513506364.jpg (deflated 5%)\n",
            "  adding: runs/classify/predict/images_351-2-_jpg.rf.827439ae759681a2cf2214fe3e156725.jpg (deflated 4%)\n",
            "  adding: runs/classify/predict/images_620_jpg.rf.60356966fa358b9b7e289526ede5050b.jpg (deflated 3%)\n",
            "  adding: runs/classify/predict/images_529-2-_jpg.rf.d836b982360a9ad5cb98744200c0f77f.jpg (deflated 4%)\n",
            "  adding: runs/classify/predict/images_370-3-_jpg.rf.ea4420d72a16403ec72150fa6a234e34.jpg (deflated 4%)\n",
            "  adding: runs/classify/predict/images_776_jpg.rf.99b7f3fcb5857a7b988d851309ed91ec.jpg (deflated 4%)\n",
            "  adding: runs/classify/predict/images_510-2-_jpg.rf.a14044d15afea18f3babab79a4ba7d38.jpg (deflated 5%)\n",
            "  adding: runs/classify/predict/images_718_jpg.rf.6de59b12995bcf4521866a129fcb40e8.jpg (deflated 5%)\n",
            "  adding: runs/classify/predict/images_101_jpg.rf.8622d7803d0943049201e289792123cb.jpg (deflated 3%)\n",
            "  adding: runs/classify/predict/images_479_jpg.rf.b428f48483aa35a156eb614bb5d740e2.jpg (deflated 5%)\n",
            "  adding: runs/classify/predict/images_517_jpg.rf.4ff803088e2c148a9ee3114c865f5b2a.jpg (deflated 5%)\n",
            "  adding: runs/classify/predict/images_393_jpg.rf.26c1cece6ce2aa02d095f5460c83c689.jpg (deflated 4%)\n",
            "  adding: runs/classify/predict/images_521_jpg.rf.5faea15ceb48a85d75bc229bccc20f04.jpg (deflated 4%)\n",
            "  adding: runs/classify/predict/images_467_jpg.rf.16a62a16d6a3ebbcc7fa96de004409c0.jpg (deflated 4%)\n",
            "  adding: runs/classify/predict/images_031-2-_jpg.rf.85eab8d6040ba44f982f09f229662c0e.jpg (deflated 4%)\n",
            "  adding: runs/classify/predict/images_460_jpg.rf.747b8b7d87e60ae1614b176386431983.jpg (deflated 4%)\n",
            "  adding: runs/classify/predict/images_629_jpg.rf.1869fb105dcb9edb80355a18447693ca.jpg (deflated 4%)\n",
            "  adding: runs/classify/predict/images_095-2-_jpg.rf.2b8f7f59d78ce5e997c6b781517fd7e1.jpg (deflated 5%)\n",
            "  adding: runs/classify/predict/images_646-2-_jpg.rf.63b5ad1d0a1409dd40fb8abbc7bd3bc7.jpg (deflated 4%)\n",
            "  adding: runs/classify/predict/images_358-2-_jpg.rf.04cf2face03ae0daa610658b01dc11f9.jpg (deflated 4%)\n",
            "  adding: runs/classify/predict/images_779_jpg.rf.367d6d4be0c824737e71c2f479240ff0.jpg (deflated 4%)\n",
            "  adding: runs/classify/predict/images_330-2-_jpg.rf.5b6307253be9716de37dc88140547d3f.jpg (deflated 4%)\n",
            "  adding: runs/classify/predict/images_243_jpg.rf.c2eb8ddecbc7c3be244c000bea6c10f7.jpg (deflated 5%)\n",
            "  adding: runs/classify/predict/images_458_jpg.rf.36b10ce2f5a604e53c1d16cae526925f.jpg (deflated 4%)\n",
            "  adding: runs/classify/predict/images_240_jpg.rf.ab3b88b51f4832c4de3fd27e0363b622.jpg (deflated 5%)\n",
            "  adding: runs/classify/predict/images_438_jpg.rf.2a2f2d99cafb6460228dc1d00005cacc.jpg (deflated 4%)\n",
            "  adding: runs/classify/predict/images_340_jpg.rf.4fe579c66888c31190bfc85410745a0e.jpg (deflated 5%)\n",
            "  adding: runs/classify/predict/images_593-2-_jpg.rf.1a57e2eb93b2339b577ae862e5e8307a.jpg (deflated 4%)\n",
            "  adding: runs/classify/predict/images_410-2-_jpg.rf.43eb9f5f85539352409b2e0e174f0efc.jpg (deflated 4%)\n",
            "  adding: runs/classify/predict/images_303-3-_jpg.rf.294780f6f3c6091b4f97861eff758e5d.jpg (deflated 5%)\n",
            "  adding: runs/classify/predict/images_725_jpg.rf.3901bd29c69c2fc8337105db26b61c29.jpg (deflated 3%)\n",
            "  adding: runs/classify/predict/images_088-2-_jpg.rf.b3001815099dd36fb9f97dcc7be5816e.jpg (deflated 4%)\n",
            "  adding: runs/classify/predict/images_051-2-_jpg.rf.b00b66fbfce9ea97abe7a7de611d2578.jpg (deflated 4%)\n",
            "  adding: runs/classify/predict/images_375_jpg.rf.3851db5c37283c63676491908fdb9daf.jpg (deflated 4%)\n",
            "  adding: runs/classify/predict/images_418-2-_jpg.rf.f469351ac8dffaacc1a9227a97ea1494.jpg (deflated 5%)\n",
            "  adding: runs/classify/predict/images_087-2-_jpg.rf.20237ef6315c81dfa23a313bd3671d85.jpg (deflated 4%)\n",
            "  adding: runs/classify/predict/images_310-2-_jpg.rf.0d787e7cd942d8254e75d8be6cfe84a0.jpg (deflated 5%)\n",
            "  adding: runs/classify/predict/images_345_jpg.rf.b0fc5586beefa627f4413962eedd1f9d.jpg (deflated 4%)\n",
            "  adding: runs/classify/predict/images_057_jpg.rf.42d24838a9ec9ebd9f2dbd346b9427ff.jpg (deflated 4%)\n",
            "  adding: runs/classify/predict/images_303-3-_jpg.rf.f53511418e90d9ccdca280f9bd670010.jpg (deflated 5%)\n",
            "  adding: runs/classify/predict/images_344-4-_jpg.rf.f181d8d0342f9dc1427b0ba328cd7140.jpg (deflated 3%)\n",
            "  adding: runs/classify/predict/images_368_jpg.rf.f46813470b523b804a518de6a89f2221.jpg (deflated 4%)\n",
            "  adding: runs/classify/predict/images_575-2-_jpg.rf.6aaa5e03db28d36d635c7042939c2209.jpg (deflated 4%)\n",
            "  adding: runs/classify/predict/images_344-4-_jpg.rf.651a73a24b7be865a65ed198e1ba26bd.jpg (deflated 3%)\n",
            "  adding: runs/classify/predict/images_495_jpg.rf.e9a6a0190e86235eae4f7bf8c9663c7e.jpg (deflated 4%)\n",
            "  adding: runs/classify/predict/images_064_jpg.rf.aed17eb984e446c8bcc349c5755d811a.jpg (deflated 4%)\n",
            "  adding: runs/classify/predict/images_459_jpg.rf.c71faf5aae286f6d4d83e6469449f806.jpg (deflated 4%)\n",
            "  adding: runs/classify/predict/images_668_jpg.rf.06645238e2e0f53d692fbe36ea7cb63d.jpg (deflated 3%)\n",
            "  adding: runs/classify/predict/images_300-2-_jpg.rf.826ce10e73667be03f0e68e4f2f419ce.jpg (deflated 5%)\n",
            "  adding: runs/classify/predict/images_300-2-_jpg.rf.c12e233e3279e0e408b367da1f94c6da.jpg (deflated 5%)\n",
            "  adding: runs/classify/predict/images_296_jpg.rf.7f104c4db02d6b29e9e5ebb8a3991892.jpg (deflated 4%)\n",
            "  adding: runs/classify/predict/images_273-2-_jpg.rf.ae66fe2266ecb923237fb556b46d1a62.jpg (deflated 4%)\n",
            "  adding: runs/classify/predict/images_258-2-_jpg.rf.567b6a298f6604123e74cc9d22604ba1.jpg (deflated 4%)\n",
            "  adding: runs/classify/predict/images_302-2-_jpg.rf.3171958704a6256cf544ec6cd20635b8.jpg (deflated 5%)\n",
            "  adding: runs/classify/predict/images_293-2-_jpg.rf.31f2ea65414f379bb2cc6aab0468788e.jpg (deflated 5%)\n",
            "  adding: runs/classify/predict/images_406-2-_jpg.rf.1bbe8789f85d0f77b674c7bf6cfa12ee.jpg (deflated 4%)\n",
            "  adding: runs/classify/predict/images_494-2-_jpg.rf.3607af91a0b88e261d52447286611ca8.jpg (deflated 3%)\n",
            "  adding: runs/classify/predict/images_342_jpg.rf.43a1e47300127b9837042310e57df1be.jpg (deflated 5%)\n",
            "  adding: runs/classify/predict/images_265_jpg.rf.f8f6437dc9a95ea2f2016bb5a69976b3.jpg (deflated 5%)\n",
            "  adding: runs/classify/predict/images_267-2-_jpg.rf.901fb89f84a6e991d32faff6c759b3a2.jpg (deflated 5%)\n",
            "  adding: runs/classify/predict/images_430_jpg.rf.f626d72424ee10ae032397e0140390f0.jpg (deflated 4%)\n",
            "  adding: runs/classify/predict/images_296_jpg.rf.da7941df83cc34fd5e01961daa4ffe63.jpg (deflated 4%)\n",
            "  adding: runs/classify/predict/images_571-2-_jpg.rf.881cd414dc89e32a3febadfa530f7529.jpg (deflated 5%)\n",
            "  adding: runs/classify/predict2/ (stored 0%)\n",
            "  adding: runs/classify/predict2/images_326_jpg.rf.3ea66c0b89a9a2b33088bae02b217a41.jpg (deflated 4%)\n",
            "  adding: runs/classify/predict2/images_293_jpg.rf.a4d7e5106e211df49fd14e07e8a4f493.jpg (deflated 5%)\n",
            "  adding: runs/classify/predict2/images_094_jpg.rf.da42cf41bd9048ab51ee2724d52744d5.jpg (deflated 3%)\n",
            "  adding: runs/classify/predict2/images_279_jpg.rf.bfc25f1d6c41838f1afb421da974b5c9.jpg (deflated 5%)\n",
            "  adding: runs/classify/predict2/images_438-2-_jpg.rf.300f40f8cfd3acfa6df5e1d8ad158424.jpg (deflated 4%)\n",
            "  adding: runs/classify/predict2/images_519-2-_jpg.rf.f76f145370c9927a3434a9c9945c7441.jpg (deflated 4%)\n",
            "  adding: runs/classify/predict2/images_277-3-_jpg.rf.6ec782008d082c170d08226afe0dfe98.jpg (deflated 3%)\n",
            "  adding: runs/classify/predict2/images_250_jpg.rf.ada5824fd6212848cd7056fb460d753f.jpg (deflated 4%)\n",
            "  adding: runs/classify/predict2/images_335_jpg.rf.9d3bd3988e755f90e8f0f623b4094f3b.jpg (deflated 3%)\n",
            "  adding: runs/classify/predict2/images_007_jpg.rf.2694f5a0fb589b25ec3e106fe943f99e.jpg (deflated 3%)\n",
            "  adding: runs/classify/predict2/images_371_jpg.rf.132153a7cc36a18912464191514eb03f.jpg (deflated 4%)\n",
            "  adding: runs/classify/predict2/images_465-2-_jpg.rf.7ba263aef3557541929e68bcf77e256e.jpg (deflated 4%)\n",
            "  adding: runs/classify/predict2/images_400_jpg.rf.22f4c66fad3ed3999ef64ce3bb0fb1f1.jpg (deflated 4%)\n",
            "  adding: runs/classify/predict2/images_349-2-_jpg.rf.d10e7b41c329ac3bd6c5146e8ff6eadd.jpg (deflated 4%)\n",
            "  adding: runs/classify/predict2/images_268_jpg.rf.7ea6b7d37f18d0c9bbfae8220de5a556.jpg (deflated 4%)\n",
            "  adding: runs/classify/predict2/images_575_jpg.rf.4c6670cb3d179ba5a53ab08b7b57755d.jpg (deflated 4%)\n",
            "  adding: runs/classify/predict2/images_302_jpg.rf.9475a5f0171004051e434e111dc1fa6a.jpg (deflated 4%)\n",
            "  adding: runs/classify/predict2/images_058_jpg.rf.110b9d1ef89d99ddf76cf25c8df54965.jpg (deflated 5%)\n",
            "  adding: runs/classify/predict2/images_231-2-_jpg.rf.758115212aba580ba19ee3cbd59f5e4b.jpg (deflated 4%)\n",
            "  adding: runs/classify/predict2/images_315_jpg.rf.4224c7f7946479c72895bf295e8c255d.jpg (deflated 4%)\n",
            "  adding: runs/classify/predict2/images_654_jpg.rf.80dbe091ba79f608372a94717d089522.jpg (deflated 5%)\n",
            "  adding: runs/classify/predict2/images_489_jpg.rf.393262a3b3afa17eda256789f547e383.jpg (deflated 4%)\n",
            "  adding: runs/classify/predict2/images_634_jpg.rf.5a9946cfbd2458a4b5dd14e62f18041d.jpg (deflated 4%)\n",
            "  adding: runs/classify/predict2/images_487_jpg.rf.fdefa711585ae77c055c86fbd002b96f.jpg (deflated 4%)\n",
            "  adding: runs/classify/predict2/images_506-2-_jpg.rf.28d50745dd34def2ecc88843efc7e3d2.jpg (deflated 5%)\n",
            "  adding: runs/classify/predict2/images_099_jpg.rf.849cac8ee1460c5af405956f42aba6bf.jpg (deflated 5%)\n",
            "  adding: runs/classify/predict2/images_239_jpg.rf.5d24a099b927dc79e0d5d045ccfa10b5.jpg (deflated 4%)\n",
            "  adding: runs/classify/predict2/images_465_jpg.rf.272fd2aa6be153af8ac38873ba0710a3.jpg (deflated 5%)\n",
            "  adding: runs/classify/predict2/images_707_jpg.rf.df2297b02e335e529c17d0b134e8d965.jpg (deflated 4%)\n",
            "  adding: runs/classify/predict2/images_479-2-_jpg.rf.74ebfb17372f317d8190c75be87b7396.jpg (deflated 4%)\n",
            "  adding: runs/classify/predict2/images_323_jpg.rf.37d892acae5b6116e979cf54f3891443.jpg (deflated 5%)\n",
            "  adding: runs/classify/predict2/images_042-3-_jpg.rf.b285c65756689a5743d7cd51befcb882.jpg (deflated 3%)\n",
            "  adding: runs/classify/predict2/images_635-2-_jpg.rf.a1f7e3659a046e2066f15ee3725d8a4e.jpg (deflated 4%)\n",
            "  adding: runs/classify/predict2/images_078-2-_jpg.rf.b78329d701d07b3a3fff8caae80484b1.jpg (deflated 6%)\n",
            "  adding: runs/classify/predict2/images_037-3-_jpg.rf.25e968f67f754098af245c1781bc1993.jpg (deflated 5%)\n",
            "  adding: runs/classify/predict2/images_008_jpg.rf.d93bab60ec7302063c80e83daf4c36f3.jpg (deflated 4%)\n",
            "  adding: runs/classify/predict2/images_400-2-_jpg.rf.e6b9fa83b045be285b4df32681cc94a9.jpg (deflated 4%)\n",
            "  adding: runs/classify/predict2/images_598-2-_jpg.rf.b9b66ea649d2ae6d75276535ac232269.jpg (deflated 4%)\n",
            "  adding: runs/classify/predict2/images_288_jpg.rf.39543f4998f21dcf826cfb88d6e82894.jpg (deflated 3%)\n",
            "  adding: runs/classify/predict2/images_533-3-_jpg.rf.6b1befd17c4030083da9740a0793449e.jpg (deflated 4%)\n",
            "  adding: runs/classify/predict2/images_339_jpg.rf.c1b5a712ad6a7bab62a2b6afa7e86020.jpg (deflated 5%)\n",
            "  adding: runs/classify/predict2/images_259_jpg.rf.10fddb22e87752af28b09f780de09b4a.jpg (deflated 4%)\n",
            "  adding: runs/classify/predict2/images_561_jpg.rf.cfe87a1589b0d544cd29522787f88afa.jpg (deflated 5%)\n",
            "  adding: runs/classify/predict2/images_469_jpg.rf.d624ec309fde2f668d8e4c0479ea9412.jpg (deflated 5%)\n",
            "  adding: runs/classify/predict2/images_089-2-_jpg.rf.12463086bcb2259e39637598257f0566.jpg (deflated 4%)\n",
            "  adding: runs/classify/predict2/images_327-2-_jpg.rf.0b60a7e1130d714dd765da92fb612573.jpg (deflated 4%)\n",
            "  adding: runs/classify/predict2/images_232-3-_jpg.rf.ea8e060664cb7e5b20c4dcddc00e5f77.jpg (deflated 3%)\n",
            "  adding: runs/classify/predict2/images_025_jpg.rf.02f1667a520f63410cda922a8e366541.jpg (deflated 4%)\n",
            "  adding: runs/classify/predict2/images_323_jpg.rf.4fa8503b52eaba3e7f8e0b3617d24a08.jpg (deflated 5%)\n",
            "  adding: runs/classify/predict2/images_101-3-_jpg.rf.08f52a0a49760ec15e1c9c715b706b36.jpg (deflated 4%)\n",
            "  adding: runs/classify/predict2/images_534_jpg.rf.65fdbb53d3835607e23e8552fd7282a6.jpg (deflated 4%)\n",
            "  adding: runs/classify/predict2/images_318_jpg.rf.3660e54e333645f4f2b8860441bc7ea5.jpg (deflated 3%)\n",
            "  adding: runs/classify/predict2/images_594_jpg.rf.9872526fedb81048191f216ab1209b74.jpg (deflated 4%)\n",
            "  adding: runs/classify/predict2/images_402-3-_jpg.rf.d03992a1f2cbd09d8e869d64d7f49f49.jpg (deflated 4%)\n",
            "  adding: runs/classify/predict2/images_665-2-_jpg.rf.dd26b07316434a1c16b517af1c0d8d1b.jpg (deflated 4%)\n",
            "  adding: runs/classify/predict2/images_697_jpg.rf.4503c1e0bc97a58169acc6e7c696e101.jpg (deflated 4%)\n",
            "  adding: runs/classify/predict2/images_060_jpg.rf.9cda95600b60bc8f36324bb93e93cb23.jpg (deflated 4%)\n",
            "  adding: runs/classify/predict2/images_271-3-_jpg.rf.add2cf15fe2beee59abb987a5dff8731.jpg (deflated 4%)\n",
            "  adding: runs/classify/predict2/images_335_jpg.rf.43c68d5923f562c582679856c5999f86.jpg (deflated 3%)\n",
            "  adding: runs/classify/predict2/images_470_jpg.rf.14f43ae26a74cfd0c7e124ae49b22efe.jpg (deflated 3%)\n",
            "  adding: runs/classify/predict2/images_095-3-_jpg.rf.db470c2ed5d2a6624704e88b199c6cff.jpg (deflated 5%)\n",
            "  adding: runs/classify/predict2/images_601_jpg.rf.8b098b5252002ff19625c02f55e61e0c.jpg (deflated 4%)\n",
            "  adding: runs/classify/predict2/images_315_jpg.rf.3cba8584a841ed4aae4bfd599d16ce9f.jpg (deflated 4%)\n",
            "  adding: runs/classify/predict2/images_285_jpg.rf.c77e3be35204ad2a7735ac2b3d166034.jpg (deflated 5%)\n",
            "  adding: runs/classify/predict2/images_585-2-_jpg.rf.2a4eb1da3ea179dbc980dec0b6469c86.jpg (deflated 3%)\n",
            "  adding: runs/classify/predict2/images_624-2-_jpg.rf.7317007bc10ba0c4f300325c64e4374f.jpg (deflated 5%)\n",
            "  adding: runs/classify/predict2/images_002_jpg.rf.126f5cf16ae1bd13544c3b821e3202f0.jpg (deflated 4%)\n",
            "  adding: runs/classify/predict2/images_669-2-_jpg.rf.69781160bb049fa8284f712cb9f39fe8.jpg (deflated 4%)\n",
            "  adding: runs/classify/predict2/images_615_jpg.rf.bbf7a3b224886dd9a3413d67bdcbcb2a.jpg (deflated 4%)\n",
            "  adding: runs/classify/predict2/images_071_jpg.rf.a0b74410851e9f1598d615d8f37512c0.jpg (deflated 4%)\n",
            "  adding: runs/classify/predict2/images_553-2-_jpg.rf.e80daef67652286375ad970d6750faaf.jpg (deflated 4%)\n",
            "  adding: runs/classify/predict2/images_303-4-_jpg.rf.780f9891306df24330e39af8390e30ce.jpg (deflated 5%)\n",
            "  adding: runs/classify/predict2/images_014-2-_jpg.rf.bad88f905791523630b0c744ccae7fa3.jpg (deflated 3%)\n",
            "  adding: runs/classify/predict2/images_664-2-_jpg.rf.13c2b8d998824b559b13a8dcd9c82bf0.jpg (deflated 4%)\n",
            "  adding: runs/classify/predict2/images_543-2-_jpg.rf.cfc5a2af8ef35f57a6b9a9ae964e8e5a.jpg (deflated 5%)\n",
            "  adding: runs/classify/predict2/images_366_jpg.rf.710b5e394cc2dddf84993b98c07a9999.jpg (deflated 4%)\n",
            "  adding: runs/classify/predict2/images_482_jpg.rf.e3a37782edb5369baf745e54d9e364d9.jpg (deflated 3%)\n",
            "  adding: runs/classify/predict2/images_244-2-_jpg.rf.9c17f1d91f75bc1a8bf0310a5d722059.jpg (deflated 4%)\n",
            "  adding: runs/classify/predict2/images_347-2-_jpg.rf.a57f38a3537a81f89a8b8c1d0c08eb14.jpg (deflated 4%)\n",
            "  adding: runs/classify/predict2/images_513_jpg.rf.5ae349f813556c421a56a7d9c12dc866.jpg (deflated 4%)\n",
            "  adding: runs/classify/predict2/images_106-2-_jpg.rf.1245dccc279e906ac1908c1a1a4f35e7.jpg (deflated 4%)\n",
            "  adding: runs/classify/predict2/images_501_jpg.rf.b4247b6dda3263b325c9e3f94063409d.jpg (deflated 4%)\n",
            "  adding: runs/classify/predict2/images_362-2-_jpg.rf.7ffc92fb37b12a5b919ae70fc7b35b8d.jpg (deflated 4%)\n",
            "  adding: runs/classify/predict2/images_624_jpg.rf.be63c3b3524e96b6c7ee46c416ca7f3c.jpg (deflated 4%)\n",
            "  adding: runs/classify/predict2/images_391-3-_jpg.rf.651a3fd3e63e88d63bc18f80976ef5aa.jpg (deflated 4%)\n",
            "  adding: runs/classify/predict2/images_340-2-_jpg.rf.c251d4c3db3ccf22e5bc5ad87b5ac5d7.jpg (deflated 4%)\n",
            "  adding: runs/classify/predict2/images_480_jpg.rf.bf036dd09b939299d13165c9b05aca43.jpg (deflated 5%)\n",
            "  adding: runs/classify/predict2/images_032_jpg.rf.ff91a8a3ee758bedecff8c6cf5e050d3.jpg (deflated 3%)\n",
            "  adding: runs/classify/predict2/images_300_jpg.rf.30720ab12849858a985e745e66fdb30b.jpg (deflated 4%)\n",
            "  adding: runs/classify/predict2/images_304_jpg.rf.9aa51a7e9ef520dcc83027021315d85f.jpg (deflated 4%)\n",
            "  adding: runs/classify/predict2/images_264_jpg.rf.94178674099fbb5f7a958263521741b6.jpg (deflated 4%)\n",
            "  adding: runs/classify/predict2/images_543_jpg.rf.1611fb071bcad4da3c286ac10b8ff0e0.jpg (deflated 4%)\n",
            "  adding: runs/classify/predict2/images_075_jpg.rf.8676df723393fdbd17dc3234cff7b89f.jpg (deflated 4%)\n",
            "  adding: runs/classify/predict2/images_270_jpg.rf.fee28ef21217e57e0076a58c054080c7.jpg (deflated 4%)\n",
            "  adding: runs/classify/predict2/images_448-2-_jpg.rf.f4678653d49847a27cbf69af7ae82f1a.jpg (deflated 4%)\n",
            "  adding: runs/classify/predict2/images_405-2-_jpg.rf.d426dc9f5750454bf3b71156865f69f4.jpg (deflated 3%)\n",
            "  adding: runs/classify/predict2/images_414-4-_jpg.rf.a7f229b5fa3cb09e2047eb6582fb46ab.jpg (deflated 5%)\n",
            "  adding: runs/classify/predict2/images_541_jpg.rf.3279f213562799b87b5fd177e9084982.jpg (deflated 4%)\n",
            "  adding: runs/classify/predict2/images_518_jpg.rf.607b3e5700bf548bb7310e533dfc7eb4.jpg (deflated 4%)\n",
            "  adding: runs/classify/predict2/images_771_jpg.rf.05b2d63b0aba94d30b216f11d41d73f4.jpg (deflated 4%)\n",
            "  adding: runs/classify/predict2/images_327-2-_jpg.rf.7989b4a956ebc536e7a34a87e204d14c.jpg (deflated 4%)\n",
            "  adding: runs/classify/predict2/images_318_jpg.rf.46edabff3567d7f5c36e7350a7f2d733.jpg (deflated 3%)\n",
            "  adding: runs/classify/predict2/images_352_jpg.rf.ebd8e1463b60cd326860f38635cf15cf.jpg (deflated 5%)\n",
            "  adding: runs/classify/predict2/images_579_jpg.rf.3eaa52b7c9991bd3be66a84994c6d143.jpg (deflated 3%)\n",
            "  adding: runs/classify/predict2/images_017-2-_jpg.rf.16e6a8da8567f6835b50941095c748e0.jpg (deflated 5%)\n",
            "  adding: runs/classify/predict2/images_682_jpg.rf.0a2d6ae28813c0f4e29de256c16392b7.jpg (deflated 4%)\n",
            "  adding: runs/classify/predict2/images_380_jpg.rf.101222de3e22a1364a551b7a8b200ba3.jpg (deflated 5%)\n",
            "  adding: runs/classify/predict2/images_326_jpg.rf.00a843d6faa9421198c534020c807706.jpg (deflated 4%)\n",
            "  adding: runs/classify/predict2/images_300_jpg.rf.a739e673fe9ad48e990bc465cef06463.jpg (deflated 4%)\n",
            "  adding: runs/classify/predict2/images_339_jpg.rf.f8850f884cc83dd83574469659174781.jpg (deflated 5%)\n",
            "  adding: runs/classify/predict2/images_251-3-_jpg.rf.3bc8e1d7783723171e31985c8580f697.jpg (deflated 3%)\n",
            "  adding: runs/classify/predict2/images_232_jpg.rf.54f705b68b7a71aaee9b4a15fce0a51f.jpg (deflated 4%)\n",
            "  adding: runs/classify/predict2/images_392-2-_jpg.rf.930738043f89a1a106bd307feb9a016f.jpg (deflated 4%)\n",
            "  adding: runs/classify/predict2/images_484-2-_jpg.rf.9e05204ed255d0008fe8cfd3f61f1335.jpg (deflated 3%)\n",
            "  adding: runs/classify/predict2/images_303-4-_jpg.rf.eed30ac94c2a4636d04a357932287557.jpg (deflated 5%)\n",
            "  adding: runs/classify/predict2/images_242-2-_jpg.rf.bbef052f01b23f37a0375f6e559572ac.jpg (deflated 4%)\n",
            "  adding: runs/classify/predict2/images_341-3-_jpg.rf.ec0412b98d8ef25677b04863450997d1.jpg (deflated 4%)\n",
            "  adding: runs/classify/predict2/images_303-5-_jpg.rf.0bdb38354d01e622aad91a4e77d9d9fe.jpg (deflated 4%)\n",
            "  adding: runs/classify/predict2/images_320_jpg.rf.3365205fce21d04a5dda5ba518c373cf.jpg (deflated 4%)\n",
            "  adding: runs/classify/predict2/images_303-5-_jpg.rf.486b31ff0e1de79509f04a978031af23.jpg (deflated 4%)\n",
            "  adding: runs/classify/predict2/images_408_jpg.rf.f820d643ec5aeb7d7d90d7e57376377d.jpg (deflated 5%)\n",
            "  adding: runs/classify/predict2/images_473_jpg.rf.bd39fa1fa8a049fbee2e00366d0b2b56.jpg (deflated 4%)\n",
            "  adding: runs/classify/predict2/images_597_jpg.rf.d0d328ddb4482ce2f8ed347a2b993b00.jpg (deflated 5%)\n",
            "  adding: runs/classify/predict2/images_488_jpg.rf.34a8f2d7d963cf711998c3a77d9f5da9.jpg (deflated 5%)\n",
            "  adding: runs/classify/predict2/images_394-2-_jpg.rf.83fccb5f3334a9200679f1ab572ed580.jpg (deflated 5%)\n",
            "  adding: runs/classify/predict2/images_098-2-_jpg.rf.af7d7a889b3005f33607f818603156e8.jpg (deflated 4%)\n",
            "  adding: runs/classify/predict2/images_483_jpg.rf.4e3dc1f363641b167f6f97d5d755065d.jpg (deflated 4%)\n",
            "  adding: runs/classify/predict2/images_347-2-_jpg.rf.8adfd48877d1331d1f954659bcb550d7.jpg (deflated 4%)\n",
            "  adding: runs/classify/predict2/images_437-3-_jpg.rf.c05cba481924c252acdd58d2201c64d1.jpg (deflated 4%)\n",
            "  adding: runs/classify/predict2/images_530_jpg.rf.b24a9e53da37c6dec3ffc5cff90f8877.jpg (deflated 4%)\n",
            "  adding: runs/classify/predict2/images_341-3-_jpg.rf.1252301e8b275ed2f6ccef6640145646.jpg (deflated 4%)\n",
            "  adding: runs/classify/predict2/images_463-2-_jpg.rf.7827450f65b88bab562f53616edfbd5c.jpg (deflated 4%)\n",
            "  adding: runs/classify/predict2/images_431_jpg.rf.93060d7c23fc5adb578c870a05cc9e6a.jpg (deflated 4%)\n",
            "  adding: runs/classify/predict2/images_595_jpg.rf.ee1876cd581bd49615d42dd9d658e6b0.jpg (deflated 4%)\n",
            "  adding: runs/classify/predict2/images_288_jpg.rf.e9aaee48c75c954fa0b93e832ad1a826.jpg (deflated 3%)\n",
            "  adding: runs/classify/predict2/images_021_jpg.rf.c77d7288364e33bfb3a9dd21f851da46.jpg (deflated 3%)\n",
            "  adding: runs/classify/predict2/images_340-2-_jpg.rf.da3e38ab0cde3305303b460e045fb595.jpg (deflated 4%)\n",
            "  adding: runs/classify/predict2/images_304_jpg.rf.487aab9bd0098f5ca5ca9972ec5a1475.jpg (deflated 4%)\n",
            "  adding: runs/classify/predict2/images_100_jpg.rf.7d6f19d3454d5a94464bca602d278b76.jpg (deflated 4%)\n",
            "  adding: runs/classify/predict2/images_468-2-_jpg.rf.a0780a24d729287f46a509a072f4dfe3.jpg (deflated 5%)\n",
            "  adding: runs/classify/predict2/images_280_jpg.rf.64d6f5c07e53671ec9194d0fd8b5b766.jpg (deflated 4%)\n",
            "  adding: runs/classify/predict2/images_065_jpg.rf.4138a22f68a5f1285b1592db7985e18d.jpg (deflated 4%)\n",
            "  adding: runs/classify/predict2/images_549-3-_jpg.rf.bd2a2a35d6c10eee94e233b143f6a0cb.jpg (deflated 4%)\n",
            "  adding: runs/classify/predict2/images_418_jpg.rf.0e78d69e713bc2d154da04b713e702d3.jpg (deflated 5%)\n",
            "  adding: runs/classify/predict2/images_398_jpg.rf.bb603deb8a4f2a46abd459aacfff94c5.jpg (deflated 5%)\n",
            "  adding: runs/classify/predict2/images_jpg.rf.20bdc5b3042a8de978d210e588431820.jpg (deflated 4%)\n",
            "  adding: runs/classify/predict2/images_617-2-_jpg.rf.ceba6d19aaa66650a548d9ced37c14c9.jpg (deflated 4%)\n",
            "  adding: runs/classify/predict2/images_448-3-_jpg.rf.57d77b3565650eb94c4c8aa9c2971dc9.jpg (deflated 4%)\n",
            "  adding: runs/classify/predict2/images_060-2-_jpg.rf.d41775e4b3f3bd19913c71566b957e89.jpg (deflated 4%)\n",
            "  adding: runs/classify/predict2/images_380-2-_jpg.rf.19f807cb789b942df549f6b9891796b2.jpg (deflated 5%)\n",
            "  adding: runs/classify/predict2/images_694_jpg.rf.f5b137fca4df3676beb9750829e7d229.jpg (deflated 5%)\n",
            "  adding: runs/classify/predict2/images_231-4-_jpg.rf.d28814c1bb44451b3ea53ed7830a1888.jpg (deflated 4%)\n",
            "  adding: runs/classify/predict2/images_798_jpg.rf.8d0b77b8e586658f4d51b13a4b69469b.jpg (deflated 5%)\n",
            "  adding: runs/classify/predict2/images_532_jpg.rf.2281ed4d101bf4e0b14c4a06d31b6761.jpg (deflated 4%)\n",
            "  adding: runs/classify/predict2/images_019_jpg.rf.d1742e8e6f2e3a84f50c0c0ee41bad91.jpg (deflated 4%)\n",
            "  adding: runs/classify/predict2/images_384-2-_jpg.rf.c53da6a1a6981078d65371663858af94.jpg (deflated 4%)\n",
            "  adding: runs/classify/predict2/images_046_jpg.rf.8eeab51d7f8fcc652b49a05883b2e72d.jpg (deflated 5%)\n",
            "  adding: runs/classify/predict2/images_577_jpg.rf.fb5865c1e0b03ba0b3d534d8ec3c95b9.jpg (deflated 5%)\n",
            "  adding: runs/classify/predict2/images_702_jpg.rf.192ee0083644333d27603e6a15735fa1.jpg (deflated 3%)\n",
            "  adding: runs/classify/predict2/images_600-2-_jpg.rf.48fbfab98c6d6c2ce59e70c1998bc7e4.jpg (deflated 4%)\n",
            "  adding: runs/classify/predict2/images_421_jpg.rf.e83acb0516bdea0ee4d931b3a132129d.jpg (deflated 4%)\n",
            "  adding: runs/classify/predict2/images_801_jpg.rf.5afee519aa782ec3f9a7d2d553e54c09.jpg (deflated 4%)\n",
            "  adding: runs/classify/predict2/images_375-3-_jpg.rf.ca194f9a7ee4470cc8fa913847ff1b9a.jpg (deflated 4%)\n",
            "  adding: runs/classify/predict2/images_073-3-_jpg.rf.ed5c509bb6beff6e7f9a22dde3124550.jpg (deflated 4%)\n",
            "  adding: runs/classify/predict2/images_548-2-_jpg.rf.46d5226941bbb76b4c4761aa1aff5ed7.jpg (deflated 5%)\n",
            "  adding: runs/classify/predict2/images_497_jpg.rf.d9937342769b9b88ccc16f3621497c5e.jpg (deflated 4%)\n",
            "  adding: runs/classify/predict2/images_004_jpg.rf.4b6bbe104582d317bd464bef74313a56.jpg (deflated 4%)\n",
            "  adding: runs/classify/predict2/images_593_jpg.rf.e0ba154bcb7878c3f25feb2b6714ce93.jpg (deflated 5%)\n",
            "  adding: runs/classify/predict2/images_037-2-_jpg.rf.c9fb717a6940da8c0cbd8da3caed9e71.jpg (deflated 4%)\n",
            "  adding: runs/classify/predict2/images_270-2-_jpg.rf.ddea8db7c93b1565f927b9452f5e876e.jpg (deflated 4%)\n",
            "  adding: runs/classify/predict2/images_050_jpg.rf.9a167d1d927c0d81988dae5e317e814c.jpg (deflated 4%)\n",
            "  adding: runs/classify/predict2/images_431-2-_jpg.rf.89ca5104b891f17fb1ce92f2e4c56e07.jpg (deflated 5%)\n",
            "  adding: runs/classify/predict2/images_049_jpg.rf.02d61e774946c30afbbae3156b6e7f32.jpg (deflated 3%)\n",
            "  adding: runs/classify/predict2/images_498_jpg.rf.6393d7c734ab62c777258222ad40503f.jpg (deflated 4%)\n",
            "  adding: runs/classify/predict2/images_059-2-_jpg.rf.9598e7b6f38975fca35142d2d2ab444e.jpg (deflated 4%)\n",
            "  adding: runs/classify/predict2/images_086_jpg.rf.7e4c9370ee8e73b69de6afae7b0e5916.jpg (deflated 4%)\n",
            "  adding: runs/classify/predict2/images_461-2-_jpg.rf.a1ccd31a2c0b3b1a39b7fcf5d8cad0c2.jpg (deflated 5%)\n",
            "  adding: runs/classify/predict2/images_481-2-_jpg.rf.b7020aefab1bd1f61325993063e6ddc3.jpg (deflated 4%)\n",
            "  adding: runs/classify/predict2/images_522-4-_jpg.rf.30962352c2d65ef56b62338341047aff.jpg (deflated 5%)\n",
            "  adding: runs/classify/predict2/images_447-2-_jpg.rf.84b6b091b98b987229c586c084af2ec9.jpg (deflated 5%)\n",
            "  adding: runs/classify/predict2/images_514_jpg.rf.457cfc916d7f286bbd76ff34546e6cd3.jpg (deflated 4%)\n",
            "  adding: runs/classify/predict2/images_384-3-_jpg.rf.4cb8cefa0e73f3a16604833dc4a2d13b.jpg (deflated 4%)\n",
            "  adding: runs/classify/predict2/images_703-2-_jpg.rf.e8e21a797490e3b88494f4be0b641977.jpg (deflated 4%)\n",
            "  adding: runs/classify/predict2/images_248-2-_jpg.rf.92a2dbcb3012561a1cf086e622061b62.jpg (deflated 4%)\n",
            "  adding: runs/classify/predict2/images_232-2-_jpg.rf.fd268fdb3b8ae516e537c1851ba3d048.jpg (deflated 4%)\n",
            "  adding: runs/classify/predict2/images_550-3-_jpg.rf.c63ebc419aca8558c05ebcd1df461e0b.jpg (deflated 4%)\n",
            "  adding: runs/classify/predict2/images_509_jpg.rf.da3c031247c3ac9bd77e5c2678d173a3.jpg (deflated 4%)\n",
            "  adding: runs/classify/predict2/images_719_jpg.rf.2c900daf4d24ecff725a73a968967192.jpg (deflated 3%)\n",
            "  adding: runs/classify/predict2/images_087_jpg.rf.57d4344a690762db761bf2e3b191364c.jpg (deflated 4%)\n",
            "  adding: runs/classify/predict2/images_045_jpg.rf.fe9f09dca7ec9811794524c327b160bc.jpg (deflated 5%)\n",
            "  adding: runs/classify/predict2/images_047_jpg.rf.7f9c23319947db1bad444b70ecbde88f.jpg (deflated 4%)\n",
            "  adding: runs/classify/predict2/images_251-2-_jpg.rf.6530364f8305496886a8efb5395ef516.jpg (deflated 4%)\n",
            "  adding: runs/classify/predict2/images_519_jpg.rf.d77332c24bd984610b45218854ccdc11.jpg (deflated 4%)\n",
            "  adding: runs/classify/predict2/images_538_jpg.rf.ec981639083d114d80fff08cbe371e2a.jpg (deflated 4%)\n",
            "  adding: runs/classify/predict2/images_562-2-_jpg.rf.e935a0048f6960ed9518a0b61d47bb71.jpg (deflated 4%)\n",
            "  adding: runs/classify/predict2/images_631_jpg.rf.f597746eee42c482c9833cbfb23b1184.jpg (deflated 4%)\n",
            "  adding: runs/classify/predict2/images_488-2-_jpg.rf.07d09e11b8a961cd025ebd4d113d1c86.jpg (deflated 4%)\n",
            "  adding: runs/classify/predict2/images_037_jpg.rf.4745cfe0c75be890d97de73e30090c78.jpg (deflated 4%)\n",
            "  adding: runs/classify/predict2/images_715_jpg.rf.ddeffe9e85de091e826b87be8deb503a.jpg (deflated 4%)\n",
            "  adding: runs/classify/predict2/images_089_jpg.rf.0405a65549c189b7d736b89d814b9be0.jpg (deflated 4%)\n",
            "  adding: runs/classify/predict2/images_436_jpg.rf.1889f0ddcbbd1947c28bc6045d67dfb2.jpg (deflated 4%)\n",
            "  adding: runs/classify/predict2/images_388-2-_jpg.rf.48923ba9c3d82f797b5a887644207c44.jpg (deflated 5%)\n",
            "  adding: runs/classify/predict2/images_293_jpg.rf.fc849b86a25aca19a897e88bedd71861.jpg (deflated 5%)\n",
            "  adding: runs/classify/predict2/images_267_jpg.rf.7c108c6d25c00deb8a652ba01fd0e16e.jpg (deflated 4%)\n",
            "  adding: runs/classify/predict2/images_302_jpg.rf.90807f8442b59991fff13e715997ee01.jpg (deflated 4%)\n",
            "  adding: runs/classify/predict2/images_026-2-_jpg.rf.03859cd2fa1aedbb33349879b36f70cb.jpg (deflated 5%)\n",
            "  adding: runs/classify/predict2/images_420_jpg.rf.61136c6b2337bb4e2722936de7772f25.jpg (deflated 4%)\n",
            "  adding: runs/classify/predict2/images_286_jpg.rf.00a076a04b01fdaa7974960d5312c086.jpg (deflated 4%)\n",
            "  adding: runs/classify/predict2/images_459-2-_jpg.rf.1a82268b376c833381758364fd834616.jpg (deflated 4%)\n",
            "  adding: runs/classify/predict2/images_236-2-_jpg.rf.37ee09fe416bab6e5e01afe96db955a7.jpg (deflated 4%)\n",
            "  adding: runs/classify/predict2/images_011_jpg.rf.12ee2c628bf12af02cb7febff557f3dc.jpg (deflated 4%)\n",
            "  adding: runs/classify/predict2/images_618_jpg.rf.9869d7733fd9d0c08b509bb6e5b6b034.jpg (deflated 4%)\n",
            "  adding: runs/classify/predict2/images_645-2-_jpg.rf.9a80f6ed9e01516bc4bb0366148ec5f9.jpg (deflated 4%)\n",
            "  adding: runs/classify/predict2/images_516_jpg.rf.7886ee8b27dfefaf9ae9ddf581592a2e.jpg (deflated 4%)\n",
            "  adding: runs/classify/predict2/images_015_jpg.rf.8c365e65b201063b4d6cb4828f2f251a.jpg (deflated 4%)\n",
            "  adding: runs/classify/predict2/images_042-2-_jpg.rf.16f23151ef332384ba41d0184ba3886d.jpg (deflated 5%)\n",
            "  adding: runs/classify/predict2/images_320_jpg.rf.2af0c0ac3d2778e770cfef7235a55d38.jpg (deflated 4%)\n",
            "  adding: runs/classify/predict2/images_690-2-_jpg.rf.85795df84c55e0ffb9a160f1ac77f7df.jpg (deflated 4%)\n",
            "  adding: runs/classify/predict2/images_092_jpg.rf.2f9b26fff949e95eedecea5fa31dce22.jpg (deflated 5%)\n",
            "  adding: runs/classify/predict2/images_695_jpg.rf.fbeab23f06f881272bbd35e4f0805fd4.jpg (deflated 4%)\n",
            "  adding: runs/classify/predict2/images_508-2-_jpg.rf.417fcd22f045192d8ebb662bbe049fb7.jpg (deflated 3%)\n",
            "  adding: runs/classify/predict2/images_352_jpg.rf.f8b20298db8c40e056a3b73c835c1281.jpg (deflated 5%)\n",
            "  adding: runs/classify/predict2/images_105-2-_jpg.rf.f2703e295bed377348498e82c6469834.jpg (deflated 4%)\n",
            "  adding: runs/classify/predict2/images_005-2-_jpg.rf.1e65b2146a33e8fab67c55de6dc69dff.jpg (deflated 4%)\n",
            "  adding: runs/classify/predict2/images_673-2-_jpg.rf.37ff98708ac83ecf951c63a49772f6c3.jpg (deflated 4%)\n",
            "  adding: runs/classify/predict2/images_041-2-_jpg.rf.34a0ebafecb38b51a27da803a6da7641.jpg (deflated 5%)\n",
            "  adding: runs/classify/val/ (stored 0%)\n",
            "  adding: runs/classify/val2/ (stored 0%)\n",
            "  adding: runs/classify/val2/val_batch1_labels.jpg (deflated 1%)\n",
            "  adding: runs/classify/val2/confusion_matrix_normalized.png (deflated 26%)\n",
            "  adding: runs/classify/val2/confusion_matrix.png (deflated 29%)\n",
            "  adding: runs/classify/val2/val_batch0_pred.jpg (deflated 1%)\n",
            "  adding: runs/classify/val2/val_batch1_pred.jpg (deflated 1%)\n",
            "  adding: runs/classify/val2/val_batch2_labels.jpg (deflated 1%)\n",
            "  adding: runs/classify/val2/val_batch0_labels.jpg (deflated 1%)\n",
            "  adding: runs/classify/val2/val_batch2_pred.jpg (deflated 1%)\n",
            "  adding: runs/classify/train2/ (stored 0%)\n",
            "  adding: runs/classify/train2/val_batch1_labels.jpg (deflated 1%)\n",
            "  adding: runs/classify/train2/confusion_matrix_normalized.png (deflated 27%)\n",
            "  adding: runs/classify/train2/results.png (deflated 9%)\n",
            "  adding: runs/classify/train2/confusion_matrix.png (deflated 30%)\n",
            "  adding: runs/classify/train2/val_batch0_pred.jpg (deflated 1%)\n",
            "  adding: runs/classify/train2/train_batch2.jpg (deflated 2%)\n",
            "  adding: runs/classify/train2/val_batch1_pred.jpg (deflated 1%)\n",
            "  adding: runs/classify/train2/results.csv (deflated 90%)\n",
            "  adding: runs/classify/train2/train_batch25740.jpg (deflated 2%)\n",
            "  adding: runs/classify/train2/val_batch2_labels.jpg (deflated 1%)\n",
            "  adding: runs/classify/train2/weights/ (stored 0%)\n",
            "  adding: runs/classify/train2/weights/last.pt (deflated 9%)\n",
            "  adding: runs/classify/train2/weights/best.pt (deflated 9%)\n",
            "  adding: runs/classify/train2/events.out.tfevents.1713251459.abe732231387.3732.0 (deflated 91%)\n",
            "  adding: runs/classify/train2/val_batch0_labels.jpg (deflated 1%)\n",
            "  adding: runs/classify/train2/train_batch1.jpg (deflated 3%)\n",
            "  adding: runs/classify/train2/val_batch2_pred.jpg (deflated 1%)\n",
            "  adding: runs/classify/train2/train_batch25741.jpg (deflated 2%)\n",
            "  adding: runs/classify/train2/args.yaml (deflated 54%)\n",
            "  adding: runs/classify/train2/train_batch0.jpg (deflated 3%)\n",
            "  adding: runs/classify/train2/train_batch25742.jpg (deflated 2%)\n",
            "  adding: runs/classify/train2/events.out.tfevents.1713253257.abe732231387.1555.0 (deflated 90%)\n"
          ]
        },
        {
          "output_type": "display_data",
          "data": {
            "text/plain": [
              "<IPython.core.display.Javascript object>"
            ],
            "application/javascript": [
              "\n",
              "    async function download(id, filename, size) {\n",
              "      if (!google.colab.kernel.accessAllowed) {\n",
              "        return;\n",
              "      }\n",
              "      const div = document.createElement('div');\n",
              "      const label = document.createElement('label');\n",
              "      label.textContent = `Downloading \"${filename}\": `;\n",
              "      div.appendChild(label);\n",
              "      const progress = document.createElement('progress');\n",
              "      progress.max = size;\n",
              "      div.appendChild(progress);\n",
              "      document.body.appendChild(div);\n",
              "\n",
              "      const buffers = [];\n",
              "      let downloaded = 0;\n",
              "\n",
              "      const channel = await google.colab.kernel.comms.open(id);\n",
              "      // Send a message to notify the kernel that we're ready.\n",
              "      channel.send({})\n",
              "\n",
              "      for await (const message of channel.messages) {\n",
              "        // Send a message to notify the kernel that we're ready.\n",
              "        channel.send({})\n",
              "        if (message.buffers) {\n",
              "          for (const buffer of message.buffers) {\n",
              "            buffers.push(buffer);\n",
              "            downloaded += buffer.byteLength;\n",
              "            progress.value = downloaded;\n",
              "          }\n",
              "        }\n",
              "      }\n",
              "      const blob = new Blob(buffers, {type: 'application/binary'});\n",
              "      const a = document.createElement('a');\n",
              "      a.href = window.URL.createObjectURL(blob);\n",
              "      a.download = filename;\n",
              "      div.appendChild(a);\n",
              "      a.click();\n",
              "      div.remove();\n",
              "    }\n",
              "  "
            ]
          },
          "metadata": {}
        },
        {
          "output_type": "display_data",
          "data": {
            "text/plain": [
              "<IPython.core.display.Javascript object>"
            ],
            "application/javascript": [
              "download(\"download_9bd1ec37-5ccc-4e65-a6ca-d3927c899880\", \"runs.zip\", 26807599)"
            ]
          },
          "metadata": {}
        }
      ]
    }
  ],
  "metadata": {
    "accelerator": "GPU",
    "colab": {
      "provenance": [],
      "include_colab_link": true
    },
    "gpuClass": "standard",
    "kernelspec": {
      "display_name": "Python 3",
      "name": "python3"
    },
    "language_info": {
      "name": "python"
    }
  },
  "nbformat": 4,
  "nbformat_minor": 0
}